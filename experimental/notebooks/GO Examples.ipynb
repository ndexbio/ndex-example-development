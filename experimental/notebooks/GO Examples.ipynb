{
 "cells": [
  {
   "cell_type": "markdown",
   "metadata": {},
   "source": [
    "Load the Gene Ontology OBO file as an NdexGraph\n",
    "Load Human Gene Annotations\n",
    "to NDEx"
   ]
  },
  {
   "cell_type": "markdown",
   "metadata": {},
   "source": [
    "Use pronto for OBO file parsing"
   ]
  },
  {
   "cell_type": "code",
   "execution_count": 66,
   "metadata": {
    "collapsed": true
   },
   "outputs": [],
   "source": [
    "import ndex.client as nc\n",
    "import pronto\n",
    "from IPython.display import clear_output\n",
    "from IPython.display import display\n",
    "from IPython.display import Image\n",
    "from IPython.display import HTML\n",
    "\n",
    "import ipywidgets as widgets"
   ]
  },
  {
   "cell_type": "code",
   "execution_count": 78,
   "metadata": {
    "collapsed": false
   },
   "outputs": [
    {
     "name": "stdout",
     "output_type": "stream",
     "text": [
      "username = me\n",
      "username = drh\n",
      "password = drh\n",
      "connected as drh\n",
      "ndex has 3223 networks\n"
     ]
    }
   ],
   "source": [
    "username = False\n",
    "password = False\n",
    "my_ndex = False\n",
    "\n",
    "username_widget = widgets.Text(description=\"username\")\n",
    "display(username_widget)\n",
    "password_widget = widgets.Text(description=\"password\")\n",
    "display(password_widget)\n",
    "\n",
    "def handle_submit(sender):\n",
    "    if sender.description == \"username\":\n",
    "        print(\"username = %s\" % sender.value)\n",
    "        \n",
    "    if sender.description == \"password\":\n",
    "        password = sender.value\n",
    "        print(\"password = %s\" % password)\n",
    "        \n",
    "    if username_widget.value and password_widget.value:\n",
    "        my_ndex=nc.Ndex(\"http://public.ndexbio.org\", username_widget.value, password_widget.value)\n",
    "        print(\"connected as %s\" % username_widget.value)\n",
    "        my_ndex.update_status()\n",
    "        network_count = my_ndex.status.get(\"networkCount\")\n",
    "        print(\"ndex has %s networks\" % network_count)\n",
    "        \n",
    "    \n",
    "    \n",
    "\n",
    "username_widget.on_submit(handle_submit)\n",
    "password_widget.on_submit(handle_submit)\n",
    "\n",
    "# Create text widget for input\n",
    "#input_text = widgets.Text('enter your NDEx username...', description=\"input\")\n",
    "\n",
    "\n",
    "# Define function to bind value of the input to the output variable \n",
    "#def bind_input_to_output(sender):\n",
    "#    output_text.value = input_text.value\n",
    "\n",
    "# Tell the text input widget to call bind_input_to_output() on submit\n",
    "#input_text.on_submit(bind_input_to_output)\n",
    "#input_text\n",
    "#output_text\n"
   ]
  },
  {
   "cell_type": "code",
   "execution_count": null,
   "metadata": {
    "collapsed": true
   },
   "outputs": [],
   "source": [
    "# Display input text box widget for input\n",
    "input_text\n",
    "\n",
    "# Display output text box widget (will populate when value submitted in input)\n",
    "output_text\n",
    "\n",
    "# Display text value of string in output_text variable\n",
    "output_text.value\n",
    "\n",
    "# Define new string variable with value of output_text, do something to it\n",
    "uppercase_string = output_text.value.upper()\n",
    "print uppercase_string"
   ]
  },
  {
   "cell_type": "code",
   "execution_count": 59,
   "metadata": {
    "collapsed": true
   },
   "outputs": [],
   "source": [
    "widgets.Text(placeholder='enter your NDEx username...', description=\"username\")\n"
   ]
  },
  {
   "cell_type": "code",
   "execution_count": 46,
   "metadata": {
    "collapsed": true
   },
   "outputs": [],
   "source": [
    "widgets.Text(value='your password', description=\"password\")"
   ]
  },
  {
   "cell_type": "markdown",
   "metadata": {},
   "source": [
    "**go-basic.obo**\n",
    "\n",
    "*This is the basic version of the GO filtered such that the graph is guaranteed to be acyclic, and annotations can be propagated up the graph. The relations included are:*\n",
    "\n",
    "- is\\_a\n",
    "- part_of\n",
    "- regulates\n",
    "- negatively\\_regulates\n",
    "- positively\\_regulates. \n",
    "\n",
    "*This version **excludes** relationships that cross the 3 main GO hierarchies. This is the version that should be used with most GO-based annotation tools.*"
   ]
  },
  {
   "cell_type": "code",
   "execution_count": 51,
   "metadata": {
    "collapsed": false
   },
   "outputs": [
    {
     "name": "stdout",
     "output_type": "stream",
     "text": [
      "your NDEx username\n",
      "your password\n"
     ]
    }
   ],
   "source": [
    "print(username.value)\n",
    "print(password.value)"
   ]
  },
  {
   "cell_type": "markdown",
   "metadata": {},
   "source": [
    "The go-basic ontology is large and will take a while to load."
   ]
  },
  {
   "cell_type": "code",
   "execution_count": 33,
   "metadata": {
    "collapsed": false
   },
   "outputs": [
    {
     "name": "stdout",
     "output_type": "stream",
     "text": [
      "DONE!\n"
     ]
    }
   ],
   "source": [
    "#HTML('<img src=\"../img/InternetSlowdown_Day.gif\" alt=\"Loading...\" height=\"100\" width=\"100\">')\n",
    "#Image(filename=\"../img/Ambox_important.svg.png\")\n",
    "print(\"LOADING...\")\n",
    "ontology = pronto.Ontology(\"http://purl.obolibrary.org/obo/go/go-basic.obo\")\n",
    "clear_output()\n",
    "print(\"DONE!\")"
   ]
  },
  {
   "cell_type": "code",
   "execution_count": 31,
   "metadata": {
    "collapsed": false
   },
   "outputs": [
    {
     "name": "stdout",
     "output_type": "stream",
     "text": [
      "biological_process\n"
     ]
    }
   ],
   "source": [
    "biological_process = ontology[\"GO:0008150\"]\n",
    "print(biological_process.name)"
   ]
  },
  {
   "cell_type": "code",
   "execution_count": null,
   "metadata": {
    "collapsed": true
   },
   "outputs": [],
   "source": []
  }
 ],
 "metadata": {
  "kernelspec": {
   "display_name": "Python [Root]",
   "language": "python",
   "name": "Python [Root]"
  },
  "language_info": {
   "codemirror_mode": {
    "name": "ipython",
    "version": 2
   },
   "file_extension": ".py",
   "mimetype": "text/x-python",
   "name": "python",
   "nbconvert_exporter": "python",
   "pygments_lexer": "ipython2",
   "version": "2.7.12"
  }
 },
 "nbformat": 4,
 "nbformat_minor": 0
}
