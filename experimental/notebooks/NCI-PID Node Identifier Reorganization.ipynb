{
 "cells": [
  {
   "cell_type": "markdown",
   "metadata": {},
   "source": [
    "## NCI-PID Node Identifier Reorganization"
   ]
  },
  {
   "cell_type": "markdown",
   "metadata": {},
   "source": [
    "This notebook modifies the nodes in a network (or networks) in a set of the NCI-PID pathway networks as they were structured in November 2017\n",
    "\n",
    "This task was motivated by the needs of the CRAVAT/MuPIT application and their copy of the NCI-PID pathways.\n",
    "\n",
    "(But it is a general improvement for these networks and probably for other PathwayCommons EBS derived networks)\n",
    "\n",
    "The changes for each node representing:\n",
    "\n",
    "* Node name = HUGO gene symbol\n",
    "* represents attribute = NCBI gene id\n",
    "* Make uniprot protein symbol an alias\n"
   ]
  },
  {
   "cell_type": "markdown",
   "metadata": {},
   "source": [
    "<hr>\n",
    "Imports, username, password"
   ]
  },
  {
   "cell_type": "code",
   "execution_count": 2,
   "metadata": {
    "collapsed": false
   },
   "outputs": [],
   "source": [
    "import ndex2\n",
    "username = \"drh\"\n",
    "password = \"drh\""
   ]
  },
  {
   "cell_type": "markdown",
   "metadata": {},
   "source": [
    "Network or NetworkSet UUID"
   ]
  },
  {
   "cell_type": "code",
   "execution_count": 4,
   "metadata": {
    "collapsed": false
   },
   "outputs": [],
   "source": [
    "uuids = [\"6e798e11-6186-11e5-8ac5-06603eb7f303\"] # for one or more individually specified networks\n",
    "set_uuid = None # get uuids from set\n",
    "# if set_uuid: --- TBD when \n",
    "\n",
    "    "
   ]
  },
  {
   "cell_type": "markdown",
   "metadata": {},
   "source": [
    "mygene.info access function"
   ]
  },
  {
   "cell_type": "code",
   "execution_count": null,
   "metadata": {
    "collapsed": true
   },
   "outputs": [],
   "source": [
    "def query_mygene(q, tax_id='9606', entrezonly=True):\n",
    "    if entrezonly:\n",
    "        r = requests.get('http://mygene.info/v3/query?q='+q+'&species='+tax_id+'&entrezonly=true')\n",
    "    else:\n",
    "        r = requests.get('http://mygene.info/v3/query?q='+q+'&species='+tax_id)\n",
    "    result = r.json()\n",
    "    hits = result.get(\"hits\")\n",
    "    if hits and len(hits) > 0:\n",
    "        return = hits[0]\n",
    "    return False"
   ]
  },
  {
   "cell_type": "code",
   "execution_count": null,
   "metadata": {
    "collapsed": true
   },
   "outputs": [],
   "source": [
    "# per node update method\n",
    "def update_node (node):\n",
    "    name = node.name\n",
    "    my_gene_info = \n",
    "\n",
    "# create output network set\n",
    "\n",
    "# iteration over networks\n",
    "for network_uuid in uuids:\n",
    "    # load network in NiceCX\n",
    "    ncx = ndex2.create_nice_cx_from_server(server='public.ndexbio.org', uuid=network_uuid)\n",
    "    for node in ncx\n",
    "\n",
    "\n",
    "\n",
    "\n",
    "# iteration over nodes & alias attribute\n",
    "\n",
    "# output network - in output set\n"
   ]
  }
 ],
 "metadata": {
  "kernelspec": {
   "display_name": "Python [py36]",
   "language": "python",
   "name": "Python [py36]"
  },
  "language_info": {
   "codemirror_mode": {
    "name": "ipython",
    "version": 3
   },
   "file_extension": ".py",
   "mimetype": "text/x-python",
   "name": "python",
   "nbconvert_exporter": "python",
   "pygments_lexer": "ipython3",
   "version": "3.6.1"
  }
 },
 "nbformat": 4,
 "nbformat_minor": 0
}
