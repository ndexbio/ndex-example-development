{
 "cells": [
  {
   "cell_type": "markdown",
   "metadata": {},
   "source": [
    "# Modify an NDEx Network using NiceCX"
   ]
  },
  {
   "cell_type": "markdown",
   "metadata": {},
   "source": [
    "In this notebook, you will retrieve a public example network from NDEx, modify it, and then write it as a new, private network in your account. Optionally, you can modify and update a network that you own. "
   ]
  },
  {
   "cell_type": "markdown",
   "metadata": {},
   "source": [
    "import the ndex2 Python client"
   ]
  },
  {
   "cell_type": "code",
   "execution_count": 1,
   "metadata": {
    "collapsed": false
   },
   "outputs": [],
   "source": [
    "import ndex2"
   ]
  },
  {
   "cell_type": "markdown",
   "metadata": {},
   "source": [
    "Next, set a variable to hold the UUID of the network we want to modify"
   ]
  },
  {
   "cell_type": "code",
   "execution_count": 2,
   "metadata": {
    "collapsed": true
   },
   "outputs": [],
   "source": [
    "my_network_uuid = 'd3c5ca09-bb42-11e7-94d3-0ac135e8bacf'"
   ]
  },
  {
   "cell_type": "markdown",
   "metadata": {},
   "source": [
    "Set variables to hold your account and password "
   ]
  },
  {
   "cell_type": "code",
   "execution_count": 3,
   "metadata": {
    "collapsed": true
   },
   "outputs": [],
   "source": [
    "my_account = \"drh\"\n",
    "my_password = \"drh\""
   ]
  },
  {
   "cell_type": "markdown",
   "metadata": {},
   "source": [
    "Create a NiceCX network from the example network in the NDEx Tutorials account. If you would rather use a network in your own directory - perhaps made by cloning the example network - then provide your account and password as shown in the commented line."
   ]
  },
  {
   "cell_type": "code",
   "execution_count": 5,
   "metadata": {
    "collapsed": false
   },
   "outputs": [
    {
     "name": "stdout",
     "output_type": "stream",
     "text": [
      "downloading network and buiding NiceCX...\n",
      "done\n",
      "Name: SIGNOR - Complete Data\n",
      "Nodes: 4172\n",
      "Edges: 17099\n",
      "Node Attributes: 4172\n",
      "Edge Attributes: 17099\n",
      "\n"
     ]
    }
   ],
   "source": [
    "print(\"downloading network and buiding NiceCX...\")\n",
    "my_network = ndex2.create_nice_cx_from_server(server='public.ndexbio.org', uuid=my_network_uuid)\n",
    "#my_network = ndex2.create_nice_cx_from_server(server='public.ndexbio.org', uuid=my_network_uuid, account=my_account, password = my_password)\n",
    "print(\"done\")\n",
    "print(my_network.get_summary())"
   ]
  },
  {
   "cell_type": "markdown",
   "metadata": {},
   "source": [
    "The plan is to modify the network by merging two node attributes into one, where the two attributes were created by loading a table of edges with source and target node colums.\n",
    "\n",
    "Steps:\n",
    "\n",
    "* Iterate over all the nodes in the network and for each one we check the values of the two \"source\" attributes. \n",
    "* Add the new attribute based on the OR of the source attributes. \n",
    "* Finally, delete the two original source attributes\n"
   ]
  },
  {
   "cell_type": "code",
   "execution_count": 6,
   "metadata": {
    "collapsed": false
   },
   "outputs": [
    {
     "ename": "TypeError",
     "evalue": "get_node_attribute() takes 2 positional arguments but 3 were given",
     "output_type": "error",
     "traceback": [
      "\u001b[0;31m---------------------------------------------------------------------------\u001b[0m",
      "\u001b[0;31mTypeError\u001b[0m                                 Traceback (most recent call last)",
      "\u001b[0;32m<ipython-input-6-6eb64438e5de>\u001b[0m in \u001b[0;36m<module>\u001b[0;34m()\u001b[0m\n\u001b[1;32m      6\u001b[0m \u001b[0;34m\u001b[0m\u001b[0m\n\u001b[1;32m      7\u001b[0m \u001b[0;32mfor\u001b[0m \u001b[0mnode_id\u001b[0m\u001b[0;34m,\u001b[0m \u001b[0mnode\u001b[0m \u001b[0;32min\u001b[0m \u001b[0mmy_network\u001b[0m\u001b[0;34m.\u001b[0m\u001b[0mnodes\u001b[0m\u001b[0;34m.\u001b[0m\u001b[0mitems\u001b[0m\u001b[0;34m(\u001b[0m\u001b[0;34m)\u001b[0m\u001b[0;34m:\u001b[0m\u001b[0;34m\u001b[0m\u001b[0m\n\u001b[0;32m----> 8\u001b[0;31m     \u001b[0mvalue1\u001b[0m \u001b[0;34m=\u001b[0m \u001b[0mmy_network\u001b[0m\u001b[0;34m.\u001b[0m\u001b[0mget_node_attribute\u001b[0m\u001b[0;34m(\u001b[0m\u001b[0mnode\u001b[0m\u001b[0;34m,\u001b[0m \u001b[0msource_attribute1\u001b[0m\u001b[0;34m)\u001b[0m\u001b[0;34m\u001b[0m\u001b[0m\n\u001b[0m\u001b[1;32m      9\u001b[0m     \u001b[0mvalue2\u001b[0m \u001b[0;34m=\u001b[0m \u001b[0mmy_network\u001b[0m\u001b[0;34m.\u001b[0m\u001b[0mget_node_attribute\u001b[0m\u001b[0;34m(\u001b[0m\u001b[0mnode\u001b[0m\u001b[0;34m,\u001b[0m \u001b[0msource_attribute2\u001b[0m\u001b[0;34m)\u001b[0m\u001b[0;34m\u001b[0m\u001b[0m\n\u001b[1;32m     10\u001b[0m     \u001b[0mmerged_value\u001b[0m \u001b[0;34m=\u001b[0m \u001b[0mvalue1\u001b[0m \u001b[0;32mor\u001b[0m \u001b[0mvalue2\u001b[0m\u001b[0;34m\u001b[0m\u001b[0m\n",
      "\u001b[0;31mTypeError\u001b[0m: get_node_attribute() takes 2 positional arguments but 3 were given"
     ]
    }
   ],
   "source": [
    "# (for clarity, this example code is rather verbose)\n",
    "\n",
    "source_attribute1 = \"TYPEA\"\n",
    "source_attribute2 = \"TYPEB\"\n",
    "target_attribute = \"TYPE\"\n",
    "\n",
    "for node_id, node in my_network.nodes.items():\n",
    "    value1 = my_network.get_node_attribute(node, source_attribute1)\n",
    "    value2 = my_network.get_node_attribute(node, source_attribute2)\n",
    "    merged_value = value1 or value2\n",
    "    if merged_value:\n",
    "        my_network.set_node_attribute(node, target_attribute, value)\n",
    "        my_network.remove_node_attribute(node, source_attribute1)\n",
    "        my_network.remove_node_attribute(node, source_attribute2)\n"
   ]
  },
  {
   "cell_type": "markdown",
   "metadata": {},
   "source": [
    "Spot-check the network by printing out a sample of the nodes in the modified network"
   ]
  },
  {
   "cell_type": "code",
   "execution_count": null,
   "metadata": {
    "collapsed": false
   },
   "outputs": [],
   "source": [
    "counter = 0\n",
    "for id, node = my_network.get_nodes():\n",
    "    if counter > 3:\n",
    "        break;\n",
    "    print(node.get_name)\n",
    "    print(my_network.get_node_attribute(node, \"represents\")\n",
    "    print(target_attribute + \" = \" + my_network.get_node_attribute(node, target_attribute)"
   ]
  },
  {
   "cell_type": "markdown",
   "metadata": {},
   "source": [
    "Upload the network to your NDEx account as a new network.\n",
    "\n",
    "If you started by loading an one of your networks (such as a clone of the example network), then you can *update* it instead, overwriting its content. \n",
    "\n",
    "In the commented line of below, the optional parameter *update_uuid* specifies the update behavior."
   ]
  },
  {
   "cell_type": "code",
   "execution_count": null,
   "metadata": {
    "collapsed": true
   },
   "outputs": [],
   "source": [
    "upload_message = my_network.upload(my_server, my_account, my_password)\n",
    "# upload_message = my_network.upload(my_server, my_account, my_password, update_uuid=my_network_uuid)\n",
    "print(upload_message)"
   ]
  }
 ],
 "metadata": {
  "anaconda-cloud": {},
  "kernelspec": {
   "display_name": "Python [py36]",
   "language": "python",
   "name": "Python [py36]"
  },
  "language_info": {
   "codemirror_mode": {
    "name": "ipython",
    "version": 3
   },
   "file_extension": ".py",
   "mimetype": "text/x-python",
   "name": "python",
   "nbconvert_exporter": "python",
   "pygments_lexer": "ipython3",
   "version": "3.6.1"
  }
 },
 "nbformat": 4,
 "nbformat_minor": 0
}
