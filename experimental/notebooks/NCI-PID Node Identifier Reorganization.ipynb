{
 "cells": [
  {
   "cell_type": "markdown",
   "metadata": {},
   "source": [
    "## NCI-PID Node Identifier Reorganization"
   ]
  },
  {
   "cell_type": "markdown",
   "metadata": {},
   "source": [
    "This notebook modifies the nodes in a network (or networks) in a set of the NCI-PID pathway networks as they were structured in November 2017\n",
    "\n",
    "This task was motivated by the needs of the CRAVAT/MuPIT application and their copy of the NCI-PID pathways.\n",
    "\n",
    "(But it is a general improvement for these networks and probably for other PathwayCommons EBS derived networks)\n",
    "\n",
    "The changes for each node representing:\n",
    "\n",
    "* Node name = HUGO gene symbol\n",
    "* represents attribute = NCBI gene id\n",
    "* Make the former name be an alias\n"
   ]
  },
  {
   "cell_type": "markdown",
   "metadata": {},
   "source": [
    "<hr>\n",
    "Imports, username, password"
   ]
  },
  {
   "cell_type": "code",
   "execution_count": 15,
   "metadata": {},
   "outputs": [],
   "source": [
    "import ndex2\n",
    "import json\n",
    "import requests\n",
    "my_username = \"drh\"\n",
    "my_password = \"drh\"\n",
    "my_server = 'public.ndexbio.org'"
   ]
  },
  {
   "cell_type": "markdown",
   "metadata": {},
   "source": [
    "Network or NetworkSet UUID"
   ]
  },
  {
   "cell_type": "code",
   "execution_count": 2,
   "metadata": {},
   "outputs": [],
   "source": [
    "uuids = [\"6e798e11-6186-11e5-8ac5-06603eb7f303\"] # for one or more individually specified networks\n",
    "set_uuid = None # get uuids from set\n",
    "# if set_uuid: --- TBD when \n",
    "\n",
    "    "
   ]
  },
  {
   "cell_type": "markdown",
   "metadata": {},
   "source": [
    "mygene.info access function"
   ]
  },
  {
   "cell_type": "code",
   "execution_count": 45,
   "metadata": {},
   "outputs": [],
   "source": [
    "def query_mygene_x(q, tax_id='9606', entrezonly=True):\n",
    "    if entrezonly:\n",
    "        r = requests.get('http://mygene.info/v3/query?q='+q+'&species='+tax_id+'&entrezonly=true')\n",
    "    else:\n",
    "        r = requests.get('http://mygene.info/v3/query?q='+q+'&species='+tax_id)\n",
    "    result = r.json()\n",
    "    hits = result.get(\"hits\")\n",
    "    if hits and len(hits) > 0:\n",
    "        return hits[0]\n",
    "    return False\n",
    "\n",
    "def query_batch(query_string, tax_id='9606', scopes=\"symbol, entrezgene, alias, uniprot\", fields=\"symbol, entrezgene\"):\n",
    "    data = {'species': tax_id,\n",
    "            'scopes': scopes,\n",
    "            'fields': fields,\n",
    "            'q': query_string}\n",
    "    r = requests.post('http://mygene.info/v3/query', data)\n",
    "    json = r.json()\n",
    "    return json\n",
    "\n",
    "def query_mygene(q):\n",
    "    hits = query_batch(q)\n",
    "    for hit in hits:\n",
    "        symbol = hit.get('symbol')\n",
    "        id = hit.get('entrezgene')\n",
    "        if symbol and id:\n",
    "            return (symbol, id)\n",
    "    return None\n",
    "\n",
    "# per node update method\n",
    "def update_node (node, nicecx):\n",
    "    print(\"\\nnode %s\" % node.get_name())\n",
    "    aliases = nicecx.get_node_attribute(node, \"alias\")\n",
    "    #print(\"aliases: %s\" % aliases)\n",
    "    # if aliases:\n",
    "        # aliases.push(name)\n",
    "    # else:\n",
    "        # aliases = [name]\n",
    "    \n",
    "    hit = query_mygene(node.get_name())\n",
    "    if hit:\n",
    "        print(\"hit: %s\" % json.dumps(hit, indent=4))\n",
    "    else:\n",
    "        succeed = False\n",
    "        for alias in aliases:\n",
    "            # assume uniprot\n",
    "            id = alias.split(':')[-1]\n",
    "            hit = query_mygene(id)\n",
    "            if hit:\n",
    "                print(\"hit: %s\" % json.dumps(hit, indent=4))\n",
    "                succeed = True\n",
    "                break\n",
    "        if not succeed:\n",
    "            print(\"no gene hit for node %s \" % node.get_name())"
   ]
  },
  {
   "cell_type": "code",
   "execution_count": 46,
   "metadata": {},
   "outputs": [
    {
     "name": "stdout",
     "output_type": "stream",
     "text": [
      "\n",
      "node GTP\n",
      "hit: [\n",
      "    \"MTG1\",\n",
      "    92170\n",
      "]\n",
      "\n",
      "node RHOA\n",
      "hit: [\n",
      "    \"RHOA\",\n",
      "    387\n",
      "]\n",
      "\n",
      "node VCAM1\n",
      "hit: [\n",
      "    \"VCAM1\",\n",
      "    7412\n",
      "]\n",
      "\n",
      "node FAK1\n",
      "hit: [\n",
      "    \"PTK2\",\n",
      "    5747\n",
      "]\n",
      "\n",
      "node ITB1\n",
      "hit: [\n",
      "    \"ITGB1\",\n",
      "    3688\n",
      "]\n",
      "\n",
      "node MADCA\n",
      "hit: [\n",
      "    \"MADCAM1\",\n",
      "    8174\n",
      "]\n",
      "\n",
      "node ITB7\n",
      "hit: [\n",
      "    \"ITGB7\",\n",
      "    3695\n",
      "]\n",
      "\n",
      "node ITA4\n",
      "hit: [\n",
      "    \"ITGA4\",\n",
      "    3676\n",
      "]\n",
      "\n",
      "node PAXI\n",
      "hit: [\n",
      "    \"PXN\",\n",
      "    5829\n",
      "]\n"
     ]
    }
   ],
   "source": [
    "# TBD: create output network set\n",
    "\n",
    "# iteration over networks\n",
    "for network_uuid in uuids:\n",
    "    # load network in NiceCX\n",
    "    ncx = ndex2.create_nice_cx_from_server(server=my_server, uuid=network_uuid)\n",
    "    for id, node in ncx.get_nodes():\n",
    "        update_node(node, ncx)\n",
    "    # output network (TBD: in output set)\n",
    "    #print(\"writing %s \" % ncx.get_name())\n",
    "    #ncx.upload_to(my_server, my_username, my_password)\n",
    "    "
   ]
  },
  {
   "cell_type": "code",
   "execution_count": null,
   "metadata": {
    "collapsed": true
   },
   "outputs": [],
   "source": []
  }
 ],
 "metadata": {
  "kernelspec": {
   "display_name": "Python 3",
   "language": "python",
   "name": "python3"
  },
  "language_info": {
   "codemirror_mode": {
    "name": "ipython",
    "version": 3
   },
   "file_extension": ".py",
   "mimetype": "text/x-python",
   "name": "python",
   "nbconvert_exporter": "python",
   "pygments_lexer": "ipython3",
   "version": "3.6.1"
  }
 },
 "nbformat": 4,
 "nbformat_minor": 1
}
