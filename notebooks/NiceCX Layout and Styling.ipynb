{
 "cells": [
  {
   "cell_type": "markdown",
   "metadata": {
    "collapsed": true
   },
   "source": [
    "# NiceCX Layout and Styling"
   ]
  },
  {
   "cell_type": "markdown",
   "metadata": {},
   "source": [
    "This tutorial demonstrates the use of NiceCX to apply a layout and a Cytoscape graphic style to an NDEx network, writing it back to NDEx"
   ]
  },
  {
   "cell_type": "markdown",
   "metadata": {},
   "source": [
    "### Import Packages"
   ]
  },
  {
   "cell_type": "code",
   "execution_count": null,
   "metadata": {},
   "outputs": [],
   "source": [
    "import ndex2\n",
    "import networkx as nx\n",
    "import json"
   ]
  },
  {
   "cell_type": "markdown",
   "metadata": {},
   "source": [
    "Writing a network to NDEx requires the server address (defaulting to the public NDEx Server) and user credentials. Edit the lines below to set the variables."
   ]
  },
  {
   "cell_type": "code",
   "execution_count": null,
   "metadata": {
    "collapsed": true
   },
   "outputs": [],
   "source": [
    "my_server = 'public.ndexbio.org'\n",
    "my_username = \"username\"\n",
    "my_password = \"password\""
   ]
  },
  {
   "cell_type": "markdown",
   "metadata": {},
   "source": [
    "### Load a Network"
   ]
  },
  {
   "cell_type": "code",
   "execution_count": null,
   "metadata": {},
   "outputs": [],
   "source": [
    "alk1_signaling_events_uuid = 'da171b21-df7e-11e7-adc1-0ac135e8bacf'\n",
    "print(\"downloading network and buiding NiceCX...\")\n",
    "alk1_signaling_events = ndex2.create_nice_cx_from_server(server='public.ndexbio.org', uuid=alk1_signaling_events_uuid)\n",
    "print(\"------\")\n",
    "print(alk1_signaling_events.get_summary())"
   ]
  },
  {
   "cell_type": "markdown",
   "metadata": {
    "collapsed": true
   },
   "source": [
    "### Apply Cytoscape Visual Properties from a Template Network"
   ]
  },
  {
   "cell_type": "markdown",
   "metadata": {},
   "source": [
    "Cytoscape has options for styling your graph such as coloration, directional arrow design, etc. NiceCX provides a method to style a network with the Cytoscape Visual Properties of another network. \n",
    "\n",
    "For this exercise, we use the \"tutorial_template\" network from the NDEx Tutorials account that was designed as a template. "
   ]
  },
  {
   "cell_type": "markdown",
   "metadata": {},
   "source": [
    "tutorial_template uses the attribute 'st_layout' to determine the coloration of your nodes. Also, the edges are directed (there are arrows pointing in a direction) depending on how you created each edge. The first node that you list points to the second node. This is what the template looks like:"
   ]
  },
  {
   "cell_type": "code",
   "execution_count": null,
   "metadata": {},
   "outputs": [],
   "source": [
    "tutorial_template_id = '4f53171c-600f-11e6-b0a6-06603eb7f303'\n",
    "alk1_signaling_events.apply_template(username=my_username, password=my_password, server=my_server, uuid=tutorial_template_id)"
   ]
  },
  {
   "cell_type": "markdown",
   "metadata": {},
   "source": [
    "### Use NetworkX to Apply a Graph Layout"
   ]
  },
  {
   "cell_type": "markdown",
   "metadata": {},
   "source": [
    "Create a NetworkX graph based on my_network"
   ]
  },
  {
   "cell_type": "code",
   "execution_count": null,
   "metadata": {
    "scrolled": true
   },
   "outputs": [],
   "source": [
    "my_networkx = alk1_signaling_events.to_networkx()"
   ]
  },
  {
   "cell_type": "markdown",
   "metadata": {},
   "source": [
    "Perform a circular layout with NetworkX"
   ]
  },
  {
   "cell_type": "code",
   "execution_count": null,
   "metadata": {},
   "outputs": [],
   "source": [
    "my_networkx.pos = nx.drawing.circular_layout(my_networkx, scale=300)"
   ]
  },
  {
   "cell_type": "markdown",
   "metadata": {},
   "source": [
    "Set the cartesianLayout aspect of the network based on the node coordinates of the NetworkX graph."
   ]
  },
  {
   "cell_type": "code",
   "execution_count": null,
   "metadata": {},
   "outputs": [],
   "source": [
    "def cartesian(G):\n",
    "    return [\n",
    "        {'node': n, 'x': float(G.pos[n][0]), 'y': float(G.pos[n][1])}\n",
    "        for n in G.pos\n",
    "        ]\n",
    "\n",
    "cartesian_aspect_elements = cartesian(my_networkx)\n",
    "alk1_signaling_events.set_opaque_aspect(\"cartesianLayout\", cartesian_aspect_elements)\n",
    "print(json.dumps(alk1_signaling_events.get_opaque_aspect(\"cartesianLayout\"), indent=4))"
   ]
  },
  {
   "cell_type": "markdown",
   "metadata": {},
   "source": [
    "### Upload The Formatted Network"
   ]
  },
  {
   "cell_type": "markdown",
   "metadata": {},
   "source": [
    "Upload my_network to your NDEx account as a new network.\n",
    "\n",
    "If you started by loading an one of **your** networks (such as a clone of the example network), then you can **update** it instead, overwriting its content. \n",
    "\n",
    "In the commented line below, the optional parameter *update_uuid* specifies the UUID of the network to be updated."
   ]
  },
  {
   "cell_type": "code",
   "execution_count": null,
   "metadata": {},
   "outputs": [],
   "source": [
    "upload_message = alk1_signaling_events.upload_to(my_server, my_username, my_password)\n",
    "# upload_message = my_network.upload_to(my_server, my_account, my_password, update_uuid=my_network_uuid)\n",
    "print(upload_message)"
   ]
  }
 ],
 "metadata": {
  "kernelspec": {
   "display_name": "Python [conda env:py36]",
   "language": "python",
   "name": "conda-env-py36-py"
  },
  "language_info": {
   "codemirror_mode": {
    "name": "ipython",
    "version": 3
   },
   "file_extension": ".py",
   "mimetype": "text/x-python",
   "name": "python",
   "nbconvert_exporter": "python",
   "pygments_lexer": "ipython3",
   "version": "3.6.1"
  }
 },
 "nbformat": 4,
 "nbformat_minor": 1
}
