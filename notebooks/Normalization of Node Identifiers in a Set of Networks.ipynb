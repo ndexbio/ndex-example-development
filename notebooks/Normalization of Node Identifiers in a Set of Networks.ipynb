{
 "cells": [
  {
   "cell_type": "markdown",
   "metadata": {},
   "source": [
    "## Normalization of Node Identifiers "
   ]
  },
  {
   "cell_type": "markdown",
   "metadata": {},
   "source": [
    "This notebook demonstrates the normalization of the node identifiers in a set of networks. A set of example networks is cloned to your account and then each network is updated in turn. The normalization of the identifiers is performed using the mygene.info resource. The example networks are copies of selected NCI-PID networks, made in 2017.\n",
    "\n",
    "The tutorial demonstrates\n",
    "* Using Network Sets\n",
    "* Cloning networks\n",
    "* Using the mygene.info resource\n",
    "* Updating networks\n",
    "* Use of the @context aspect of a network\n",
    "\n",
    "#### Updates to Each Node:\n",
    "\n",
    "Identifiers are formatted using standard prefixes and the namespaces used are defined in the @context aspect of the network. \n",
    "* Node \"name\" = HGNC gene symbol (without prefix) i.e. **TP53**\n",
    "* Node \"represents\" = NCBI gene id, i.e. **ncbigene:7689**\n",
    "* The *former* node name is added to the values of the node attribute \"alias\" (i.e. the aliases)\n",
    "* The HGNC gene symbol *with* prefix is added the aliases\n",
    "* Uniprot identifiers in the aliases are updated to use the standard \"uniprot\" prefix\n"
   ]
  },
  {
   "cell_type": "markdown",
   "metadata": {},
   "source": [
    "### Import Packages"
   ]
  },
  {
   "cell_type": "code",
   "execution_count": 1,
   "metadata": {
    "collapsed": true
   },
   "outputs": [],
   "source": [
    "import ndex2\n",
    "import json\n",
    "import requests\n",
    "from os.path import isfile, expanduser\n",
    "import ndex2.client as nc\n",
    "from datetime import datetime"
   ]
  },
  {
   "cell_type": "markdown",
   "metadata": {},
   "source": [
    "### NDEx Credentials\n",
    "\n",
    "Get the username and password to access your account from ndex_tutorial_config.json in your home directory. This file should have the following structure:\n",
    "\n",
    "    {\n",
    "      \"username\" : \"<my_username>\",\n",
    "      \"password\" : \"<my_password>\"\n",
    "    }\n"
   ]
  },
  {
   "cell_type": "code",
   "execution_count": 2,
   "metadata": {
    "collapsed": true
   },
   "outputs": [],
   "source": [
    "config_file = expanduser(\"~/ndex_tutorial_config.json\")\n",
    "my_username = None\n",
    "my_password = None\n",
    "my_server = 'public.ndexbio.org'\n",
    "save_tutorial_networks_to_my_account = True\n",
    "\n",
    "if(isfile(config_file)):\n",
    "    file = open(config_file, \"r\")\n",
    "    data = json.load(file)\n",
    "    file.close()\n",
    "    if data.get(\"password\") and data.get(\"username\"):\n",
    "        my_username = data.get(\"username\")\n",
    "        my_password = data.get(\"password\")\n",
    "    else:\n",
    "        print(\"Error: \" + config_file + \" does not define username and password\")\n",
    "else:\n",
    "    print(\"Error: \" + config_file + \" was not found\")"
   ]
  },
  {
   "cell_type": "markdown",
   "metadata": {},
   "source": [
    "### Get the Example Network Set by UUID"
   ]
  },
  {
   "cell_type": "code",
   "execution_count": 3,
   "metadata": {
    "collapsed": false
   },
   "outputs": [
    {
     "name": "stdout",
     "output_type": "stream",
     "text": [
      "GET route: http://public.ndexbio.org/v2/networkset/a70f9299-d6f0-11e7-adc1-0ac135e8bacf\n",
      "status code: 200\n",
      "Number of networks: 212\n"
     ]
    }
   ],
   "source": [
    "#my_network_set = '71cde621-deb7-11e7-adc1-0ac135e8bacf'\n",
    "my_network_set = 'a70f9299-d6f0-11e7-adc1-0ac135e8bacf'\n",
    "\n",
    "cravat_username = 'cravat2017'\n",
    "cravat_password = 'cravat2017'\n",
    "\n",
    "ndex2_client = nc.Ndex2(host=my_server, username=my_username, password=my_password, debug=True)\n",
    "ndex2_client_cravat = nc.Ndex2(host=my_server, username=cravat_username, password=cravat_password, debug=True)\n",
    "\n",
    "set_response = ndex2_client_cravat.get_network_set(my_network_set)\n",
    "uuids = set_response.get('networks')  # for one or more individually specified networks\n",
    "\n",
    "print('Number of networks: ' + str(len(uuids)))"
   ]
  },
  {
   "cell_type": "markdown",
   "metadata": {},
   "source": [
    "### Functions to Access mygene.info and Update Nodes"
   ]
  },
  {
   "cell_type": "code",
   "execution_count": 4,
   "metadata": {
    "collapsed": true
   },
   "outputs": [],
   "source": [
    "def query_mygene_x(q, tax_id='9606', entrezonly=True):\n",
    "    if entrezonly:\n",
    "        r = requests.get('http://mygene.info/v3/query?q=' + q + '&species=' + tax_id + '&entrezonly=true')\n",
    "    else:\n",
    "        r = requests.get('http://mygene.info/v3/query?q=' + q + '&species=' + tax_id)\n",
    "    result = r.json()\n",
    "    hits = result.get(\"hits\")\n",
    "    if hits and len(hits) > 0:\n",
    "        return hits[0]\n",
    "    return False\n",
    "\n",
    "\n",
    "def query_batch(query_string, tax_id='9606', scopes=\"symbol, entrezgene, alias, uniprot\", fields=\"symbol, entrezgene, uniprot\"):\n",
    "    data = {'species': tax_id,\n",
    "            'scopes': scopes,\n",
    "            'fields': fields,\n",
    "            'q': query_string}\n",
    "    r = requests.post('http://mygene.info/v3/query', data)\n",
    "\n",
    "    json = r.json()\n",
    "    \n",
    "    if isinstance(json, dict) and not json.get('success'):\n",
    "        return []\n",
    "    else:\n",
    "        return json\n",
    "\n",
    "\n",
    "def query_mygene(q):\n",
    "    hits = query_batch(q)\n",
    "    for hit in hits:\n",
    "        symbol = hit.get('symbol')\n",
    "        id = hit.get('entrezgene')\n",
    "        if symbol and id:\n",
    "            return (symbol, id)\n",
    "    return None\n",
    "\n",
    "# per node update method\n",
    "def update_node(node, nicecx):\n",
    "    #print(\"\\nnode %s\" % node.get_name())\n",
    "    original_node_name = node.get_name().replace('_HUMAN', '')\n",
    "    aliases = nicecx.get_node_attribute(node, \"alias\")\n",
    "    #print(\"aliases: %s\" % aliases)\n",
    "    query_string = ''\n",
    "\n",
    "    alias_tmp = []\n",
    "    non_uniprot_aliases = []\n",
    "\n",
    "    if aliases is not None:\n",
    "        for alias in aliases:\n",
    "            # assume uniprot --> uniprot:1234\n",
    "            split_alias = alias.split(':')\n",
    "            id = split_alias[-1]\n",
    "            #print(alias)\n",
    "            if 'uniprot' not in split_alias[0].lower():\n",
    "                non_uniprot_aliases.append(alias)\n",
    "            else:\n",
    "                query_string += str(id) + ' '\n",
    "            \n",
    "        #print(query_string)\n",
    "        #print(non_uniprot_aliases)\n",
    "        #print(alias_tmp)\n",
    "        hits = query_batch(query_string)\n",
    "        #print(hits)\n",
    "    else:\n",
    "        hits = []\n",
    "        \n",
    "    alias_tmp = []\n",
    "    for hit in hits:\n",
    "        symbol = hit.get('symbol')\n",
    "        id = hit.get('entrezgene')\n",
    "        uniprot = hit.get('_id')\n",
    "        \n",
    "        if symbol and id:\n",
    "            if len(alias_tmp) > 0: \n",
    "                #print(hits)\n",
    "                # IF WE REACH THIS POINT WE ASSUME THIS\n",
    "                # IS A PROTIEN FAMILY. RESET THE NODE \n",
    "                # BACK TO THE PROTIEN FAMILY NAME\n",
    "                node.set_node_name(original_node_name)\n",
    "                nicecx.set_node_attribute(node, 'type', 'Protein_Family')\n",
    "\n",
    "            else:\n",
    "                node.set_node_name(symbol)\n",
    "                node.set_node_represents('ncbigene:' + str(id))\n",
    "\n",
    "            alias_tmp.append('hgnc.symbol:' + symbol)\n",
    "            alias_tmp.append('ncbigene:' + str(id))\n",
    "\n",
    "            if uniprot is not None:\n",
    "                alias_tmp.append('uniprot:' + uniprot)\n",
    "            else:\n",
    "                raise Exception('uniprot not found ' + symbol)\n",
    "        \n",
    "    if len(alias_tmp) > 0:\n",
    "        alias_tmp = list(set(alias_tmp).union(set(non_uniprot_aliases)))\n",
    "        nicecx.set_node_attribute(node, \"alias\", alias_tmp)\n",
    "    else:\n",
    "        node.set_node_name(original_node_name)\n",
    "        succeed = False\n",
    "    \n",
    "    '''\n",
    "    hit = query_mygene(node.get_name())\n",
    "    if hit:\n",
    "        succeed = True\n",
    "        if (len(hit) > 0):\n",
    "            node.set_node_name(hit[0])\n",
    "        if (len(hit) > 1):\n",
    "            node.set_node_represents('ncbigene:' + str(hit[1])\n",
    "        print(\"hit: %s\" % json.dumps(hit, indent=4))\n",
    "    else:\n",
    "        succeed = False\n",
    "        for alias in aliases:\n",
    "            # assume uniprot\n",
    "            id = alias.split(':')[-1]\n",
    "            hit = query_mygene(id)\n",
    "            if hit:\n",
    "                print(\"hit: %s\" % json.dumps(hit, indent=4))\n",
    "                succeed = True\n",
    "                if(len(hit) > 0):\n",
    "                    node.set_node_name(hit[0])\n",
    "                if(len(hit) > 1):\n",
    "                    node.set_node_represents('ncbigene:' + str(hit[1])\n",
    "\n",
    "                break\n",
    "        if not succeed:\n",
    "            print(\"no gene hit for node %s \" % node.get_name())\n",
    "    '''"
   ]
  },
  {
   "cell_type": "code",
   "execution_count": 5,
   "metadata": {
    "collapsed": false
   },
   "outputs": [
    {
     "name": "stdout",
     "output_type": "stream",
     "text": [
      "POST route: http://public.ndexbio.org/v2/networkset\n",
      "POST json: {\"name\": \"Normalized Networks2018-01-09 10:27:15.906207\", \"description\": \"Normalized Networks\"}\n",
      "status code: 201\n",
      "response text: http://public.ndexbio.org/v2/networkset/b7f451b3-f56a-11e7-adc1-0ac135e8bacf\n",
      "Network set uuid:\n",
      "b7f451b3-f56a-11e7-adc1-0ac135e8bacf\n",
      "b94da024-f56a-11e7-adc1-0ac135e8bacf\n",
      "1\n",
      "Adding to network set\n",
      "POST route: http://public.ndexbio.org/v2/networkset/b7f451b3-f56a-11e7-adc1-0ac135e8bacf/members\n",
      "POST json: [\"b94da024-f56a-11e7-adc1-0ac135e8bacf\"]\n",
      "status code: 201\n",
      "response text: http://public.ndexbio.org/v2/networkset/b7f451b3-f56a-11e7-adc1-0ac135e8bacf/members\n",
      "Done adding to network set\n",
      "------------------------ DONE ------------------------\n"
     ]
    }
   ],
   "source": [
    "# TBD: create output network set\n",
    "# HUGO example: hgnc.symbol:tp53 --> non-prefixed hugo symbol\n",
    "# Entrez NCBI example: ncbigene:7157 --> represents\n",
    "# Aliases with prefixes\n",
    "# iteration over networks\n",
    "count = 1\n",
    "\n",
    "net_set_uuid = ndex2_client.create_networkset('Normalized Networks' + str(datetime.now()), 'Normalized Networks')\n",
    "net_set_uuid = net_set_uuid.split('/')[-1]\n",
    "print('Network set uuid:')\n",
    "print(net_set_uuid)\n",
    "add_these_networks = []\n",
    "count = 0\n",
    "for network_uuid in uuids:\n",
    "    # load network in NiceCX\n",
    "    ncx = ndex2.create_nice_cx_from_server(server=my_server, uuid=network_uuid, \n",
    "                                           username=cravat_username, password=cravat_password)\n",
    "    context = [{'ncbigene': 'http://identifiers.org/ncbigene/', \n",
    "               'hgnc.symbol': 'http://identifiers.org/hgnc.symbol/',\n",
    "              'uniprot': 'http://identifiers.org/uniprot/',\n",
    "               'cas': 'http://identifiers.org/cas/',\n",
    "               'entrez': 'http://www.ncbi.nlm.nih.gov/gene/'}]\n",
    "    ncx.set_context(context)\n",
    "    for id, node in ncx.get_nodes():\n",
    "        update_node(node, ncx)\n",
    "    \n",
    "    #ncx.set_name('Normalized Nodes ' + str(count))\n",
    "    if save_tutorial_networks_to_my_account:\n",
    "        upload_message = ncx.upload_to(my_server, my_username, my_password)\n",
    "        net_uuid = upload_message.split('/')[-1]\n",
    "        print(net_uuid)\n",
    "        add_these_networks.append(net_uuid)\n",
    "\n",
    "    count += 1\n",
    "    print(count)\n",
    "    if count > 0:\n",
    "        break\n",
    "\n",
    "print('Adding to network set')\n",
    "ndex2_client.add_networks_to_networkset(net_set_uuid, add_these_networks)        \n",
    "print('Done adding to network set')\n",
    "\n",
    "print('------------------------ DONE ------------------------')\n",
    "#print(ncx.to_cx())\n",
    "\n",
    "    "
   ]
  },
  {
   "cell_type": "code",
   "execution_count": null,
   "metadata": {
    "collapsed": true
   },
   "outputs": [],
   "source": []
  }
 ],
 "metadata": {
  "kernelspec": {
   "display_name": "Python 2",
   "language": "python",
   "name": "python2"
  },
  "language_info": {
   "codemirror_mode": {
    "name": "ipython",
    "version": 2
   },
   "file_extension": ".py",
   "mimetype": "text/x-python",
   "name": "python",
   "nbconvert_exporter": "python",
   "pygments_lexer": "ipython2",
   "version": "2.7.13"
  }
 },
 "nbformat": 4,
 "nbformat_minor": 1
}
