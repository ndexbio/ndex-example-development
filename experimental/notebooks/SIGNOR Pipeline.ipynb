{
 "cells": [
  {
   "cell_type": "markdown",
   "metadata": {},
   "source": [
    "# SIGNOR Pipeline"
   ]
  },
  {
   "cell_type": "markdown",
   "metadata": {},
   "source": [
    "This notebook creates a Network Set of SIGNOR pathway networks using the latest data downloaded via the SIGNOR REST service. SIGNOR is updated regularly and so it also demonstrates how to update the networks in the set."
   ]
  },
  {
   "cell_type": "markdown",
   "metadata": {},
   "source": [
    "### Imports"
   ]
  },
  {
   "cell_type": "code",
   "execution_count": 3,
   "metadata": {
    "collapsed": true
   },
   "outputs": [],
   "source": [
    "import ndex2 # The ndex2 Python client\n",
    "import itertools # convenient iteration utilities \n",
    "import requests\n",
    "import json"
   ]
  },
  {
   "cell_type": "markdown",
   "metadata": {},
   "source": [
    "### NDEx Access\n",
    "\n",
    "Check access to NDEx via your account and password. "
   ]
  },
  {
   "cell_type": "code",
   "execution_count": 4,
   "metadata": {},
   "outputs": [
    {
     "name": "stdout",
     "output_type": "stream",
     "text": [
      "my_ndex client: 17663 networks, 906 users, 90 groups\n"
     ]
    }
   ],
   "source": [
    "from os.path import isfile, expanduser\n",
    "my_server = \"public.ndexbio.org\"\n",
    "my_username = None\n",
    "my_password = None\n",
    "    \n",
    "config_file = expanduser(\"~/ndex_tutorial_config.json\")\n",
    "save_tutorial_networks_to_my_account = True\n",
    "\n",
    "if(isfile(config_file)):\n",
    "    file = open(config_file, \"r\")\n",
    "    data = json.load(file)\n",
    "    file.close()\n",
    "    if data.get(\"password\") and data.get(\"username\"):\n",
    "        my_username = data.get(\"username\")\n",
    "        my_password = data.get(\"password\")\n",
    "    else:\n",
    "        print(\"Error: \" + config_file + \" does not define username and password\")\n",
    "else:\n",
    "    print(\"Error: \" + config_file + \" was not found\")\n",
    "\n",
    "    #\n",
    "try:\n",
    "    # Test the connection\n",
    "    my_ndex=ndex2.client.Ndex2(my_server, my_username, my_password)\n",
    "    my_ndex.update_status()\n",
    "    networks = my_ndex.status.get(\"networkCount\")\n",
    "    users = my_ndex.status.get(\"userCount\")\n",
    "    groups = my_ndex.status.get(\"groupCount\")\n",
    "    print(\"my_ndex client: %s networks, %s users, %s groups\" % (networks, users, groups))\n",
    "    # TODO - check that user can access private account details\n",
    "\n",
    "except Exception as inst:\n",
    "    print(\"Could not access account %s with password %s\" % (my_account, my_password))\n",
    "    print(inst.args)\n",
    "    \n"
   ]
  },
  {
   "cell_type": "markdown",
   "metadata": {},
   "source": [
    "### Functions to Get SIGNOR networks"
   ]
  },
  {
   "cell_type": "code",
   "execution_count": null,
   "metadata": {
    "collapsed": true
   },
   "outputs": [],
   "source": [
    "def get_signor_network_ids:\n",
    "    path = \"../resources/signor-path_mapping_file.txt\"\n",
    "    return pd.read_csv(tsv_path, sep=\"\\t\")\n",
    "  \n",
    "def get_signore_network_data(id):\n",
    "    # ...\n",
    "def build_signor_nicecx(table):\n",
    "    # return nicecx\n",
    "    \n",
    "def process_signor_network_id(id, name, network_set):\n",
    "    id_table = get_signor_network_data(id)\n",
    "    nicecx = build_signor_nicecx(id, name)\n",
    "    signor_uuid = ndex2.create_nice_cx(server=my_server, username=my_username, password = my_password)\n",
    "print(\"done\")\n",
    "    \n",
    "def get_signore_network(id):\n",
    "    my_network = \n",
    "print(my_network.get_summary())\n",
    "    # ...requests"
   ]
  },
  {
   "cell_type": "markdown",
   "metadata": {},
   "source": [
    "Create a NiceCX network from the example network in the NDEx Tutorials account. If you would rather use a network in your own directory - perhaps made by cloning the example network - then provide your account and password as shown in the commented line."
   ]
  },
  {
   "cell_type": "code",
   "execution_count": 5,
   "metadata": {},
   "outputs": [
    {
     "name": "stdout",
     "output_type": "stream",
     "text": [
      "downloading network and buiding NiceCX...\n",
      "done\n",
      "Name: SIGNOR - Complete - Final - for dexter\n",
      "Nodes: 4172\n",
      "Edges: 17099\n",
      "Node Attributes: 4172\n",
      "Edge Attributes: 109624\n",
      "\n"
     ]
    }
   ],
   "source": [
    "signor_network_set_id = \"\"\n",
    "\n",
    "print(\"downloading network and buiding NiceCX...\")\n",
    "   \n",
    "my_network = ndex2.create_nice_cx_from_server(server='public.ndexbio.org', uuid=my_network_uuid, username=my_username, password = my_password)\n",
    "print(\"done\")\n",
    "print(my_network.get_summary())"
   ]
  },
  {
   "cell_type": "markdown",
   "metadata": {},
   "source": [
    "The plan is to modify the network by merging two node attributes into one, where the two attributes were created by loading a table of edges with source and target node colums.\n",
    "\n",
    "Steps:\n",
    "\n",
    "* Iterate over all the nodes in the network and for each one we check the values of the two \"source\" attributes. \n",
    "* Add the new attribute based on the OR of the source attributes. \n",
    "* Finally, delete the two original source attributes\n"
   ]
  },
  {
   "cell_type": "code",
   "execution_count": 6,
   "metadata": {
    "collapsed": true
   },
   "outputs": [],
   "source": [
    "# (for clarity, this example code is rather verbose)\n",
    "\n",
    "source_attribute1 = \"TYPEA\"\n",
    "source_attribute2 = \"TYPEB\"\n",
    "target_attribute = \"TYPE\"\n",
    "\n",
    "for node_id, node in my_network.nodes.items():\n",
    "    value1 = my_network.get_node_attribute(node, source_attribute1)\n",
    "    value2 = my_network.get_node_attribute(node, source_attribute2)\n",
    "    merged_value = value1 or value2\n",
    "    if merged_value:\n",
    "        my_network.set_node_attribute(node, target_attribute, merged_value)\n",
    "        my_network.remove_node_attribute(node, source_attribute1)\n",
    "        my_network.remove_node_attribute(node, source_attribute2)\n"
   ]
  },
  {
   "cell_type": "markdown",
   "metadata": {},
   "source": [
    "Spot-check the network by printing out a sample of the nodes in the modified network"
   ]
  },
  {
   "cell_type": "code",
   "execution_count": 7,
   "metadata": {},
   "outputs": [
    {
     "name": "stdout",
     "output_type": "stream",
     "text": [
      "AT9283: TYPE = chemical\n",
      "ABL1: TYPE = protein\n",
      "Bosutinib: TYPE = chemical\n",
      "Dasatinib: TYPE = chemical\n",
      "DCC-2036: TYPE = chemical\n"
     ]
    }
   ],
   "source": [
    "for id, node in itertools.islice(my_network.get_nodes(), 5):\n",
    "    attribute_value = my_network.get_node_attribute(node, target_attribute)\n",
    "    print(\"%s: %s = %s\" % (node.get_name(), target_attribute, attribute_value))\n"
   ]
  },
  {
   "cell_type": "markdown",
   "metadata": {},
   "source": [
    "Upload the network to your NDEx account as a new network.\n",
    "\n",
    "If you started by loading an one of your networks (such as a clone of the example network), then you can *update* it instead, overwriting its content. \n",
    "\n",
    "In the commented line of below, the optional parameter *update_uuid* specifies the update behavior."
   ]
  },
  {
   "cell_type": "code",
   "execution_count": 8,
   "metadata": {},
   "outputs": [
    {
     "name": "stdout",
     "output_type": "stream",
     "text": [
      "\n"
     ]
    }
   ],
   "source": [
    "#message = my_network.upload_to(my_server, my_username, my_password)\n",
    "message = my_network.update_to(my_network_uuid, my_server, my_username, my_password)\n",
    "print(message)"
   ]
  },
  {
   "cell_type": "code",
   "execution_count": null,
   "metadata": {
    "collapsed": true
   },
   "outputs": [],
   "source": []
  }
 ],
 "metadata": {
  "anaconda-cloud": {},
  "kernelspec": {
   "display_name": "Python 3",
   "language": "python",
   "name": "python3"
  },
  "language_info": {
   "codemirror_mode": {
    "name": "ipython",
    "version": 3
   },
   "file_extension": ".py",
   "mimetype": "text/x-python",
   "name": "python",
   "nbconvert_exporter": "python",
   "pygments_lexer": "ipython3",
   "version": "3.6.1"
  }
 },
 "nbformat": 4,
 "nbformat_minor": 1
}
