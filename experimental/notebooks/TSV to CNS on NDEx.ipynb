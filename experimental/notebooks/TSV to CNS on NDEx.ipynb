{
 "cells": [
  {
   "cell_type": "markdown",
   "metadata": {},
   "source": [
    "# TSV to CNS on NDEx\n",
    "### This notebook demonstrates:\n",
    "+ Loading a TSV file to an NDEx account via the TSV loader service\n",
    "+ Controlling the process using an \"import plan\"\n",
    "+ Using additional options of the service to annotate and style the loaded network"
   ]
  },
  {
   "cell_type": "code",
   "execution_count": null,
   "metadata": {
    "collapsed": true
   },
   "outputs": [],
   "source": [
    "import ndex.client as nc\n",
    "from IPython.display import clear_output\n",
    "from IPython.display import display\n",
    "from IPython.display import Image\n",
    "from IPython.display import HTML\n",
    "import ipywidgets as widgets"
   ]
  },
  {
   "cell_type": "code",
   "execution_count": null,
   "metadata": {},
   "outputs": [],
   "source": [
    "username = False\n",
    "password = False\n",
    "ndex_url = False\n",
    "my_ndex = False\n",
    "\n",
    "ndex_widget = widgets.Text(description=\"NDEx Server URL\")\n",
    "display(ndex_widget)\n",
    "username_widget = widgets.Text(description=\"username\")\n",
    "display(username_widget)\n",
    "password_widget = widgets.Text(description=\"password\")\n",
    "display(password_widget)\n",
    "\n",
    "def handle_submit(sender):\n",
    "    if sender.description == \"NDEx Server URL\":\n",
    "        print(\"NDEx Server URL = %s\" % sender.value)\n",
    "        \n",
    "    if sender.description == \"username\":\n",
    "        print(\"username = %s\" % sender.value)\n",
    "        \n",
    "    if sender.description == \"password\":\n",
    "        print(\"password = %s\" % password)\n",
    "        \n",
    "    if ndex_widget.value and username_widget.value and password_widget.value:\n",
    "        my_ndex=nc.Ndex(\"http://\" + ndex_widget.value, username_widget.value, password_widget.value)\n",
    "        print(\"connected as %s\" % username_widget.value)\n",
    "        my_ndex.update_status()\n",
    "        network_count = my_ndex.status.get(\"networkCount\")\n",
    "        print(\"%s has %s networks\" % (ndex_widget.value, network_count))\n",
    "        \n",
    "ndex_widget.on_submit(handle_submit)\n",
    "username_widget.on_submit(handle_submit)\n",
    "password_widget.on_submit(handle_submit)"
   ]
  },
  {
   "cell_type": "code",
   "execution_count": null,
   "metadata": {},
   "outputs": [],
   "source": [
    "my_ndex=nc.Ndex(\"http://\" + ndex_widget.value, username_widget.value, password_widget.value)\n",
    "my_ndex.update_status()\n",
    "network_count2 = my_ndex.status.get(\"networkCount\")\n",
    "print(\"myndex has %s networks\" % (network_count2))"
   ]
  },
  {
   "cell_type": "markdown",
   "metadata": {},
   "source": [
    "### This is an example of an import plan that specifies the mapping of column values to create nodes and edges in the network."
   ]
  },
  {
   "cell_type": "raw",
   "metadata": {},
   "source": [
    "mda231_plan = {\n",
    "\t\"target_plan\": {\n",
    "\t\t\"property_columns\": [\n",
    "      \"Prey\",\n",
    "      \"PREY_Property\"\n",
    "    ],\n",
    "\t\t\"id_column\": \"Prey Gene Name\",\n",
    "\t\t\"node_name_column\": \"Prey Gene Name\"\n",
    "\t},\n",
    "\n",
    "\t\"source_plan\": {\n",
    "\t\t\"property_columns\": [\n",
    "        \"Bait Mutation Status and_or Drug Condition\",\n",
    "        \"Bait\",\n",
    "        \"BAIT_Property\"\n",
    "      ],\n",
    "\t\t\"id_column\": \"BAIT_combined\",\n",
    "\t\t\"node_name_column\": \"BAIT_combined\"\n",
    "\t},\n",
    "\t\"context\": {\n",
    "\n",
    "\t},\n",
    "\t\"edge_plan\": {\n",
    "\t\t\"default_predicate\": \"binds\",\n",
    "\t\t\"property_columns\": [\n",
    "        \"AvePSM\",\n",
    "        \"Z\",\n",
    "        \"WD\",\n",
    "        \"Entropy\"\n",
    "      ]\n",
    "\t}\n",
    "}"
   ]
  },
  {
   "cell_type": "markdown",
   "metadata": {},
   "source": [
    "## Specify the full path of the import plan file"
   ]
  },
  {
   "cell_type": "code",
   "execution_count": null,
   "metadata": {},
   "outputs": [],
   "source": [
    "import_plan_path = False\n",
    "import_plan_widget = widgets.Text(description=\"Import Plan\")\n",
    "display(import_plan_widget)\n",
    "def handle_import_plan_submit(sender):\n",
    "    if sender.description == \"Import Plan\":\n",
    "        import_plan_path = sender.value\n",
    "        print(\"Import Plan = %s\" % sender.value)\n",
    "\n",
    "import_plan_widget.on_submit(handle_import_plan_submit)"
   ]
  },
  {
   "cell_type": "markdown",
   "metadata": {},
   "source": [
    "## Specify the full path of the TSV file to upload using the import plan."
   ]
  },
  {
   "cell_type": "code",
   "execution_count": null,
   "metadata": {},
   "outputs": [],
   "source": [
    "tsv_file_path = \"none\"\n",
    "tsv_file_widget = widgets.Text(description=\"TSV File to Load\")\n",
    "display(tsv_file_widget)\n",
    "def handle_tsv_file_submit(sender):\n",
    "    if sender.description == \"TSV File to Load\":\n",
    "        tsv_file_path = sender.value\n",
    "        print(\"TSV File to Load = %s\" % tsv_file_path)\n",
    "\n",
    "tsv_file_widget.on_submit(handle_tsv_file_submit)"
   ]
  },
  {
   "cell_type": "markdown",
   "metadata": {},
   "source": [
    "## Post the file and the loading plan to the TSV service "
   ]
  },
  {
   "cell_type": "code",
   "execution_count": null,
   "metadata": {},
   "outputs": [],
   "source": [
    "import requests\n",
    "#import json\n",
    "#from io import StringIO\n",
    "#plan = StringIO(json.dumps(mda231_plan))\n",
    "#plan = json.dumps(mda231_plan)\n",
    "\n",
    "style_template = \"\"\n",
    "\n",
    "tsv_service_url = 'http://ec2-52-34-7-132.us-west-2.compute.amazonaws.com:3000/upload?save_plan=false'\n",
    "\n",
    "files = {\n",
    "    #'plan': open(plan, 'rb'),\n",
    "    'plan': open(import_plan_widget.value, 'rb'),\n",
    "    'upload': open(tsv_file_widget.value, 'rb')\n",
    "}\n",
    "print(ndex_widget.value, username_widget.value, password_widget.value)\n",
    "data = {\n",
    "    'template': style_template,\n",
    "    'ndexServer': ndex_widget.value,\n",
    "    'user': username_widget.value,\n",
    "    'pw': password_widget.value\n",
    "}\n",
    "\n",
    "r = requests.post(url, data=data, files=files)\n",
    "\n",
    "if r.status_code == 200:\n",
    "    print ('File was uploaded: ' + json.loads(r.content).get(\"uri\"))\n",
    "    #print (r.content)\n",
    "else:\n",
    "    print (r.status_code)\n",
    "    #print (r)"
   ]
  },
  {
   "cell_type": "code",
   "execution_count": null,
   "metadata": {
    "collapsed": true
   },
   "outputs": [],
   "source": []
  },
  {
   "cell_type": "code",
   "execution_count": null,
   "metadata": {
    "collapsed": true
   },
   "outputs": [],
   "source": []
  }
 ],
 "metadata": {
  "anaconda-cloud": {},
  "kernelspec": {
   "display_name": "Python 3",
   "language": "python",
   "name": "python3"
  },
  "language_info": {
   "codemirror_mode": {
    "name": "ipython",
    "version": 3
   },
   "file_extension": ".py",
   "mimetype": "text/x-python",
   "name": "python",
   "nbconvert_exporter": "python",
   "pygments_lexer": "ipython3",
   "version": "3.6.1"
  }
 },
 "nbformat": 4,
 "nbformat_minor": 1
}
