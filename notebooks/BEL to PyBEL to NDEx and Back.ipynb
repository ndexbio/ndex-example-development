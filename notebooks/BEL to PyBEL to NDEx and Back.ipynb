{
 "cells": [
  {
   "cell_type": "markdown",
   "metadata": {},
   "source": [
    "* Load an example BEL file as a PyBEL graph\n",
    "* Upload to NDEx in CX format\n",
    "* Download as CX\n",
    "* Download as PyBEL"
   ]
  },
  {
   "cell_type": "code",
   "execution_count": null,
   "metadata": {},
   "outputs": [],
   "source": [
    "import pybel\n",
    "print(pybel.__version__)\n",
    "import ndex2"
   ]
  },
  {
   "cell_type": "markdown",
   "metadata": {},
   "source": [
    "Writing a network to NDEx requires the server address (defaulting to the public NDEx Server) and user credentials. Edit the lines below to set the variables."
   ]
  },
  {
   "cell_type": "code",
   "execution_count": null,
   "metadata": {
    "collapsed": true
   },
   "outputs": [],
   "source": [
    "my_server = 'public.ndexbio.org'\n",
    "my_username = \"username\"\n",
    "my_password = \"password\""
   ]
  },
  {
   "cell_type": "markdown",
   "metadata": {},
   "source": [
    "Load a BEL test file."
   ]
  },
  {
   "cell_type": "code",
   "execution_count": null,
   "metadata": {},
   "outputs": [],
   "source": [
    "test_file_path = \"../resources/pybel_test.bel\"\n",
    "print(\"loading bel...\")\n",
    "pybel_graph = pybel.from_path(test_file_path, citation_clearing=False)\n",
    "print(\"done\")"
   ]
  },
  {
   "cell_type": "markdown",
   "metadata": {},
   "source": [
    "Upload to NDEx"
   ]
  },
  {
   "cell_type": "code",
   "execution_count": null,
   "metadata": {},
   "outputs": [],
   "source": [
    "test_network_uuid = pybel.to_ndex(pybel_graph, username=my_username, password=my_password, debug=False)"
   ]
  },
  {
   "cell_type": "markdown",
   "metadata": {},
   "source": [
    "Download as a NiceCXNetwork"
   ]
  },
  {
   "cell_type": "code",
   "execution_count": null,
   "metadata": {},
   "outputs": [],
   "source": [
    "downloaded_nicecx = ndex2.create_nice_cx_from_server(server=my_server, uuid=test_network_uuid, username=my_username, password=my_password)\n",
    "print(downloaded_nicecx.get_summary())"
   ]
  },
  {
   "cell_type": "markdown",
   "metadata": {
    "collapsed": true
   },
   "source": [
    "Download as a PyBEL graph"
   ]
  },
  {
   "cell_type": "code",
   "execution_count": null,
   "metadata": {},
   "outputs": [],
   "source": [
    "downloaded_pybel_graph = pybel.from_ndex(test_network_uuid, username=my_username, password=my_password )\n",
    "downloaded_pybel_graph.name"
   ]
  }
 ],
 "metadata": {
  "kernelspec": {
   "display_name": "Python [default]",
   "language": "python",
   "name": "python3"
  },
  "language_info": {
   "codemirror_mode": {
    "name": "ipython",
    "version": 3
   },
   "file_extension": ".py",
   "mimetype": "text/x-python",
   "name": "python",
   "nbconvert_exporter": "python",
   "pygments_lexer": "ipython3",
   "version": "3.6.1"
  },
  "widgets": {
   "state": {
    "2d238030ff0348caa17e7a3311797605": {
     "views": [
      {
       "cell_index": 3
      }
     ]
    },
    "8ef8ffec1e994048aa29a6befe381937": {
     "views": [
      {
       "cell_index": 3
      }
     ]
    }
   },
   "version": "1.2.0"
  }
 },
 "nbformat": 4,
 "nbformat_minor": 1
}
