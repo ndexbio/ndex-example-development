{
 "cells": [
  {
   "cell_type": "markdown",
   "metadata": {},
   "source": [
    "## Convert NDEx network to Neo4j ##"
   ]
  },
  {
   "cell_type": "markdown",
   "metadata": {},
   "source": [
    "To do this tutorial you need to have Neo4j installed and running.  Also pip install ndex2 and neo4jrestclient."
   ]
  },
  {
   "cell_type": "code",
   "execution_count": 1,
   "metadata": {
    "collapsed": true
   },
   "outputs": [],
   "source": [
    "from neo4jrestclient.client import GraphDatabase\n",
    "from neo4jrestclient import client\n",
    "import ndex2"
   ]
  },
  {
   "cell_type": "code",
   "execution_count": 6,
   "metadata": {
    "collapsed": true
   },
   "outputs": [],
   "source": [
    "niceCx = ndex2.create_nice_cx_from_server(server='public.ndexbio.org',\n",
    "                                          uuid='c66cc833-6194-11e5-8ac5-06603eb7f303')\n",
    "\n",
    "neo4j_node_lookup = {}\n",
    "db = GraphDatabase(\"http://localhost:7474\", username=\"neo4j\", password=\"mypassword\")\n",
    "\n",
    "# CREATE NODES\n",
    "gene = db.labels.create(\"Gene\")\n",
    "for k, v in niceCx.get_nodes():\n",
    "    # Keep track of the neo4j nodes that were added\n",
    "    # so they can be used to create the edges\n",
    "    neo4j_node_lookup[v.get_id()] = db.nodes.create(name=v.get_name())\n",
    "    gene.add(neo4j_node_lookup[v.get_id()])\n",
    "\n",
    "# CREATE EDGES\n",
    "for k, v in niceCx.get_edges():\n",
    "    # Retrieve the nodes from the look up and create\n",
    "    # the relationship\n",
    "    g1 = neo4j_node_lookup.get(v.get_source())\n",
    "    g2 = neo4j_node_lookup.get(v.get_target())\n",
    "    g1.relationships.create(v.get_interaction(), g2)\n"
   ]
  },
  {
   "cell_type": "code",
   "execution_count": 12,
   "metadata": {
    "collapsed": false
   },
   "outputs": [
    {
     "name": "stdout",
     "output_type": "stream",
     "text": [
      "70\n"
     ]
    }
   ],
   "source": [
    "# Enter any Neo4j cypher query here    \n",
    "q = 'MATCH (n)-[p]-(r) RETURN n,p,r'\n",
    "    \n",
    "results = db.query(q, returns=(client.Node, str, client.Node))\n",
    "print(len(results))"
   ]
  },
  {
   "cell_type": "code",
   "execution_count": null,
   "metadata": {
    "collapsed": true
   },
   "outputs": [],
   "source": []
  }
 ],
 "metadata": {
  "kernelspec": {
   "display_name": "Python 2",
   "language": "python",
   "name": "python2"
  },
  "language_info": {
   "codemirror_mode": {
    "name": "ipython",
    "version": 2
   },
   "file_extension": ".py",
   "mimetype": "text/x-python",
   "name": "python",
   "nbconvert_exporter": "python",
   "pygments_lexer": "ipython2",
   "version": "2.7.13"
  }
 },
 "nbformat": 4,
 "nbformat_minor": 0
}
