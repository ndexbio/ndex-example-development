{
 "cells": [
  {
   "cell_type": "markdown",
   "metadata": {},
   "source": [
    "Load libraries.  In this case we need the ndex library, which you can get with \"pip install ndex\""
   ]
  },
  {
   "cell_type": "code",
   "execution_count": 1,
   "metadata": {
    "collapsed": true
   },
   "outputs": [],
   "source": [
    "ndex = __import__(\"ndex\")"
   ]
  },
  {
   "cell_type": "code",
   "execution_count": 2,
   "metadata": {
    "collapsed": true
   },
   "outputs": [],
   "source": [
    "import requests\n",
    "import json\n",
    "import base64"
   ]
  },
  {
   "cell_type": "markdown",
   "metadata": {},
   "source": [
    "# Connect to NDEx in order to retrieve a network."
   ]
  },
  {
   "cell_type": "code",
   "execution_count": 3,
   "metadata": {
    "collapsed": true
   },
   "outputs": [],
   "source": [
    "anon_ndex = ndex.client.Ndex(\"http://public.ndexbio.org\")"
   ]
  },
  {
   "cell_type": "markdown",
   "metadata": {},
   "source": [
    "Here we grab the \"NCI Pathway Interaction Database - Final Revision - Extended Binary SIF\" from NDEx, using its UUID.  The NdexGraph object is an extension of the networkx objects, see https://networkx.github.io/ for all the things you can do with it"
   ]
  },
  {
   "cell_type": "code",
   "execution_count": 4,
   "metadata": {
    "collapsed": true
   },
   "outputs": [],
   "source": [
    "G = ndex.networkn.NdexGraph(server='http://public.ndexbio.org', uuid='c0e70804-d848-11e6-86b1-0ac135e8bacf')"
   ]
  },
  {
   "cell_type": "code",
   "execution_count": 5,
   "metadata": {
    "collapsed": false,
    "scrolled": true
   },
   "outputs": [
    {
     "name": "stdout",
     "output_type": "stream",
     "text": [
      "{u'diffusion_output_rank': 1645, 'name': u'ITSN2', u'selected': True, u'diffusion_output_heat': 0.0006416480485015229, u'aliases': ['uniprot knowledgebase:O95062', 'uniprot knowledgebase:Q15812', 'uniprot knowledgebase:Q9HAK4', 'uniprot knowledgebase:Q9NXE6', 'uniprot knowledgebase:Q9NYG0', 'uniprot knowledgebase:Q9NZM2', 'uniprot knowledgebase:Q9NZM3', 'uniprot knowledgebase:Q9ULG4'], u'type': u'Protein', u'diffusion_input': 1.0}\n"
     ]
    }
   ],
   "source": [
    "nodeid = G.nodes()[0]\n",
    "G.node[nodeid]['diffusion_input'] = 1.0\n",
    "print G.node[nodeid]"
   ]
  },
  {
   "cell_type": "markdown",
   "metadata": {},
   "source": [
    "Call the Diffusion service"
   ]
  },
  {
   "cell_type": "code",
   "execution_count": 6,
   "metadata": {
    "collapsed": false
   },
   "outputs": [
    {
     "name": "stdout",
     "output_type": "stream",
     "text": [
      "consistency group max: 2\n"
     ]
    }
   ],
   "source": [
    "url = 'http://v3.heat-diffusion.cytoscape.io'\n",
    "payload = G.to_cx()\n",
    "headers = {'content-type': 'application/json'}\n",
    "response = requests.post(url, data=json.dumps(payload), headers=headers)"
   ]
  },
  {
   "cell_type": "markdown",
   "metadata": {},
   "source": [
    "#The 'data' dictionary in the json response is a dictionary with node IDs as keys and, 'rank' and 'heat' as the values. "
   ]
  },
  {
   "cell_type": "markdown",
   "metadata": {},
   "source": [
    "See the top 10 most relevant nodes to your query. "
   ]
  },
  {
   "cell_type": "code",
   "execution_count": 11,
   "metadata": {
    "collapsed": false
   },
   "outputs": [
    {
     "name": "stdout",
     "output_type": "stream",
     "text": [
      "id: 806 name: ITSN2 rank: 0 heat: 0.906123911644\n",
      "id: 2878 name: BRAF rank: 1 heat: 0.06318075277\n",
      "id: 2600 name: PAK4 rank: 2 heat: 0.030950992507\n",
      "id: 2147 name: PPP2R2B rank: 3 heat: 0.0303421980801\n",
      "id: 2397 name: KSR1 rank: 4 heat: 0.0251069488922\n",
      "id: 1337 name: RIT1 rank: 5 heat: 0.0222036772476\n",
      "id: 1340 name: RIT2 rank: 6 heat: 0.0222036772476\n",
      "id: 1857 name: PPP2R1A rank: 7 heat: 0.0203788459581\n",
      "id: 1251 name: RANBP10 rank: 8 heat: 0.0198635537603\n",
      "id: 1431 name: MUC20 rank: 9 heat: 0.0188499154842\n"
     ]
    }
   ],
   "source": [
    "nos = []\n",
    "R = ndex.networkn.NdexGraph(cx=response.json()['data'])\n",
    "for n in R.nodes_iter():\n",
    "    if R.node[n]['diffusion_output_rank'] < 10:\n",
    "        R.node[n]['nid'] = n\n",
    "        nos.append(R.node[n])\n",
    "nos = sorted(nos, key=lambda k: k['diffusion_output_rank'])\n",
    "for no in nos:\n",
    "    print \"id: \" + str(no['nid']) + \" name: \" + no['name'] + \" rank: \" + str(no['diffusion_output_rank']) + \" heat: \" + str(no['diffusion_output_heat'])\n"
   ]
  },
  {
   "cell_type": "code",
   "execution_count": null,
   "metadata": {
    "collapsed": true
   },
   "outputs": [],
   "source": []
  }
 ],
 "metadata": {
  "kernelspec": {
   "display_name": "Python 2",
   "language": "python",
   "name": "python2"
  },
  "language_info": {
   "codemirror_mode": {
    "name": "ipython",
    "version": 2
   },
   "file_extension": ".py",
   "mimetype": "text/x-python",
   "name": "python",
   "nbconvert_exporter": "python",
   "pygments_lexer": "ipython2",
   "version": "2.7.13"
  }
 },
 "nbformat": 4,
 "nbformat_minor": 1
}
