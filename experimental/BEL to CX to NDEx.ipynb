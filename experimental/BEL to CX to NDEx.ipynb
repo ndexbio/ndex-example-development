{
 "cells": [
  {
   "cell_type": "markdown",
   "metadata": {},
   "source": [
    "# BEL -> CX -> NDEx\n",
    "* Load an example BEL file\n",
    "* Convert to CX\n",
    "* Sign in to your account on NDEx\n",
    "* Create a new network from the CX"
   ]
  },
  {
   "cell_type": "code",
   "execution_count": 1,
   "metadata": {
    "collapsed": false
   },
   "outputs": [
    {
     "name": "stdout",
     "output_type": "stream",
     "text": [
      "0.4.3\n",
      "imports done\n"
     ]
    }
   ],
   "source": [
    "import pybel\n",
    "print(pybel.__version__)\n",
    "\n",
    "import ndex.client as nc\n",
    "import ipywidgets as widgets\n",
    "from IPython.display import clear_output\n",
    "from IPython.display import display\n",
    "print(\"imports done\")"
   ]
  },
  {
   "cell_type": "code",
   "execution_count": 2,
   "metadata": {
    "collapsed": false
   },
   "outputs": [
    {
     "name": "stdout",
     "output_type": "stream",
     "text": [
      "loading bel\n",
      "translating to CX\n",
      "done\n"
     ]
    }
   ],
   "source": [
    "test_file_path = \"./resources/pybel_test.bel\"\n",
    "print(\"loading bel\")\n",
    "pybel_graph = pybel.from_path(test_file_path, citation_clearing=False)\n",
    "print(\"translating to CX\")\n",
    "cx = pybel.to_cx_json(pybel_graph)\n",
    "print(\"done\")"
   ]
  },
  {
   "cell_type": "code",
   "execution_count": 3,
   "metadata": {
    "collapsed": false
   },
   "outputs": [],
   "source": [
    "username_widget = widgets.Text(description=\"username\", placeholder=\"enter NDEx username\", value=\"none\")\n",
    "display(username_widget)\n",
    "password_widget = widgets.Text(description=\"password\", placeholder=\"enter password\", value=\"none\")\n",
    "display(password_widget)"
   ]
  },
  {
   "cell_type": "code",
   "execution_count": 4,
   "metadata": {
    "collapsed": false
   },
   "outputs": [
    {
     "name": "stdout",
     "output_type": "stream",
     "text": [
      "connected as drh\n",
      "ndex has 3279 networks\n"
     ]
    }
   ],
   "source": [
    "my_ndex = False\n",
    "if username_widget.value == \"none\" or password_widget.value == \"none\":\n",
    "    print(\"please enter a username and password above\")\n",
    "else:\n",
    "    my_ndex=nc.Ndex(\"http://public.ndexbio.org\", username_widget.value, password_widget.value)\n",
    "    print(\"connected as %s\" % username_widget.value)\n",
    "    my_ndex.update_status()\n",
    "    network_count = my_ndex.status.get(\"networkCount\")\n",
    "    print(\"ndex has %s networks\" % network_count)"
   ]
  },
  {
   "cell_type": "code",
   "execution_count": 5,
   "metadata": {
    "collapsed": false
   },
   "outputs": [
    {
     "data": {
      "text/plain": [
       "'http://public.ndexbio.org/v2/network/5dbc4e68-13f0-11e7-b39e-0ac135e8bacf'"
      ]
     },
     "execution_count": 5,
     "metadata": {},
     "output_type": "execute_result"
    }
   ],
   "source": [
    "my_ndex.save_new_network(cx)"
   ]
  },
  {
   "cell_type": "code",
   "execution_count": null,
   "metadata": {
    "collapsed": true
   },
   "outputs": [],
   "source": []
  }
 ],
 "metadata": {
  "kernelspec": {
   "display_name": "Python 3",
   "language": "python",
   "name": "python3"
  },
  "language_info": {
   "codemirror_mode": {
    "name": "ipython",
    "version": 3
   },
   "file_extension": ".py",
   "mimetype": "text/x-python",
   "name": "python",
   "nbconvert_exporter": "python",
   "pygments_lexer": "ipython3",
   "version": "3.6.0"
  },
  "widgets": {
   "state": {
    "2d238030ff0348caa17e7a3311797605": {
     "views": [
      {
       "cell_index": 3
      }
     ]
    },
    "8ef8ffec1e994048aa29a6befe381937": {
     "views": [
      {
       "cell_index": 3
      }
     ]
    }
   },
   "version": "1.2.0"
  }
 },
 "nbformat": 4,
 "nbformat_minor": 0
}
