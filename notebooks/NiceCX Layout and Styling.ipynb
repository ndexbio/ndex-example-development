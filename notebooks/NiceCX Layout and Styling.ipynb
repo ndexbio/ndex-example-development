{
 "cells": [
  {
   "cell_type": "markdown",
   "metadata": {
    "collapsed": true
   },
   "source": [
    "# NiceCX Layout and Styling"
   ]
  },
  {
   "cell_type": "markdown",
   "metadata": {},
   "source": [
    "### Import Packages"
   ]
  },
  {
   "cell_type": "code",
   "execution_count": 1,
   "metadata": {},
   "outputs": [],
   "source": [
    "import sys\n",
    "sys.path.append(\"/Users/dexter/Projects/ndex2-client\")\n",
    "import ndex2\n",
    "import networkx as nx\n",
    "import json\n",
    "# import ndex_tutorial_utilities.py as util"
   ]
  },
  {
   "cell_type": "markdown",
   "metadata": {},
   "source": [
    "This tutorial demonstrates the use of NiceCX to apply a layout and a Cytoscape graphic style to an NDEx network, writing it back to NDEx\n",
    "\n",
    "writing the network to NDEx requires the server address (defaulting to the public NDEx Server) and user credentials specified by the variables below. You can edit the lines setting the varibles or you can place an NDEx tutorial configuration file in your home directory, enabling you to use any of the tutorials without editing the credentials."
   ]
  },
  {
   "cell_type": "code",
   "execution_count": 2,
   "metadata": {
    "collapsed": true
   },
   "outputs": [],
   "source": [
    "my_server = 'public.ndexbio.org'\n",
    "my_username = \"drh\"\n",
    "my_password = \"drh\"\n",
    "\n",
    "# util.load_tutorial_config()\n"
   ]
  },
  {
   "cell_type": "markdown",
   "metadata": {},
   "source": [
    "### Load a Network"
   ]
  },
  {
   "cell_type": "code",
   "execution_count": 3,
   "metadata": {},
   "outputs": [
    {
     "name": "stdout",
     "output_type": "stream",
     "text": [
      "downloading network and buiding NiceCX...\n",
      "------\n",
      "Name: ALK2 signaling events (for tutorials)\n",
      "Nodes: 11\n",
      "Edges: 44\n",
      "Node Attributes: 22\n",
      "Edge Attributes: 87\n",
      "\n"
     ]
    }
   ],
   "source": [
    "alk1_signaling_events_uuid = 'da171b21-df7e-11e7-adc1-0ac135e8bacf'\n",
    "print(\"downloading network and buiding NiceCX...\")\n",
    "alk1_signaling_events = ndex2.create_nice_cx_from_server(server='public.ndexbio.org', uuid=alk1_signaling_events_uuid)\n",
    "print(\"------\")\n",
    "print(alk1_signaling_events.get_summary())"
   ]
  },
  {
   "cell_type": "markdown",
   "metadata": {
    "collapsed": true
   },
   "source": [
    "### Apply Cytoscape Visual Properties from a Template Network"
   ]
  },
  {
   "cell_type": "markdown",
   "metadata": {},
   "source": [
    "Cytoscape has options for styling your graph such as coloration, directional arrow design, etc. NiceCX provides a method to style a network with the Cytoscape Visual Properties of another network. \n",
    "\n",
    "For this exercise, we use the \"tutorial_template\" network from the NDEx Tutorials account that was designed as a template. "
   ]
  },
  {
   "cell_type": "markdown",
   "metadata": {},
   "source": [
    "tutorial_template uses the attribute 'st_layout' to determine the coloration of your nodes. Also, the edges are directed (there are arrows pointing in a direction) depending on how you created each edge. The first node that you list points to the second node. This is what the template looks like:"
   ]
  },
  {
   "cell_type": "code",
   "execution_count": 4,
   "metadata": {},
   "outputs": [],
   "source": [
    "tutorial_template_id = '4f53171c-600f-11e6-b0a6-06603eb7f303'\n",
    "alk1_signaling_events.apply_template(username=my_username, password=my_password, server=my_server, uuid=tutorial_template_id)"
   ]
  },
  {
   "cell_type": "markdown",
   "metadata": {},
   "source": [
    "### Use NetworkX to Apply a Graph Layout"
   ]
  },
  {
   "cell_type": "markdown",
   "metadata": {},
   "source": [
    "Create a NetworkX graph based on my_network"
   ]
  },
  {
   "cell_type": "code",
   "execution_count": 5,
   "metadata": {
    "scrolled": true
   },
   "outputs": [],
   "source": [
    "my_networkx = alk1_signaling_events.to_networkx()"
   ]
  },
  {
   "cell_type": "markdown",
   "metadata": {},
   "source": [
    "Perform a spring-force layout with NetworkX"
   ]
  },
  {
   "cell_type": "code",
   "execution_count": 21,
   "metadata": {},
   "outputs": [],
   "source": [
    "#nx.drawing.spring_layout(my_networkx)\n",
    "my_networkx.pos = nx.drawing.circular_layout(my_networkx, scale=300)"
   ]
  },
  {
   "cell_type": "markdown",
   "metadata": {},
   "source": [
    "Get the my_networkx node coordinates and transform to the cartesianCoordinates aspect of my_network"
   ]
  },
  {
   "cell_type": "code",
   "execution_count": 22,
   "metadata": {},
   "outputs": [
    {
     "name": "stdout",
     "output_type": "stream",
     "text": [
      "[{\"node\": 1, \"x\": 300.0, \"y\": 0.0}, {\"node\": 2, \"x\": 252.37605984935436, \"y\": 162.19224523667927}, {\"node\": 3, \"x\": 124.62450390056593, \"y\": 272.8895986063555}, {\"node\": 4, \"x\": -42.6944514819855, \"y\": 296.94643256427986}, {\"node\": 5, \"x\": -196.4582201835855, \"y\": 226.72487230627752}, {\"node\": 6, \"x\": -287.8478920843492, \"y\": 84.51976705242889}, {\"node\": 7, \"x\": -287.84789208434927, \"y\": -84.51976705242883}, {\"node\": 8, \"x\": -196.45822018358555, \"y\": -226.72487230627746}, {\"node\": 9, \"x\": -42.694451481985574, \"y\": -296.9464325642798}, {\"node\": 10, \"x\": 124.62450390056581, \"y\": -272.88959860635555}, {\"node\": 11, \"x\": 252.37605984935436, \"y\": -162.19224523667924}]\n"
     ]
    }
   ],
   "source": [
    "def cartesian(G):\n",
    "    return [\n",
    "        {'node': n, 'x': float(G.pos[n][0]), 'y': float(G.pos[n][1])}\n",
    "        for n in G.pos\n",
    "        ]\n",
    "\n",
    "cartesian_aspect_elements = cartesian(my_networkx)\n",
    "\n",
    "result = \"not set\"\n",
    "result = alk1_signaling_events.set_opaque_aspect(\"cartesianLayout\", cartesian_aspect_elements)\n",
    "#print(result)\n",
    "# json.dumps(alk1_signaling_events.to_cx())\n",
    "#print(json.dumps(alk1_signaling_events.opaqueAspects))\n",
    "print(json.dumps(alk1_signaling_events.get_opaque_aspect(\"cartesianLayout\")))"
   ]
  },
  {
   "cell_type": "code",
   "execution_count": 23,
   "metadata": {},
   "outputs": [
    {
     "name": "stdout",
     "output_type": "stream",
     "text": [
      "{\"elementCount\": 1, \"version\": \"1.0\", \"consistencyGroup\": 1, \"name\": \"provenanceHistory\", \"lastUpdate\": 1513112196073}\n",
      "{\"elementCount\": 1, \"version\": \"1.0\", \"consistencyGroup\": 1, \"name\": \"@context\"}\n",
      "{\"elementCount\": 11, \"version\": \"1.0\", \"consistencyGroup\": 1, \"name\": \"nodes\", \"idCounter\": 11}\n",
      "{\"elementCount\": 44, \"version\": \"1.0\", \"consistencyGroup\": 1, \"name\": \"edges\", \"idCounter\": 84}\n",
      "{\"elementCount\": 8, \"version\": \"1.0\", \"consistencyGroup\": 1, \"name\": \"networkAttributes\"}\n",
      "{\"elementCount\": 22, \"version\": \"1.0\", \"consistencyGroup\": 1, \"name\": \"nodeAttributes\"}\n",
      "{\"elementCount\": 87, \"version\": \"1.0\", \"consistencyGroup\": 1, \"name\": \"edgeAttributes\"}\n",
      "{\"elementCount\": 14, \"consistencyGroup\": 1, \"name\": \"citations\", \"idCounter\": 14}\n",
      "{\"elementCount\": 11, \"version\": \"1.0\", \"consistencyGroup\": 1, \"name\": \"cartesianLayout\"}\n",
      "{\"elementCount\": 6, \"version\": 1, \"consistencyGroup\": 1, \"name\": \"visualProperties\"}\n"
     ]
    }
   ],
   "source": [
    "for element in alk1_signaling_events.get_metadata():\n",
    "    print(element[1])"
   ]
  },
  {
   "cell_type": "markdown",
   "metadata": {},
   "source": [
    "### Upload The Formatted Network"
   ]
  },
  {
   "cell_type": "markdown",
   "metadata": {},
   "source": [
    "Upload my_network to your NDEx account as a new network.\n",
    "\n",
    "If you started by loading an one of **your** networks (such as a clone of the example network), then you can **update** it instead, overwriting its content. \n",
    "\n",
    "In the commented line below, the optional parameter *update_uuid* specifies the UUID of the network to be updated."
   ]
  },
  {
   "cell_type": "code",
   "execution_count": 24,
   "metadata": {},
   "outputs": [
    {
     "name": "stdout",
     "output_type": "stream",
     "text": [
      "http://public.ndexbio.org/v2/network/79954c1e-f3e4-11e7-adc1-0ac135e8bacf\n"
     ]
    }
   ],
   "source": [
    "upload_message = alk1_signaling_events.upload_to(my_server, my_username, my_password)\n",
    "# upload_message = my_network.upload_to(my_server, my_account, my_password, update_uuid=my_network_uuid)\n",
    "print(upload_message)"
   ]
  },
  {
   "cell_type": "code",
   "execution_count": null,
   "metadata": {
    "collapsed": true
   },
   "outputs": [],
   "source": []
  }
 ],
 "metadata": {
  "kernelspec": {
   "display_name": "Python [conda env:py36]",
   "language": "python",
   "name": "conda-env-py36-py"
  },
  "language_info": {
   "codemirror_mode": {
    "name": "ipython",
    "version": 3
   },
   "file_extension": ".py",
   "mimetype": "text/x-python",
   "name": "python",
   "nbconvert_exporter": "python",
   "pygments_lexer": "ipython3",
   "version": "3.6.1"
  }
 },
 "nbformat": 4,
 "nbformat_minor": 1
}
