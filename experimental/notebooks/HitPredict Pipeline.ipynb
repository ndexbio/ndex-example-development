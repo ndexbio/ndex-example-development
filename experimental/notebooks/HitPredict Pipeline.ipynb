{
 "cells": [
  {
   "cell_type": "markdown",
   "metadata": {},
   "source": [
    "# HitPredict Pipeline"
   ]
  },
  {
   "cell_type": "markdown",
   "metadata": {},
   "source": [
    "This notebook creates a network based on a HitPredict tabular file."
   ]
  },
  {
   "cell_type": "markdown",
   "metadata": {},
   "source": [
    "## Imports Python Packages Needed in the Pipeline"
   ]
  },
  {
   "cell_type": "code",
   "execution_count": 1,
   "metadata": {},
   "outputs": [],
   "source": [
    "import ndex2 # The ndex2 Python client\n",
    "import itertools # convenient iteration utilities \n",
    "import requests\n",
    "import json\n",
    "import pandas as pd\n",
    "import io\n",
    "import sys\n",
    "import jsonschema\n",
    "import os\n",
    "from datetime import datetime\n",
    "import networkx as nx\n",
    "sys.path.append('../../resources')\n",
    "from tutorial_utils import load_tutorial_config"
   ]
  },
  {
   "cell_type": "code",
   "execution_count": 11,
   "metadata": {},
   "outputs": [
    {
     "ename": "SyntaxError",
     "evalue": "invalid syntax (<ipython-input-11-0092aab4751f>, line 1)",
     "output_type": "error",
     "traceback": [
      "\u001b[0;36m  File \u001b[0;32m\"<ipython-input-11-0092aab4751f>\"\u001b[0;36m, line \u001b[0;32m1\u001b[0m\n\u001b[0;31m    from tsv import \"delim2cx\"\u001b[0m\n\u001b[0m                             ^\u001b[0m\n\u001b[0;31mSyntaxError\u001b[0m\u001b[0;31m:\u001b[0m invalid syntax\n"
     ]
    }
   ],
   "source": [
    "import \"delim2cx\""
   ]
  },
  {
   "cell_type": "code",
   "execution_count": 6,
   "metadata": {},
   "outputs": [
    {
     "ename": "AttributeError",
     "evalue": "module 'tsv' has no attribute 'delim2cx'",
     "output_type": "error",
     "traceback": [
      "\u001b[0;31m---------------------------------------------------------------------------\u001b[0m",
      "\u001b[0;31mAttributeError\u001b[0m                            Traceback (most recent call last)",
      "\u001b[0;32m<ipython-input-6-47bb1091df17>\u001b[0m in \u001b[0;36m<module>\u001b[0;34m()\u001b[0m\n\u001b[0;32m----> 1\u001b[0;31m \u001b[0mtsv\u001b[0m\u001b[0;34m.\u001b[0m\u001b[0mdelim2cx\u001b[0m\u001b[0;34m.\u001b[0m\u001b[0mprocess_row\u001b[0m\u001b[0;34m(\u001b[0m\u001b[0;34m)\u001b[0m\u001b[0;34m\u001b[0m\u001b[0m\n\u001b[0m",
      "\u001b[0;31mAttributeError\u001b[0m: module 'tsv' has no attribute 'delim2cx'"
     ]
    }
   ],
   "source": [
    "tsv.delim2cx.process_row()"
   ]
  },
  {
   "cell_type": "code",
   "execution_count": null,
   "metadata": {},
   "outputs": [],
   "source": [
    "hitpredict_path = \"HitPredict-example.tsv\""
   ]
  },
  {
   "cell_type": "markdown",
   "metadata": {},
   "source": [
    "## NDEx Access\n",
    "\n",
    "Configure your NDEx connection based on server, account and password. \n",
    "\n",
    "See [\"Using NDEx Tutorial Config Files.ipynb\"] for more information."
   ]
  },
  {
   "cell_type": "code",
   "execution_count": 2,
   "metadata": {},
   "outputs": [],
   "source": [
    "# get the connection parameters from the ndex_tutorial_config.json file in your home directory.\n",
    "# edit the line below to specify a different connection in the config file\n",
    "my_server, my_username, my_password = load_tutorial_config(\"main\")\n",
    "\n",
    "# alternatively, edit and uncomment these lines to set the connection parameters manually \n",
    "# my_server = \"public.ndexbio.org\"\n",
    "# my_username = None\n",
    "# my_password = None\n",
    "\n",
    "my_ndex=ndex2.client.Ndex2(my_server, my_username, my_password)"
   ]
  },
  {
   "cell_type": "markdown",
   "metadata": {},
   "source": [
    "## Get the Load Plan:\n",
    "\n",
    "(TODO: validate load plan with jsonschema)"
   ]
  },
  {
   "cell_type": "code",
   "execution_count": 3,
   "metadata": {},
   "outputs": [],
   "source": [
    "try:\n",
    "    path_to_load_plan = 'hitpredict_load_plan.json'\n",
    "    load_plan = None\n",
    "    with open(path_to_load_plan, 'rU') as lp:\n",
    "        load_plan = json.load(lp)\n",
    "        \n",
    "except jsonschema.ValidationError as e1:\n",
    "    print \"Failed to parse the loading plan: \" + e1.message\n",
    "    print 'at path: ' + str(e1.absolute_path)\n",
    "    print \"in block: \"\n",
    "    print e1.instance"
   ]
  },
  {
   "cell_type": "markdown",
   "metadata": {},
   "source": [
    "## Function to Create NiceCX from HitPredict Data"
   ]
  },
  {
   "cell_type": "code",
   "execution_count": 18,
   "metadata": {},
   "outputs": [
    {
     "name": "stdout",
     "output_type": "stream",
     "text": [
      "pathway_id\tpathway_name\tentitya\tregulator_location\ttypea\tida\tdatabasea\tentityb\ttarget_location\ttypeb\tidb\tdatabaseb\teffect\tmechanism\tresidue\tsequence\ttax_id\tcell_data\ttissue_data\tmodulator_complex\ttarget_complex\tmodificationa\tmodaseq\tmodificationb\tmodbseq\tpmid\tdirect\tnotes\tannotator\tsentence\tsignor_id\n",
      "SIGNOR-MM\tMalignant Melanoma\tKIT\treceptor\tprotein\tP10721\tUNIPROT\tKIT\treceptor\tprotein\tP10721\tUNIPROT\tup-regulates\tphosphorylation\tTyr703\tDHAEAALyKNLLHSK\t9606\t\t\t\t\t\t\t\t\t10377264\tt\t\tmiannu\tIdentification of tyr-703 and tyr-936 as autophosphorylation sites in c-kit/scfr\tSIGNOR-68643\n",
      "SIGNOR-MM\tMalignant Melanoma\tKIT\treceptor\tprotein\tP10721\tUNIPROT\tKIT\treceptor\tprotein\tP10721\tUNIPROT\tup-regulates\tphosphorylation\tTyr936\tSESTNHIySNLANCS\t9606\t\t\t\t\t\t\t\t\t10377264\tt\t\tmiannu\tIdentification of tyr-703 and tyr-936 as autophosphorylation sites in c-kit/scfr\tSIGNOR-68647\n",
      "SIGNOR-MM\tMalignant Melanoma\tPTEN\t\tprotein\tP60484\tUNIPROT\tCREB1\tfactor\tprotein\tP16220\tUNIPROT\tdown-regulates activity\tdephosphorylation\tSer133\tEILSRRPsYRKILND\t10090\tBTO:0002572\t\t\t\t\t\t\t\t21385900\tt\t\t\tOur study demonstrates that PTEN can dephosphorylate CREB at Ser133 and that PTEN protein phosphatase activity is required for CREB dephosphoryation.|Moreover, we use both in vitro and in vivo experiments to show PTEN can dephosphorylate CREB in a phosphatase-dependent manner, suggesting that CREB is a substrate of PTEN nuclear phosphatase. Loss of Pten results in an elevated RNA level of multiple CREB transcriptional targets and increased cell proliferation, which can be reversed by a nonphosphorylatable CREB mutant or knockdown of CREB. These data reveal a mechanism for PTEN modulation of CREB-mediated gene transcription and cell growth.\tSIGNOR-248543\n",
      "SIGNOR-MM\tMalignant Melanoma\tERK1/2\t\tproteinfamily\tSIGNOR-PF1\tSIGNOR\tRPS6KA5\t\tprotein\tO75582\tUNIPROT\tup-regulates activity\tphosphorylation\tSer376\tEKLFQGYsFVAPSIL\t9606\t\t\t\t\t\t\t\t\t15568999\tt\t\tlperfetto\tIn the present study, we show that, in addition to being phosphorylated on Thr-581 and Ser-360 by ERK1/2 or p38, MSK1 can autophosphorylate on at least six sites: Ser-212, Ser-376, Ser-381, Ser-750, Ser-752 and Ser-758. Of these sites, the N-terminal T-loop residue Ser-212 and the 'hydrophobic motif' Ser-376 are phosphorylated by the C-terminal kinase domain of MSK1, and their phosphorylation is essential for the catalytic activity of the N-terminal kinase domain of MSK1\tSIGNOR-249574\n",
      "SIGNOR-MM\tMalignant Melanoma\tPDPK1\t\tprotein\tO15530\tUNIPROT\tAKT\t\tproteinfamily\tSIGNOR-PF24\tSIGNOR\tup-regulates\tphosphorylation\t\t\t9606\t\tBTO:0000142\t\t\t\t\t\t\t10226025\tt\t\tlperfetto\tProtein kinase b (pkb) is activated by phosphorylation of thr308 and of ser473. Thr308 is phosphorylated by the 3-phosphoinositide-dependent protein kinase-1 (pdk1) but the identity of the kinase that phosphorylates ser473 (provisionally termed pdk2) is unknown.\tSIGNOR-244421\n",
      "SIGNOR-MM\tMalignant Melanoma\tPDPK1\t\tprotein\tO15530\tUNIPROT\tAKT\t\tproteinfamily\tSIGNOR-PF24\tSIGNOR\tup-regulates activity\tphosphorylation\t\t\t9606\t\t\t\t\t\t\t\t\t15743829\tt\t\tlperfetto\tAkt1 and akt2 are phosphorylated and activated by the protein kinase pdk1 at thr-308 or thr-309, respectively, in the activation t-loop, and further activation occurs through phosphorylation at ser-473 or ser-474, respectively. Pdk1 phosphorylates akt-2 at thr 309 in the catalytic domain, leading to enzymatic activation.\tSIGNOR-244469\n",
      "SIGNOR-MM\tMalignant Melanoma\tKIT\treceptor\tprotein\tP10721\tUNIPROT\tGRB2\t\tprotein\tP62993\tUNIPROT\tup-regulates activity\tbinding\t\t\t9606\tBTO:0000567\t\t\t\tphosphorylation:Tyr703\tDHAEAALyKNLLHSK\t\t\t10377264\tt\t\tgcesareni\tWe furthermore demonstrate that the adapter protein Grb2 is a specific binding partner for both phosphorylated Tyr-703 and phosphorylated Tyr-936, whereas the adapter protein Grb7 binds selectively to phosphorylated Tyr-936.\tSIGNOR-248283\n",
      "SIGNOR-MM\tMalignant Melanoma\tBRAF\t\tprotein\tP15056\tUNIPROT\tMEK1/2\t\tproteinfamily\tSIGNOR-PF25\tSIGNOR\tup-regulates activity\tphosphorylation\t\t\t-1\t\t\t\t\t\t\t\t\t8413257\tt\t\tlperfetto\tRaf-1 phosphorylation of MEK activated it, as judged by its ability to stimulate the phosphorylation of myelin basic protein by glutathione S-transferase-ERK1.\tSIGNOR-244831\n",
      "SIGNOR-MM\tMalignant Melanoma\tRB1\t\tprotein\tP06400\tUNIPROT\tG1/S transition\t\tphenotype\tSIGNOR-PH50\tSIGNOR\tdown-regulates\t\t\t\t9606\t\t\t\t\t\t\t\t\t21524151\tf\t\tlperfetto\tIn its hypophosphorylated state, pRb binds transcription factors of the E2F family which are required for cell cycle progression. As the level of CyclinD/Cdk4/6 complexes increases, pRb becomes phosphorylated and progression through G1 occurs. At a critical level of phosphorylation, E2F is released from pRb. This activates the transcription of CyclinE which complexes with Cdk2 to fully release pRb repression by further phosphorylation, establishing a positive feedback loop. E2F further promotes the transcription of S-phase genes. Thus, CyclinD/Cdk4/6 and CyclinE/Cdk2 together regulate S-phase entry via phosphorylating pRb, which controls pRb binding to E2F\tSIGNOR-245483\n",
      "SIGNOR-MM\tMalignant Melanoma\tCyclinD/CDK4\t\tcomplex\tSIGNOR-C18\tSIGNOR\tRB1\t\tprotein\tP06400\tUNIPROT\tdown-regulates activity\tphosphorylation\tSer795\tSPYKFPSsPLRIPGG\t9606\tBTO:0000150\t\t\t\t\t\t\t\t23336272\tt\t\tlperfetto\tCyclin d1 is known to activate cdk4, which then phosphorylates the rb protein, leading to cell cycle progression.\tSIGNOR-216992\n",
      "SIGNOR-MM\tMalignant Melanoma\tERK1/2\t\tproteinfamily\tSIGNOR-PF1\tSIGNOR\tMITF\tfactor\tprotein\tO75030\tUNIPROT\tdown-regulates\tphosphorylation\tSer180\tPGSSAPNsPMAMLTL\t9606\t\t\t\t\t\t\t\t\t10673502\tt\tThe effect has been demonstrated using O75030-9\tgcesareni\tThe current study reveals that c-kit signaling triggers two phosphorylation events on mi, which up-regulate transactivation potential yet simultaneously target mi for ubiquitin-dependent proteolysis. The specific activation/degradation signals derive from mapk/erk targeting of serine 73the results suggested that s1p reduced melanin synthesis via s1p(3) receptor-mediated erk and rsk-1 activation, and subsequent mitf dual phosphorylation and degradation.\tSIGNOR-249575\n",
      "SIGNOR-MM\tMalignant Melanoma\tCREB1\tfactor\tprotein\tP16220\tUNIPROT\tBCL2L1\t\tprotein\tQ07817\tUNIPROT\tup-regulates quantity by expression\ttranscriptional regulation\t\t\t9606\t\t\t\t\t\t\t\t\t16205321\tf\t\tgcesareni\tThe results showed that the nuclear pkcalpha was significantly decreased in the liver during sepsis, which was accompanied by decreases in phospho-creb content, dna-binding activity of creb, and bcl-xl expression.\tSIGNOR-140911\n",
      "SIGNOR-MM\tMalignant Melanoma\tTP53\tfactor\tprotein\tP04637\tUNIPROT\tBCL2L1\t\tprotein\tQ07817\tUNIPROT\tdown-regulates activity\tbinding\t\t\t9606\tBTO:0002552\t\t\t\t\t\t\t\t16455050\tt\t\tlperfetto\tIt has been shown that tp53 can directly bind bcl2, and consequently inhibit their anti-apoptotic activities. From our co-expression study we demonstrated that the tp53ntd binds to bcl2l1.\tSIGNOR-144163\n",
      "SIGNOR-MM\tMalignant Melanoma\tRPS6KA5\t\tprotein\tO75582\tUNIPROT\tRPS6KA5\t\tprotein\tO75582\tUNIPROT\tup-regulates activity\tphosphorylation\tSer376\tEKLFQGYsFVAPSIL\t9606\t\t\t\t\t\t\t\t\t15568999\tt\t\tlperfetto\tMsk1 can autophosphorylate on at least six sites: ser-212, ser-376, ser-381, ser-750, ser-752 and ser-758. Of these sites, the n-terminal t-loop residue ser-212 and the 'hydrophobic motif' ser-376 are phosphorylated by the c-terminal kinase domain of msk1, and their phosphorylation is essential for the catalytic activity of the n-terminal kinase domain of msk1 and therefore for the phosphorylation of msk1 substrates in vitro.\tSIGNOR-131391\n",
      "SIGNOR-MM\tMalignant Melanoma\tRPS6KA5\t\tprotein\tO75582\tUNIPROT\tRPS6KA5\t\tprotein\tO75582\tUNIPROT\tup-regulates activity\tphosphorylation\tSer212\tDETERAYsFCGTIEY\t9606\t\t\t\t\t\t\t\t\t15568999\tt\t\tlperfetto\tMsk1 can autophosphorylate on at least six sites: ser-212, ser-376, ser-381, ser-750, ser-752 and ser-758. Of these sites, the n-terminal t-loop residue ser-212 and the 'hydrophobic motif' ser-376 are phosphorylated by the c-terminal kinase domain of msk1, and their phosphorylation is essential for the catalytic activity of the n-terminal kinase domain of msk1 and therefore for the phosphorylation of msk1 substrates in vitro.\tSIGNOR-131387\n",
      "SIGNOR-MM\tMalignant Melanoma\tRPS6KA5\t\tprotein\tO75582\tUNIPROT\tRPS6KA5\t\tprotein\tO75582\tUNIPROT\tup-regulates activity\tphosphorylation\tSer381\tGYSFVAPsILFKRNA\t9606\t\t\t\t\t\t\t\t\t15568999\tt\t\tlperfetto\tMsk1 can autophosphorylate on at least six sites: ser-212, ser-376, ser-381, ser-750, ser-752 and ser-758. Of these sites, the n-terminal t-loop residue ser-212 and the 'hydrophobic motif' ser-376 are phosphorylated by the c-terminal kinase domain of msk1, and their phosphorylation is essential for the catalytic activity of the n-terminal kinase domain of msk1 and therefore for the phosphorylation of msk1 substrates in vitro.\tSIGNOR-131395\n",
      "SIGNOR-MM\tMalignant Melanoma\tBAD\t\tprotein\tQ92934\tUNIPROT\tTP53\tfactor\tprotein\tP04637\tUNIPROT\tup-regulates activity\tbinding\t\t\t9606\tBTO:0002552\t\t\t\t\t\t\t\t17000778\tt\t\tlperfetto\tWe also demonstrate that bad physically interacts with cytoplasmic p53.  bad is able to direct p53 to the mitochondria and forms a p53/bad complex at the mitochondria.  the mitochondrial p53/bad complex promotes apoptosis\tSIGNOR-149815\n",
      "SIGNOR-MM\tMalignant Melanoma\tBAD\t\tprotein\tQ92934\tUNIPROT\tBCL2L1\t\tprotein\tQ07817\tUNIPROT\tdown-regulates activity\tbinding\t\t\t\t\t\t\t\t\t\t\t\t7834748\tt\t\tlperfetto\tBad binds more strongly to Bcl-x, than Bcl-2 in mammalian cells, and it reversed the death repressor activity of Bcl-x,, but not that of Bcl-2. When Bad dimerized with Bcl-x,, Bax was displaced and apoptosis was restored.\tSIGNOR-249617\n",
      "SIGNOR-MM\tMalignant Melanoma\tMITF\tfactor\tprotein\tO75030\tUNIPROT\tBCL2\t\tprotein\tP10415\tUNIPROT\tup-regulates quantity by expression\ttranscriptional regulation\t\t\t\t\t\t\t\t\t\t\t\t12086670\tt\t\tlperfetto\tMITF directly occupies the BCL2 promoter in vivo and this suggest that BCL2 may be a direct transcriptional target of MITF\tSIGNOR-249618\n",
      "SIGNOR-MM\tMalignant Melanoma\tCREB1\tfactor\tprotein\tP16220\tUNIPROT\tMITF\tfactor\tprotein\tO75030\tUNIPROT\tup-regulates quantity by expression\ttranscriptional regulation\t\t\t\t\t\t\t\t\t\t\t\t10841026\tt\t\tlperfetto\tTherefore, the molecular steps linking cAMPto melanogenesis up-regulation appear currently better elucidated. cAMP activates PKA, and PKA phosphorylates and activates CREB which, when activated, binds to the CRE domain present in the microphthalmia promoter,thereby up-regulating its transcription.\tSIGNOR-249619\n",
      "SIGNOR-MM\tMalignant Melanoma\tMEK1/2\t\tproteinfamily\tSIGNOR-PF25\tSIGNOR\tERK1/2\t\tproteinfamily\tSIGNOR-PF1\tSIGNOR\tup-regulates\tphosphorylation\t\t\t9606\t\t\t\t\t\t\t\t\t11971971\tt\t\tlperfetto\tMapk1 is phosphorylated by map2k1/mek1 and map2k2/mek2 on thr-185 and tyr-187 in response to external stimuli like insulin or ngf. Both phosphorylations are required for activity.\tSIGNOR-244776\n",
      "SIGNOR-MM\tMalignant Melanoma\tPTEN\t\tprotein\tP60484\tUNIPROT\tPtsIns(3,4,5)P3\treceptor\tsmallmolecule\tCID:24755492\tPUBCHEM\tdown-regulates quantity\tsmall molecule catalysis\t\t\t9606\t\t\t\t\t\t\t\t\t11875759\tt\t\tlperfetto\tPTEN dephosphorylates PI3P, lowering its cellular levels and resulting in the down-regulation of AKT.\tSIGNOR-228145\n",
      "SIGNOR-MM\tMalignant Melanoma\tMEK1/2\t\tproteinfamily\tSIGNOR-PF25\tSIGNOR\tMEK1/2\t\tproteinfamily\tSIGNOR-PF25\tSIGNOR\tdown-regulates\t\t\t\t9606\t\t\t\t\t\t\t\t\t18481201\tf\t\tlperfetto\tPd98059, a specific inhibitor of mek in addition, immunoblot and immunostaining analysis revealed that phosphorylation of erk was increased by treatment with sb203580;whereas pd98059 increased the phosphorylation of p38, which implies a seesaw-like balance between erk and p38 phosphorylation.\tSIGNOR-244877\n",
      "SIGNOR-MM\tMalignant Melanoma\tCDKN2A\t\tprotein\tP42771\tUNIPROT\tCyclinD/CDK4\t\tcomplex\tSIGNOR-C18\tSIGNOR\tdown-regulates activity\tbinding\t\t\t9606\tBTO:0000093\t\t\t\t\t\t\t\t11154267\tt\t\tlperfetto\tOverexpression of p16INK4a in cells with functional pRb results in inhibition of both Cdk4- and Cdk6-associated kinase activity and pRb phosphorylation, with subsequent cell cycle arrest (46, 50). In addition, inhibition of D cyclin-Cdk4 complex formation by p16INK4a prevents sequestration of p21Cip1 and p27Kip1 by these complexes in early G1, leading to suppression of cyclin E-Cdk2 activity\tSIGNOR-245459\n",
      "SIGNOR-MM\tMalignant Melanoma\tCREB1\tfactor\tprotein\tP16220\tUNIPROT\tBCL2\t\tprotein\tP10415\tUNIPROT\tup-regulates quantity by expression\ttranscriptional regulation\t\t\t10116\tBTO:0001009\t\t\t\t\t\t\t\t10753867\tf\t\tlperfetto\tCreb activity by akt signaling leads to increased bcl-2 promoter activity and cell survival.\tSIGNOR-76558\n",
      "SIGNOR-MM\tMalignant Melanoma\tAKT\t\tproteinfamily\tSIGNOR-PF24\tSIGNOR\tMDM2\t\tprotein\tQ00987\tUNIPROT\tup-regulates activity\tphosphorylation\tSer166\tSSRRRAIsETEENSD\t9606\t\tBTO:0000671\t\t\t\t\t\t\t15169778\tt\t\tlperfetto\tStabilization of mdm2 via decreased ubiquitination is mediated by protein kinase b/akt-dependent phosphorylation.\tSIGNOR-244296\n",
      "SIGNOR-MM\tMalignant Melanoma\tCyclinD/CDK4\t\tcomplex\tSIGNOR-C18\tSIGNOR\tRB1\t\tprotein\tP06400\tUNIPROT\tdown-regulates activity\tphosphorylation\tSer780\tSTRPPTLsPIPHIPR\t9606\tBTO:0000150\t\t\t\t\t\t\t\t23336272\tt\t\tlperfetto\tCyclin d1 is known to activate cdk4, which then phosphorylates the rb protein, leading to cell cycle progression.\tSIGNOR-216988\n",
      "SIGNOR-MM\tMalignant Melanoma\tPTEN\t\tprotein\tP60484\tUNIPROT\tPIK3CA\t\tprotein\tP42336\tUNIPROT\tdown-regulates activity\t\t\t\t9606\tBTO:0000938\t\t\t\t\t\t\t\t18794881\tf\t\tlperfetto\tThe pten tumour suppressor is a lipid and protein phosphatase that inhibits phosphoinositide 3-kinase (pi3k)-dependent by dephosphorylating phosphatidylinositol 3,4,5-trisphosphate (ptdinsp(3)).\tSIGNOR-209856\n",
      "SIGNOR-MM\tMalignant Melanoma\tNRAS\t\tprotein\tP01111\tUNIPROT\tBRAF\t\tprotein\tP15056\tUNIPROT\tup-regulates activity\tbinding\t\t\t9606\t\t\t\t\t\t\t\t\t21779497\tt\t\tlperfetto\tThe raf family of proteins (raf-1, a-raf, and b-raf) is serine/threonine kinases that bind to the effector region of ras-gtp, thus inducing translocation of the protein to the plasma membrane. Once there, raf proteins are activated and phosphorylated by different protein kinases.\tSIGNOR-175219\n",
      "SIGNOR-MM\tMalignant Melanoma\tSOS1\t\tprotein\tQ07889\tUNIPROT\tNRAS\t\tprotein\tP01111\tUNIPROT\tup-regulates activity\tguanine nucleotide exchange factor\t\t\t9606\t\t\t\t\t\t\t\t\t21779497\tt\t\tlperfetto\tGrb2 binds and activates sos, which then activates ras, and this activates p110 independently of p85.\tSIGNOR-175259\n",
      "SIGNOR-MM\tMalignant Melanoma\tKITLG\textracellular\tprotein\tP21583\tUNIPROT\tKIT\treceptor\tprotein\tP10721\tUNIPROT\tup-regulates\tbinding\t\t\t9606\t\t\t\t\t\t\t\t\t1698556\tt\t\tgcesareni\tWe have also provided biological and physical evidence that scf is a ligand for the c-kit receptor.\tSIGNOR-21193\n",
      "SIGNOR-MM\tMalignant Melanoma\tCDKN2A\t\tprotein\tQ8N726\tUNIPROT\tMDM2\t\tprotein\tQ00987\tUNIPROT\tdown-regulates activity\trelocalization\t\t\t9606\tBTO:0001938\t\t\t\t\t\t\t\t23416275\tt\t\tfstefani\tWe propose that p14(arf) increases the binding of p53-mdm2 complexes to chromatin, thereby limiting the access of protein deacetylases to p53.\tSIGNOR-192697\n",
      "SIGNOR-MM\tMalignant Melanoma\tCyclinD/CDK4\t\tcomplex\tSIGNOR-C18\tSIGNOR\tRB1\t\tprotein\tP06400\tUNIPROT\tdown-regulates activity\tphosphorylation\tThr5\ttPRKTAAT\t-1\t\t\t\t\t\t\t\t\t9139732\tt\t\tllicata\tIn summary, we have shown evidence that CDK4-cyclin D1 phosphorylates Thr5, Ser249, Thr252, Thr356, Thr373, Ser788, Ser795, Ser807, Ser811, and Thr826 of pRB.\tSIGNOR-250762\n",
      "SIGNOR-MM\tMalignant Melanoma\tCyclinD/CDK4\t\tcomplex\tSIGNOR-C18\tSIGNOR\tRB1\t\tprotein\tP06400\tUNIPROT\tdown-regulates activity\tphosphorylation\tSer788\tPIPHIPRsPYKFPSS\t-1\t\t\t\t\t\t\t\t\t9139732\tt\t\tllicata\tIn summary, we have shown evidence that CDK4-cyclin D1 phosphorylates Thr5, Ser249, Thr252, Thr356, Thr373, Ser788, Ser795, Ser807, Ser811, and Thr826 of pRB.\tSIGNOR-250759\n",
      "SIGNOR-MM\tMalignant Melanoma\tCyclinD/CDK4\t\tcomplex\tSIGNOR-C18\tSIGNOR\tRB1\t\tprotein\tP06400\tUNIPROT\tdown-regulates activity\tphosphorylation\tThr356\tDSFETQRtPRKSNLD\t-1\t\t\t\t\t\t\t\t\t9139732\tt\t\tllicata\tIn summary, we have shown evidence that CDK4-cyclin D1 phosphorylates Thr5, Ser249, Thr252, Thr356, Thr373, Ser788, Ser795, Ser807, Ser811, and Thr826 of pRB.\tSIGNOR-250760\n",
      "SIGNOR-MM\tMalignant Melanoma\tPIK3CA\t\tprotein\tP42336\tUNIPROT\tPtsIns(3,4,5)P3\treceptor\tsmallmolecule\tCID:24755492\tPUBCHEM\tup-regulates quantity\tsmall molecule catalysis\t\t\t9606\t\t\t\t\t\t\t\t\t10071752\tt\tAKT is a serine-threonine protein kinase that plays important roles in cell growth, proliferation and apoptosis. It is activated after binding to phosphatidylinositol phosphates (PIPs) with phosphate s at positions 3, 4 and 3,4,5 on the inositol ring\tlperfetto\tStimulation of tyrosine kinase receptors initiates a signaling cascade that activates pi3k. Activated pi3k uses pip2 to generate pip3, which recruit akt to the plasma membrane through its pleckstrin homology (ph) domain, permitting its activation by pdks.\tSIGNOR-65409\n",
      "SIGNOR-MM\tMalignant Melanoma\tPIK3CA\t\tprotein\tP42336\tUNIPROT\tPtsIns(3,4,5)P3\treceptor\tsmallmolecule\tCID:24755492\tPUBCHEM\tup-regulates quantity\tsmall molecule catalysis\t\t\t9606\t\t\t\t\t\t\t\t\t16847462\tt\tAKT is a serine-threonine protein kinase that plays important roles in cell growth, proliferation and apoptosis. It is activated after binding to phosphatidylinositol phosphates (PIPs) with phosphate s at positions 3, 4 and 3,4,5 on the inositol ring\tlperfetto\tInsulin activation of phosphoinositide 3-kinase (pi3k) signaling regulates glucose homeostasis through the production of phosphatidylinositol 3,4,5-trisphosphate (pip3). The dual-specificity phosphatase and tensin homolog deleted on chromosome 10 (pten) blocks pi3k signaling by dephosphorylating pip3, and is inhibited through its interaction with phosphatidylinositol 3,4,5-trisphosphate-dependent rac exchanger 2\tSIGNOR-147948\n",
      "SIGNOR-MM\tMalignant Melanoma\tGRB2\t\tprotein\tP62993\tUNIPROT\tSOS1\t\tprotein\tQ07889\tUNIPROT\tup-regulates activity\trelocalization\t\t\t10090\tBTO:0000669\t\t\t\t\t\t\t\t23452850\tt\tGRB2 associated guanine nucleotide exchange factor Sos activates Ras through the exchange of GDP for GTP\tlperfetto\tInteraction domains of sos1/grb2 are finely tuned for cooperative control of embryonic stem cell fate.\tSIGNOR-235773\n",
      "SIGNOR-MM\tMalignant Melanoma\tGRB2\t\tprotein\tP62993\tUNIPROT\tSOS1\t\tprotein\tQ07889\tUNIPROT\tup-regulates activity\trelocalization\t\t\t9606\t\t\t\t\t\t\t\t\t8479541\tt\tGRB2 associated guanine nucleotide exchange factor Sos activates Ras through the exchange of GDP for GTP\tlperfetto\tFurthermore, our results indicate that the interaction domains of sos1 and grb2 have evolved so as to bind ligands not with maximal strength but with specificities and affinities that maintain cooperativity. Grb2 binds and activates sos, which then activates ras, and this activates p110 independently of p85.\tSIGNOR-39163\n",
      "SIGNOR-MM\tMalignant Melanoma\tMDM2\t\tprotein\tQ00987\tUNIPROT\tTP53\tfactor\tprotein\tP04637\tUNIPROT\tdown-regulates quantity by destabilization\tubiquitination\t\t\t9606\t\t\t\t\t\t\t\t\t23150757\tt\t\tlperfetto\tDual Roles of MDM2 in the Regulation of p53: Ubiquitination Dependent and Ubiquitination Independent Mechanisms of MDM2 Repression of p53 Activity\tSIGNOR-199371\n",
      "SIGNOR-MM\tMalignant Melanoma\tMDM2\t\tprotein\tQ00987\tUNIPROT\tTP53\tfactor\tprotein\tP04637\tUNIPROT\tdown-regulates quantity by destabilization\tubiquitination\t\t\t9606\t\t\t\t\t\t\t\t\t10935507\tt\t\tlperfetto\tMany posttranslational modifications of p53, such as phosphorylation, dephosphorylation, acetylation and ribosylation, have been shown to occur following cellular stress. Some of these modifications may activate the p53 protein, interfere with MDM2 binding and/or dictate cellular localization of p53.\tSIGNOR-80528\n",
      "SIGNOR-MM\tMalignant Melanoma\tMDM2\t\tprotein\tQ00987\tUNIPROT\tTP53\tfactor\tprotein\tP04637\tUNIPROT\tdown-regulates quantity by destabilization\tubiquitination\t\t\t9606\tBTO:0000093\t\t\t\t\t\t\t\t22337874\tt\t\tlperfetto\tThe E3 ubiquitin ligase, MDM2, uses a dual-site mechanism to ubiquitinate and degrade the tumor suppressor protein p53, involving interactions with the N-terminal hydrophobic pocket and the acidic domain of MDM2.\tSIGNOR-196116\n",
      "SIGNOR-MM\tMalignant Melanoma\tTP53\tfactor\tprotein\tP04637\tUNIPROT\tMDM2\t\tprotein\tQ00987\tUNIPROT\tup-regulates quantity by expression\ttranscriptional regulation\t\t\t10090\t\t\t\t\t\t\t\t\t7958853\tf\t\tgcesareni\tThe p53 tumor suppressor protein trans-activates mdm2 itself, which is therefore considered a component of a p53 negative feedback loop.\tSIGNOR-34962\n",
      "SIGNOR-MM\tMalignant Melanoma\tAKT\t\tproteinfamily\tSIGNOR-PF24\tSIGNOR\tSurvival\tphenotypesList\tphenotype\tSIGNOR-PH13\tSIGNOR\tup-regulates\t\t\t\t9606\t\t\t\t\t\t\t\t\t16288293\tf\t\tmiannu\tAkt promotes both cell growth and cell survival by inactivating its downstream substrates including GSK3, BAD, FOXO and TSC2.\tSIGNOR-251550\n",
      "SIGNOR-MM\tMalignant Melanoma\tNRAS\t\tprotein\tP01111\tUNIPROT\tPIK3CA\t\tprotein\tP42336\tUNIPROT\tup-regulates activity\tbinding\t\t\t9606\t\t\t\t\t\t\t\t\t21779497\tt\t\tlperfetto\tGrb2 binds and activates sos, which then activates ras, and this activates p110 independently of p85./it was also described that ras interacts with pi3k in a direct manner./lysine residue 227 is essential for the interaction of ras with pi3k\tSIGNOR-175222\n",
      "SIGNOR-MM\tMalignant Melanoma\tPDPK1\t\tprotein\tO15530\tUNIPROT\tPDPK1\t\tprotein\tO15530\tUNIPROT\tunknown\tphosphorylation\tSer393\tMQVSSSSsSHSLSAS\t9606\tBTO:0000010\t\t\t\t\t\t\t\t10455013\tt\t\tlperfetto\t3-phosphoinositide-dependent protein kinase-1 (pdk1) expressed in unstimulated 293 cells was phosphorylated at ser-25, ser-241, ser-393, ser-396 and ser-410 and the level of phosphorylation of each site was unaffected by stimulation with insulin-like growth factor-1. Mutation of ser-241 to ala abolished pdk1 activity, whereas mutation of the other phosphorylation sites individually to ala did not affect pdk1 activity\tSIGNOR-235782\n",
      "SIGNOR-MM\tMalignant Melanoma\tPDPK1\t\tprotein\tO15530\tUNIPROT\tPDPK1\t\tprotein\tO15530\tUNIPROT\tunknown\tphosphorylation\tSer396\tSSSSSSHsLSASDTG\t9606\tBTO:0000007\t\t\t\t\t\t\t\t10455013\tt\t\tlperfetto\t3-phosphoinositide-dependent protein kinase-1 (pdk1) expressed in unstimulated 293 cells was phosphorylated at ser-25, ser-241, ser-393, ser-396 and ser-410 and the level of phosphorylation of each site was unaffected by stimulation with insulin-like growth factor-1. Mutation of ser-241 to ala abolished pdk1 activity, whereas mutation of the other phosphorylation sites individually to ala did not affect pdk1 activity\tSIGNOR-236764\n",
      "SIGNOR-MM\tMalignant Melanoma\tPDPK1\t\tprotein\tO15530\tUNIPROT\tPDPK1\t\tprotein\tO15530\tUNIPROT\tunknown\tphosphorylation\tSer25\tVVLCSCPsPSMVRTQ\t9606\tBTO:0000009\t\t\t\t\t\t\t\t10455013\tt\t\tlperfetto\t3-phosphoinositide-dependent protein kinase-1 (pdk1) expressed in unstimulated 293 cells was phosphorylated at ser-25, ser-241, ser-393, ser-396 and ser-410 and the level of phosphorylation of each site was unaffected by stimulation with insulin-like growth factor-1. Mutation of ser-241 to ala abolished pdk1 activity, whereas mutation of the other phosphorylation sites individually to ala did not affect pdk1 activity\tSIGNOR-236777\n",
      "SIGNOR-MM\tMalignant Melanoma\tPTEN\t\tprotein\tP60484\tUNIPROT\tAKT\t\tproteinfamily\tSIGNOR-PF24\tSIGNOR\tdown-regulates activity\t\t\t\t9606\tBTO:0001332\t\t\t\t\t\t\t\t19903340\tf\t\tlperfetto\tPTEN-mediated suppression of the PI3K/AKT pathway is well established, accumulating evidence suggests that nuclear PTEN also plays a critical role in tumor suppression\tSIGNOR-244439\n",
      "SIGNOR-MM\tMalignant Melanoma\tPIK3CA\t\tprotein\tP42336\tUNIPROT\tAKT\t\tproteinfamily\tSIGNOR-PF24\tSIGNOR\tup-regulates\t\t\t\t9606\tBTO:0000586\t\t\t\t\t\t\t\t16293724\tf\t\tlperfetto\tWe show that pge2 stimulates colon cancer cell growth through its heterotrimeric guanine nucleotide-binding protein (g protein)coupled receptor, ep2, by a signaling route that involves the activation of phosphoinositide 3-kinase and the protein kinase akt by free g protein bg subunits and the direct association of the g protein as subunit with the regulator of g protein signaling (rgs) domain of axin.\tSIGNOR-244476\n",
      "SIGNOR-MM\tMalignant Melanoma\tPIK3CA\t\tprotein\tP42336\tUNIPROT\tAKT\t\tproteinfamily\tSIGNOR-PF24\tSIGNOR\tup-regulates activity\t\t\t\t9606\t\t\t\t\t\t\t\t\t12167717\tf\t\tlperfetto\tPKB induction requires phosphorylation of two critical residues, threonine 308 in the activation loop and serine 473 near the carboxyl terminus. Membrane localization of PKB was found to be a primary determinant of serine 473 phosphorylation. PI3K activity was equally important for promoting phosphorylation of serine 473,\tSIGNOR-244429\n",
      "SIGNOR-MM\tMalignant Melanoma\tGRB2\t\tprotein\tP62993\tUNIPROT\tKIT\treceptor\tprotein\tP10721\tUNIPROT\tdown-regulates\t\t\t\t9606\tBTO:0001271\t\t\t\t\t\t\t\t17904548\tf\t\tmiannu\tGrb2 mediates c-kit degradation through recruitment of cbl to c-kit, leading to ubiquitination of c-kit followed by internalization and degradation\tSIGNOR-157956\n",
      "SIGNOR-MM\tMalignant Melanoma\tPTEN\t\tprotein\tP60484\tUNIPROT\tPTEN\t\tprotein\tP60484\tUNIPROT\tup-regulates activity\tdephosphorylation\tThr383\tHYRYSDTtDSDPENE\t9606\tBTO:0000007\t\t\t\t\t\t\t\t22413754\tt\t\tmiannu\tOverall, our results suggest that PTEN autodephosphorylation may be a critical event in this process; thus a major protein substrate for PTEN may be PTEN itself.|Various studies have demonstrated that PTEN is itself a phosphoprotein, and that the major sites of phosphorylation are found in an acidic stretch (DHYRYSDTTDSDPENE) near the C-terminus [1]. This prompted us to consider whether PTEN may autodephosphorylate these sites\tSIGNOR-248545\n",
      "SIGNOR-MM\tMalignant Melanoma\tPTEN\t\tprotein\tP60484\tUNIPROT\tPTEN\t\tprotein\tP60484\tUNIPROT\tup-regulates activity\tdephosphorylation\tThr382\tDHYRYSDtTDSDPEN\t9606\tBTO:0000007\t\t\t\t\t\t\t\t22413754\tt\t\tmiannu\tOverall, our results suggest that PTEN autodephosphorylation may be a critical event in this process; thus a major protein substrate for PTEN may be PTEN itself.|Various studies have demonstrated that PTEN is itself a phosphoprotein, and that the major sites of phosphorylation are found in an acidic stretch (DHYRYSDTTDSDPENE) near the C-terminus [1]. This prompted us to consider whether PTEN may autodephosphorylate these sites\tSIGNOR-248546\n",
      "SIGNOR-MM\tMalignant Melanoma\tBRAF\t\tprotein\tP15056\tUNIPROT\tMEK1/2\t\tproteinfamily\tSIGNOR-PF25\tSIGNOR\tup-regulates activity\tphosphorylation\t\t\t9606\t\t\t\t\t\t\t\t\t21900390\tt\t\tmiannu\tBRAFV600E has been shown to initiate thyroid follicular cell transformation. The BRAFV600E mutation disrupts the hydrophobic interaction, enabling the BRAF kinase to fold into a catalytically active formation, resulting in an almost 500-fold increase in kinase activity. Mutant BRAF can dimerize and activate MEK without Ras activation.\tSIGNOR-251988\n",
      "SIGNOR-MM\tMalignant Melanoma\tAKT\t\tproteinfamily\tSIGNOR-PF24\tSIGNOR\tBAD\t\tprotein\tQ92934\tUNIPROT\tdown-regulates activity\tphosphorylation\tSer99\tPFRGRSRsAPPNLWA\t9606\tBTO:0000938\t\t\t\t\t\t\t\t9346240\tt\t\tlperfetto\tExperiments in this study reveal that akt phosphorylates bad both in vitro and in vivo and that akt-mediated phosphorylation of bad effectively blocks bad induced cell death.[...] In addition, these findings implicate a particular phosphorylation site on bad, serine 136, in the suppression of bad-mediated death by akt.[...]The Phosphorylation of bad may lead to the prevention of cell death via a mechanism that involves the selective association of the phosphorylated forms of bad with 14-3-3 protein isoforms. Akt phosphorylates bad in vitro and in vivo we show that growth factor activation of the pi3'k/akt signaling pathway culminates in the phosphorylation of the bcl-2 family member bad, thereby suppressing apoptosis and promoting cell survival. Akt phosphorylates bad in vitro and in vivo erbb-mediated phosphorylation of bad by akt promotes survival by blocking the interaction of this pro-apoptotic molecule with bcl-2 and bcl-x proteins\tSIGNOR-244144\n",
      "SIGNOR-MM\tMalignant Melanoma\tPDPK1\t\tprotein\tO15530\tUNIPROT\tPDPK1\t\tprotein\tO15530\tUNIPROT\tunknown\tphosphorylation\tSer410\tGLPQRSGsNIEQYIH\t9606\tBTO:0000008\t\t\t\t\t\t\t\t10455013\tt\t\tlperfetto\t3-phosphoinositide-dependent protein kinase-1 (pdk1) expressed in unstimulated 293 cells was phosphorylated at ser-25, ser-241, ser-393, ser-396 and ser-410 and the level of phosphorylation of each site was unaffected by stimulation with insulin-like growth factor-1. Mutation of ser-241 to ala abolished pdk1 activity, whereas mutation of the other phosphorylation sites individually to ala did not affect pdk1 activity\tSIGNOR-236772\n",
      "SIGNOR-MM\tMalignant Melanoma\tAKT\t\tproteinfamily\tSIGNOR-PF24\tSIGNOR\tBAD\t\tprotein\tQ92934\tUNIPROT\tdown-regulates activity\tphosphorylation\tSer118\tGRELRRMsDEFVDSF\t9606\tBTO:0000938\t\t\t\t\t\t\t\t9346240\tt\t\tlperfetto\tExperiments in this study reveal that akt phosphorylates bad both in vitro and in vivo and that akt-mediated phosphorylation of bad effectively blocks bad induced cell death.[...] In addition, these findings implicate a particular phosphorylation site on bad, serine 136, in the suppression of bad-mediated death by akt.[...]The Phosphorylation of bad may lead to the prevention of cell death via a mechanism that involves the selective association of the phosphorylated forms of bad with 14-3-3 protein isoforms. Akt phosphorylates bad in vitro and in vivo we show that growth factor activation of the pi3'k/akt signaling pathway culminates in the phosphorylation of the bcl-2 family member bad, thereby suppressing apoptosis and promoting cell survival. Akt phosphorylates bad in vitro and in vivo erbb-mediated phosphorylation of bad by akt promotes survival by blocking the interaction of this pro-apoptotic molecule with bcl-2 and bcl-x proteins\tSIGNOR-244148\n",
      "SIGNOR-MM\tMalignant Melanoma\tPDPK1\t\tprotein\tO15530\tUNIPROT\tPDPK1\t\tprotein\tO15530\tUNIPROT\tdown-regulates activity\tphosphorylation\tSer241\tSKQARANsFVGTAQY\t-1\t\t\t\t\t\t\t\t\t12177059\tt\t\tmiannu\tPDK1 kinase activity is negatively regulated by binding to 14-3-3 through the PDK1 autophosphorylation site Ser-241. PDK1 binds to 14-3-3 in vivo and in vitro through the residues surrounding the autophosphorylation site Ser-241 and that the association is achieved only when Ser-241 has been phosphorylated \tSIGNOR-250077\n",
      "SIGNOR-MM\tMalignant Melanoma\tPTEN\t\tprotein\tP60484\tUNIPROT\tPTEN\t\tprotein\tP60484\tUNIPROT\tup-regulates activity\tdephosphorylation\tSer380\tEPDHYRYsDTTDSDP\t9606\tBTO:0000007\t\t\t\t\t\t\t\t22413754\tt\t\tmiannu\tOverall, our results suggest that PTEN autodephosphorylation may be a critical event in this process; thus a major protein substrate for PTEN may be PTEN itself.|Various studies have demonstrated that PTEN is itself a phosphoprotein, and that the major sites of phosphorylation are found in an acidic stretch (DHYRYSDTTDSDPENE) near the C-terminus [1]. This prompted us to consider whether PTEN may autodephosphorylate these sites\tSIGNOR-248544\n",
      "SIGNOR-MM\tMalignant Melanoma\tAKT\t\tproteinfamily\tSIGNOR-PF24\tSIGNOR\tCREB1\tfactor\tprotein\tP16220\tUNIPROT\tup-regulates activity\tphosphorylation\tSer133\tEILSRRPsYRKILND\t9606\tBTO:0000007\t\t\t\t\t\t\t\t9829964\tt\t\tgcesareni\tWhen overexpressed in serum-stimulated cells, Akt/PKB potently induced Ser-133 phosphorylation of CREB and promoted recruitment of CBP. Correspondingly, Akt/PKB stimulated target gene expression via CREB in a phospho(Ser-133)-dependent manner.\tSIGNOR-247992\n",
      "SIGNOR-MM\tMalignant Melanoma\tPDPK1\t\tprotein\tO15530\tUNIPROT\tAKT\t\tproteinfamily\tSIGNOR-PF24\tSIGNOR\tup-regulates\tphosphorylation\tThr308\tKDGATMKtFCGTPEY\t9606\t\t\t\t\t\t\t\t\t12808134\tt\t\tlperfetto\tAkt1 and akt2 are phosphorylated and activated by the protein kinase pdk1 at thr-308 or thr-309, respectively, in the activation t-loop, and further activation occurs through phosphorylation at ser-473 or ser-474, respectively. In this paper, we demonstrate that this is indeed the case, and report the purification and initial characterization of a 3 phosphoinositide-dependent protein kinase, pdk1, which activates pkb by phosphorylating it at thr308. Akt is directly phosphorylated and activated by pdk1. Akt/pkb activation requires the phosphorylation of thr308 in the activation loop by the phosphoinositide-dependent kinase 1 (pdk1).\tSIGNOR-134477\n",
      "SIGNOR-MM\tMalignant Melanoma\tPDPK1\t\tprotein\tO15530\tUNIPROT\tAKT\t\tproteinfamily\tSIGNOR-PF24\tSIGNOR\tup-regulates activity\tphosphorylation\tThr308\tKDGATMKtFCGTPEY\t9606\tBTO:0000567\t\t\t\t\t\t\t\t15718470\tt\t\tgcesareni\tAkt/PKB activation requires the phosphorylation of Thr308 in the activation loop by the phosphoinositide-dependent kinase 1 (PDK1) and Ser473 within the carboxyl-terminal hydrophobic motif by an unknown kinase.\tSIGNOR-243203\n",
      "SIGNOR-MM\tMalignant Melanoma\tPIK3CA\t\tprotein\tP42336\tUNIPROT\tAKT\t\tproteinfamily\tSIGNOR-PF24\tSIGNOR\tup-regulates activity\t\t\t\t9606\t\tBTO:0000150\t\t\t\t\t\t\t19573809\tf\t\tlperfetto\tHowever, here we show through phosphoprotein profiling and functional genomic studies that many PIK3CA mutant cancer cell lines and human breast tumors exhibit only minimal AKT activation and a diminished reliance on AKT for anchorage-independent growth\tSIGNOR-236436\n",
      "SIGNOR-MM\tMalignant Melanoma\tPTEN\t\tprotein\tP60484\tUNIPROT\tAKT\t\tproteinfamily\tSIGNOR-PF24\tSIGNOR\tdown-regulates activity\t\t\t\t9606\tBTO:0001271\t\t\t\t\t\t\t\t20596030\tf\t\tlperfetto\tExposure of eol-1r cells to imatinib failed to dephosphorylate akt, erk and stat5, although pdgfralpha was effectively inactivated. The forced expression of pten negatively regulated these signal pathways and sensitized eol-1r cells to imatinib.\tSIGNOR-166478\n",
      "SIGNOR-MM\tMalignant Melanoma\tPtsIns(3,4,5)P3\treceptor\tsmallmolecule\tCID:24755492\tPUBCHEM\tAKT\t\tproteinfamily\tSIGNOR-PF24\tSIGNOR\tup-regulates activity\trelocalization\t\t\t9606\t\tBTO:0001130\t\t\t\t\t\t\t23633519\tf\t\tlperfetto\tAkt is a serine-threonine protein kinase that plays important roles in cell growth, proliferation and apoptosis. It is activated after binding to phosphatidylinositol phosphates pips) with phosphate groups at positions 3,4 and 3,4,5 on the inositol ring.\tSIGNOR-236490\n",
      "SIGNOR-MM\tMalignant Melanoma\tPtsIns(3,4,5)P3\treceptor\tsmallmolecule\tCID:24755492\tPUBCHEM\tAKT\t\tproteinfamily\tSIGNOR-PF24\tSIGNOR\tup-regulates activity\trelocalization\t\t\t9606\t\tBTO:0000150\t\t\t\t\t\t\t23119004\tf\t\tlperfetto\tBinding of igf to igf-ir activates pi3k to generate pip3 which in turn recruits and activates proteins that contain a pleckstrin homology ph) domain, including akt and pdk1.\tSIGNOR-236509\n",
      "SIGNOR-MM\tMalignant Melanoma\tAKT\t\tproteinfamily\tSIGNOR-PF24\tSIGNOR\tBAD\t\tprotein\tQ92934\tUNIPROT\tdown-regulates activity\tphosphorylation\tSer75\tEIRSRHSsYPAGTED\t9606\tBTO:0000007\t\t\t\t\t\t\t\t9381178\tt\t\t\tActive Akt induced a significant increase in BAD phosphorylation.  mutant BAD with alanine substitutions at Ser112 and Ser136 was not phosphorylated by active Akt .  phosphorylation of BAD by Akt will preclude its binding to membrane-anchored Bcl-xL, leading to increased cell survival.\tSIGNOR-251469\n",
      "SIGNOR-MM\tMalignant Melanoma\tAKT\t\tproteinfamily\tSIGNOR-PF24\tSIGNOR\tBAD\t\tprotein\tQ92934\tUNIPROT\tdown-regulates activity\tphosphorylation\tSer99\tPFRGRSRsAPPNLWA\t9606\tBTO:0000007\t\t\t\t\t\t\t\t9381178\tt\t\t\tActive Akt induced a significant increase in BAD phosphorylation.  mutant BAD with alanine substitutions at Ser112 and Ser136 was not phosphorylated by active Akt .  phosphorylation of BAD by Akt will preclude its binding to membrane-anchored Bcl-xL, leading to increased cell survival.\tSIGNOR-251470\n",
      "SIGNOR-MM\tMalignant Melanoma\tERK1/2\t\tproteinfamily\tSIGNOR-PF1\tSIGNOR\tBCL2\t\tprotein\tP10415\tUNIPROT\tup-regulates quantity by stabilization\tphosphorylation\tSer87\tAAAGPALsPVPPVVH\t9606\tBTO:0000567\t\t\t\t\t\t\t\t10669763\tt\t\tlperfetto\tThe results of this study reveal the following novel findings: destruction of the three putative MAP kinase sites at positions 56, 74, and 87 results in ubiquitination and subsequent degradation of the protein. Progressive inactivation of these MAP kinase sites revealed that Bcl-2 stability is mainly regulated by phosphorylation at Thr74 and Ser87, with Ser87 phosphorylation playing a predominant role. TNF-α or the MAP kinase-specific inhibitor PD98059 diminishes Ser87 phosphorylation of Bcl-2 in vivo, while activated ERK2 induces phosphorylation of Bcl-2 in vivo and in vitro.\tSIGNOR-244505\n",
      "SIGNOR-MM\tMalignant Melanoma\tERK1/2\t\tproteinfamily\tSIGNOR-PF1\tSIGNOR\tBCL2\t\tprotein\tP10415\tUNIPROT\tup-regulates quantity by stabilization\tphosphorylation\tThr74\tARTSPLQtPAAPGAA\t9606\tBTO:0000567\t\t\t\t\t\t\t\t10669763\tt\t\tlperfetto\tThe results of this study reveal the following novel findings: destruction of the three putative MAP kinase sites at positions 56, 74, and 87 results in ubiquitination and subsequent degradation of the protein. Progressive inactivation of these MAP kinase sites revealed that Bcl-2 stability is mainly regulated by phosphorylation at Thr74 and Ser87, with Ser87 phosphorylation playing a predominant role. TNF-α or the MAP kinase-specific inhibitor PD98059 diminishes Ser87 phosphorylation of Bcl-2 in vivo, while activated ERK2 induces phosphorylation of Bcl-2 in vivo and in vitro.\tSIGNOR-244494\n",
      "SIGNOR-MM\tMalignant Melanoma\tERK1/2\t\tproteinfamily\tSIGNOR-PF1\tSIGNOR\tBCL2\t\tprotein\tP10415\tUNIPROT\tup-regulates\tphosphorylation\tThr56\tFSSQPGHtPHPAASR\t9606\t\t\t\t\t\t\t\t\t10669763\tt\t\tlperfetto\tThe results of this study reveal the following novel findings: destruction of the three putative MAP kinase sites at positions 56, 74, and 87 results in ubiquitination and subsequent degradation of the protein. Progressive inactivation of these MAP kinase sites revealed that Bcl-2 stability is mainly regulated by phosphorylation at Thr74 and Ser87, with Ser87 phosphorylation playing a predominant role. TNF-α or the MAP kinase-specific inhibitor PD98059 diminishes Ser87 phosphorylation of Bcl-2 in vivo, while activated ERK2 induces phosphorylation of Bcl-2 in vivo and in vitro.\tSIGNOR-244610\n",
      "SIGNOR-MM\tMalignant Melanoma\tERK1/2\t\tproteinfamily\tSIGNOR-PF1\tSIGNOR\tSOS1\t\tprotein\tQ07889\tUNIPROT\tdown-regulates activity\tphosphorylation\t\t\t9606\t\tBTO:0000763;BTO:0000149\t\t\t\t\t\t\t20724475\tt\t\tlperfetto\tERK activation was sufficient for the SOS1 phosphorylation and resulting inhibition of EGF-induced Ras activation. This result also showed that SOS1 could be phosphorylated by ERK in the absence of association with EGFR at the plasma membrane, which is a phosphotyrosine-dependent process. \tSIGNOR-244591\n",
      "SIGNOR-MM\tMalignant Melanoma\tERK1/2\t\tproteinfamily\tSIGNOR-PF1\tSIGNOR\tSOS1\t\tprotein\tQ07889\tUNIPROT\tdown-regulates\tphosphorylation\tSer1193\tQPTSKAYsPRYSISD\t9606\t\t\t\t\t\t\t\t\t20724475\tt\t\tlperfetto\tERK activation was sufficient for the SOS1 phosphorylation and resulting inhibition of EGF-induced Ras activation. This result also showed that SOS1 could be phosphorylated by ERK in the absence of association with EGFR at the plasma membrane, which is a phosphotyrosine-dependent process. \tSIGNOR-244747\n",
      "SIGNOR-MM\tMalignant Melanoma\tERK1/2\t\tproteinfamily\tSIGNOR-PF1\tSIGNOR\tSOS1\t\tprotein\tQ07889\tUNIPROT\tdown-regulates\tphosphorylation\tSer1178\tIMSKHLDsPPAIPPR\t9606\t\t\t\t\t\t\t\t\t20724475\tt\t\tlperfetto\tERK activation was sufficient for the SOS1 phosphorylation and resulting inhibition of EGF-induced Ras activation. This result also showed that SOS1 could be phosphorylated by ERK in the absence of association with EGFR at the plasma membrane, which is a phosphotyrosine-dependent process.\tSIGNOR-244743\n",
      "SIGNOR-MM\tMalignant Melanoma\tAKT\t\tproteinfamily\tSIGNOR-PF24\tSIGNOR\tCREB1\tfactor\tprotein\tP16220\tUNIPROT\tup-regulates activity\tphosphorylation\tSer133\tEILSRRPsYRKILND\t9606\tBTO:0000007\t\t\t\t\t\t\t\t9829964\tf\t\t\tThe nuclear factor CREB stimulates the expression of cellular genes following its protein kinase A-mediated phosphorylation at Ser-133. Ser-133 phosphorylation, in turn, activates target gene expression by promoting recruitment of the co-activator CBP. |When overexpressed in serum-stimulated cells, Akt/PKB potently induced Ser-133 phosphorylation of CREB and promoted recruitment of CBP. \tSIGNOR-251474\n",
      "SIGNOR-MM\tMalignant Melanoma\tTP53\tfactor\tprotein\tP04637\tUNIPROT\tBCL2\t\tprotein\tP10415\tUNIPROT\tdown-regulates activity\tbinding\t\t\t9606\t\t\t\t\t\t\t\t\t19007744\tt\tCytosolic p53\tlperfetto\tMechanistic insights into the mitochondrial function of wtp53 came when it was realized that mitochondrially translocated p53 interacts directly with members of the Bcl-2 family, which are central in governing the induction of mitochondrial outer membrane permeabilization. In response to stress, wtp53 interacts with and neutralizes the anti-apoptotic members Bcl-xL and Bcl-2. This interaction stimulates MOMP and subsequent apoptosis\tSIGNOR-99712\n",
      "SIGNOR-MM\tMalignant Melanoma\tGRB2\t\tprotein\tP62993\tUNIPROT\tSOS1\t\tprotein\tQ07889\tUNIPROT\tup-regulates activity\trelocalization\t\t\t9606\tBTO:0001412\t\t\t\t\t\t\t\t10570290\tt\tGRB2 associated guanine nucleotide exchange factor Sos activates Ras through the exchange of GDP for GTP\tlperfetto\tGrb2 binds and activates sos, which then activates ras, and this activates p110 independently of p85.\tSIGNOR-236792\n",
      "SIGNOR-MM\tMalignant Melanoma\tERK1/2\t\tproteinfamily\tSIGNOR-PF1\tSIGNOR\tProliferation\tfactor\tphenotype\tSIGNOR-PH4\tSIGNOR\tup-regulates\t\t\t\t9606\t\t\t\t\t\t\t\t\t19819937\tf\t\t\tIn addition to the JAK2–STAT5 pathway, the Ras GTPase–extracellular signal-regulated kinase (Ras–ERK) pathway has also been implicated in signaling of IL-5 and is important for IL-5-dependent cell survival, proliferation and differentiation of eosinophils\tSIGNOR-254354\n",
      "SIGNOR-MM\tMalignant Melanoma\tERK1/2\t\tproteinfamily\tSIGNOR-PF1\tSIGNOR\tProliferation\tfactor\tphenotype\tSIGNOR-PH4\tSIGNOR\tup-regulates\t\t\t\t9606\t\t\t\t\t\t\t\t\t24743741\tf\t\t\tActivation of PDGFRα stimulates proliferation of PDGFRα+ cells through PI3K-Akt and MEK2-MAPK signaling pathways, and aberrant accumulation of PDGFRα+ cells was conspicuous in muscles of patients with both genetic and non-genetic muscle diseases\tSIGNOR-254374\n",
      "SIGNOR-MM\tMalignant Melanoma\tAKT\t\tproteinfamily\tSIGNOR-PF24\tSIGNOR\tMDM2\t\tprotein\tQ00987\tUNIPROT\tup-regulates activity\tphosphorylation\tSer188\tRKRHKSDsISLSFDE\t9606\t\tBTO:0000671\t\t\t\t\t\t\t15169778\tt\t\tlperfetto\tStabilization of mdm2 via decreased ubiquitination is mediated by protein kinase b/akt-dependent phosphorylationhere we show that pkb inhibits mdm2 self-ubiquitination via phosphorylation of mdm2 on ser(166) and ser(188)\tSIGNOR-244300\n",
      "SIGNOR-MM\tMalignant Melanoma\tPtsIns(3,4,5)P3\treceptor\tsmallmolecule\tCID:24755492\tPUBCHEM\tPDPK1\t\tprotein\tO15530\tUNIPROT\tup-regulates activity\tbinding\t\t\t\t\t\t\t\t\t\t\t\t19951971\tt\t\tlperfetto\tPIP3 recruits PDK1 and AKT to the plasma membrane, where PDK1 phosphorylates AKT on Thr308 in the activation loop of the kinase domain.\tSIGNOR-249628\n",
      "SIGNOR-MM\tMalignant Melanoma\tAKT\t\tproteinfamily\tSIGNOR-PF24\tSIGNOR\tSurvival\tphenotypesList\tphenotype\tSIGNOR-PH13\tSIGNOR\tup-regulates\t\t\t\t9606\tBTO:0000830\t\t\t\t\t\t\t\t15526160\tf\t\t\tActivation of PI3-kinase by c-Kit has been linked to mitogenesis, differentiation, survival, adhesion, secretion and actin cytoskeletal reorganization.\tSIGNOR-254952\n",
      "SIGNOR-MM\tMalignant Melanoma\tBAD\t\tprotein\tQ92934\tUNIPROT\tSurvival\tphenotypesList\tphenotype\tSIGNOR-PH13\tSIGNOR\tup-regulates\t\t\t\t9606\tBTO:0000830\t\t\t\t\t\t\t\t15526160\tf\t\t\tActivation of PI3-kinase by c-Kit has been linked to mitogenesis, differentiation, survival, adhesion, secretion and actin cytoskeletal reorganization.\tSIGNOR-254953\n",
      "SIGNOR-MM\tMalignant Melanoma\tKITLG\textracellular\tprotein\tP21583\tUNIPROT\tKIT\treceptor\tprotein\tP10721\tUNIPROT\tup-regulates\tbinding\t\t\t9606\tBTO:0000830\t\t\t\t\t\t\t\t17259966\tt\t\t\tThe most relevant and still unique mast-cell growth factor is SCF, which is the ligand of KIT, a receptor with tyrosine-kinase activity that is expressed on the surface of all human and murine mast cells\tSIGNOR-254946\n",
      "SIGNOR-MM\tMalignant Melanoma\tKIT\treceptor\tprotein\tP10721\tUNIPROT\tERK1/2\t\tproteinfamily\tSIGNOR-PF1\tSIGNOR\tup-regulates\t\t\t\t9606\tBTO:0000830\t\t\t\t\t\t\t\t15526160\tf\t\t\tA number of studies have demonstrated the ability of SCF to activate the Ras-Erk pathway. The adapter protein Grb2 can directly associate with phosphorylated Y703 and Y936 in c-Kit\tSIGNOR-254947\n",
      "SIGNOR-MM\tMalignant Melanoma\tERK1/2\t\tproteinfamily\tSIGNOR-PF1\tSIGNOR\tSurvival\tphenotypesList\tphenotype\tSIGNOR-PH13\tSIGNOR\tup-regulates\t\t\t\t9606\tBTO:0000830\t\t\t\t\t\t\t\t15526160\tf\t\t\tNumerous studies have implicated the critical importance of the Ras/Erk pathway in cell division and survival\tSIGNOR-254948\n",
      "SIGNOR-MM\tMalignant Melanoma\tPtsIns(3,4,5)P3\treceptor\tsmallmolecule\tCID:24755492\tPUBCHEM\tAKT\t\tproteinfamily\tSIGNOR-PF24\tSIGNOR\tup-regulates\trelocalization\t\t\t10116\t\t\t\t\t\t\t\t\t8645147\tt\t\t\tActivated hyperphosphorylated Akt-1 bound to Ptd Ins(3,4,5)P3 -containing vesicles in a similar manner to the inactive dephosphorylated enzyme\tSIGNOR-254982\n",
      "SIGNOR-MM\tMalignant Melanoma\tERK1/2\t\tproteinfamily\tSIGNOR-PF1\tSIGNOR\tProliferation\tfactor\tphenotype\tSIGNOR-PH4\tSIGNOR\tup-regulates\t\t\t\t10090\t\t\t\t\t\t\t\t\t20219869\tf\t\tareggio\tFurthermore, stimulation of myoblasts with CCL2, CCL3, or CCL4 was sufficient to induce phosphorylation and activation of ERK1/2. This outcome may be functionally important because ERK1/2 activation is a component of the pathway through which many mitogenic growth factors can stimulate cell proliferation.\tSIGNOR-255120\n",
      "SIGNOR-MM\tMalignant Melanoma\tERK1/2\t\tproteinfamily\tSIGNOR-PF1\tSIGNOR\tBRAF\t\tprotein\tP15056\tUNIPROT\tdown-regulates\tphosphorylation\tThr401\tSTTGLSAtPPASLPG\t9606\t\t\t\t\t\t\t\t\t21135229\tt\t\tlperfetto\tWe show that b-raf is a calcineurin substrate;among calcineurin target residues on b-raf is t401, a site of negative feedback phosphorylation by erk1/2. Blocking calcineurin activity in _ cells prevents dephosphorylation of b-raf t401 and decreases b-raf and erk1/2 activities.\tSIGNOR-170339\n",
      "SIGNOR-MM\tMalignant Melanoma\tBCL2L1\t\tprotein\tQ07817\tUNIPROT\tBAD\t\tprotein\tQ92934\tUNIPROT\tup-regulates activity\tbinding\t\t\t-1\t\t\t\t\t\t\t\t\t10949026\tt\t\tlperfetto\tBad dimerizes with bcl-xl at the mitochondrial membrane where it exert its killing effects. Phosphorylation of bad promotes its binding to 14-3-3 protein, which may sequester bad from bcl-xl, thus promoting cell cells survival.\tSIGNOR-81125\n",
      "SIGNOR-MM\tMalignant Melanoma\tSOS1\t\tprotein\tQ07889\tUNIPROT\tNRAS\t\tprotein\tP01111\tUNIPROT\tup-regulates activity\tguanine nucleotide exchange factor\t\t\t9606\tBTO:0000938\t\t\t\t\t\t\t\t11560935\tt\t\tlperfetto\tSos and Ras-GRF are two families of guanine nucleotide exchange factors that activate Ras proteins in cells. Sos proteins are ubiquitously expressed and are activated in response to cell-surface tyrosine kinase stimulation Sos1 and Ras-GRF1 activate the Ras proteins Ha-Ras, N-Ras, and Ki-Ras\tSIGNOR-110566\n",
      "SIGNOR-MM\tMalignant Melanoma\tBAK/BAX\t\tcomplex\tSIGNOR-C96\tSIGNOR\tApoptosis\tphenotypesList\tphenotype\tSIGNOR-PH2\tSIGNOR\tup-regulates\t\t\t\t9606\t\t\t\t\t\t\t\t\t23567751\tf\t\tlperfetto\tThe mitochondrial pathway of apoptosis proceeds when the outer mitochondrial membrane (OMM) is compromised by the pro-apoptotic BCL-2 family members, BAK and BAX. Once activated, BAK and BAX form proteolipid pores in the OMM leading to mitochondrial outer membrane permeabilization (MOMP), and the release of inner membrane space proteins, such as cytochrome c, which promotes caspase activation.\tSIGNOR-233931\n",
      "SIGNOR-MM\tMalignant Melanoma\tBAD\t\tprotein\tQ92934\tUNIPROT\tBCL2\t\tprotein\tP10415\tUNIPROT\tdown-regulates activity\trelocalization\t\t\t9606\tBTO:0000007\t\t\t\t\t\t\t\t15694340\tt\t\tlperfetto\tApoptosis is initiated when Bcl-2 and its prosurvival relatives are engaged by proapoptotic BH3-only proteins via interaction of its BH3 domain with a groove on the Bcl-2-like proteins. These interactions have been considered promiscuous, but our analysis of the affinity of eight BH3 peptides for five Bcl-2-like proteins has revealed that the interactions vary over 10,000-fold in affinity, and accordingly, only certain protein pairs associate inside cells. Bim and Puma potently engaged all the prosurvival proteins comparably. Bad, however, bound tightly to Bcl-2, Bcl-xL, and Bcl-w but only weakly to A1 and not to Mcl-1.\tSIGNOR-133756\n",
      "SIGNOR-MM\tMalignant Melanoma\tERK1/2\t\tproteinfamily\tSIGNOR-PF1\tSIGNOR\tBCL2\t\tprotein\tP10415\tUNIPROT\tup-regulates quantity by stabilization\tphosphorylation\tSer70\tRDPVARTsPLQTPAA\t9534\tBTO:0004055\t\t\t\t\t\t\t\t10677502\tt\t\tlperfetto\tErk1 and erk2 directly phosphorylate bcl2 exclusively at ser-70.\tSIGNOR-244501\n",
      "SIGNOR-MM\tMalignant Melanoma\tRB1\t\tprotein\tP06400\tUNIPROT\tE2F1\tfactor\tprotein\tQ01094\tUNIPROT\tdown-regulates activity\tbinding\t\t\t9606\t\t\t\t\t\t\t\t\t8255752\tt\t\tamattioni\tE2f binds rb. E2f activation domain is the target for rb-induced repression. Rb can silence the 57 residue e2f activation domain. Rb can mask e2f residues involved in the activation process, possibly by mimicking a component of the transcriptional machinery\tSIGNOR-37305\n",
      "SIGNOR-MM\tMalignant Melanoma\tE2F1\tfactor\tprotein\tQ01094\tUNIPROT\tG1/S transition\t\tphenotype\tSIGNOR-PH50\tSIGNOR\tup-regulates\t\t\t\t9606\t\t\t\t\t\t\t\t\t21524151\tf\t\tlperfetto\tIn its hypophosphorylated state, pRb binds transcription factors of the E2F family which are required for cell cycle progression. As the level of CyclinD/Cdk4/6 complexes increases, pRb becomes phosphorylated and progression through G1 occurs. At a critical level of phosphorylation, E2F is released from pRb. This activates the transcription of CyclinE which complexes with Cdk2 to fully release pRb repression by further phosphorylation, establishing a positive feedback loop. E2F further promotes the transcription of S-phase genes. Thus, CyclinD/Cdk4/6 and CyclinE/Cdk2 together regulate S-phase entry via phosphorylating pRb, which controls pRb binding to E2F\tSIGNOR-245477\n",
      "SIGNOR-MM\tMalignant Melanoma\tRPS6KA5\t\tprotein\tO75582\tUNIPROT\tCREB1\tfactor\tprotein\tP16220\tUNIPROT\tup-regulates\tphosphorylation\tSer133\tEILSRRPsYRKILND\t9606\tBTO:0000567\t\t\t\t\t\t\t\t9687510\tt\t\tlperfetto\tMsk1 is localized in the nucleus of unstimulated or stimulated cells, and phosphorylates creb at ser133_ .MSK1 Is activated in vitro by mapk2/erk2 or sapk2/p38. Endogenous msk1 is activated in 293 cells by either growth factor/phorbol ester stimulation, or by exposure to uv radiation, and oxidative and chemical stres msk was the kinase responsible for phosphorylation of the transcription factor creb in response to tcr stimulation. Pka, ca2+-calmodulin-dependent kinase iv (camkiv), msk, p70s6k and rsk phosphorylate creb.\tSIGNOR-59458\n",
      "SIGNOR-MM\tMalignant Melanoma\tCyclinD/CDK4\t\tcomplex\tSIGNOR-C18\tSIGNOR\tRB1\t\tprotein\tP06400\tUNIPROT\tdown-regulates activity\tphosphorylation\tThr826\tLPTPTKMtPRSRILV\t9606\t\t\t\t\t\t\t\t\t9139732\tt\t\tlperfetto\tWe demonstrate that phosphorylation by either cdk2-cyclin a, which phosphorylates t821, or cdk4-cyclin d1, which phosphorylates threonine 826, can disable prb for subsequent binding of an lxcxe protein.\tSIGNOR-216957\n",
      "SIGNOR-MM\tMalignant Melanoma\tBCL2\t\tprotein\tP10415\tUNIPROT\tBAK/BAX\t\tcomplex\tSIGNOR-C96\tSIGNOR\tdown-regulates activity\tbinding\t\t\t9606\t\t\t\t\t\t\t\t\t16243507\tt\t\tlperfetto\tDisplacement model. BH3-only proteins are proposed to activate Bax and Bak by displacing them from the Bcl-2 pro-survival proteins that sequester their active forms\tSIGNOR-209681\n",
      "SIGNOR-MM\tMalignant Melanoma\tCDKN2A\t\tprotein\tP42771\tUNIPROT\tCyclinD/CDK4\t\tcomplex\tSIGNOR-C18\tSIGNOR\tdown-regulates activity\tbinding\t\t\t9606\t\t\t\t\t\t\t\t\t8891723\tt\t\tlperfetto\tThe first group, including p16ink4a, p15ink4b,p18ink4cand p19ink4d, is specific for the g1 cdks,cdk4and cdk6, inhibiting the kinase activity of cyclin d/cdk4-cdk6 complexes on prb.\tSIGNOR-217514\n",
      "SIGNOR-MM\tMalignant Melanoma\tBCL2\t\tprotein\tP10415\tUNIPROT\tApoptosis\tphenotypesList\tphenotype\tSIGNOR-PH2\tSIGNOR\tdown-regulates\t\t\t\t\t\t\t\t\t\t\t\t\t1286168\tf\t\tlperfetto\tBcl-2 functions to inhibit apoptosis in a variety of in vitro and in vivo experiments, suggesting interference with a central mechanism of apoptosis\tSIGNOR-249611\n",
      "SIGNOR-MM\tMalignant Melanoma\tERK1/2\t\tproteinfamily\tSIGNOR-PF1\tSIGNOR\tRPS6KA5\t\tprotein\tO75582\tUNIPROT\tup-regulates\tphosphorylation\tSer360\tTEMDPTYsPAALPQS\t9606\t\t\t\t\t\t\t\t\t18267068\tt\t\tlperfetto\tTogether, our in vivo and in vitro studies indicate that the pkc/c-raf/mek/erk pathway plays a major role in the s6k1 activation in hypertrophic cardiac growth.\tSIGNOR-249572\n",
      "SIGNOR-MM\tMalignant Melanoma\tERK1/2\t\tproteinfamily\tSIGNOR-PF1\tSIGNOR\tRPS6KA5\t\tprotein\tO75582\tUNIPROT\tup-regulates\tphosphorylation\tThr581\tPDNQPLKtPCFTLHY\t9606\t\t\t\t\t\t\t\t\t18267068\tt\t\tlperfetto\tTogether, our in vivo and in vitro studies indicate that the pkc/c-raf/mek/erk pathway plays a major role in the s6k1 activation in hypertrophic cardiac growth.\tSIGNOR-249573\n",
      "SIGNOR-MM\tMalignant Melanoma\tAKT\t\tproteinfamily\tSIGNOR-PF24\tSIGNOR\tMDM2\t\tprotein\tQ00987\tUNIPROT\tup-regulates activity\tphosphorylation\tSer186\tRQRKRHKsDSISLSF\t9606\t\t\t\t\t\t\t\t\t11504915\tt\t\tlperfetto\tMitogen-induced activation of phosphatidylinositol 3-kinase (pi3-kinase) and its downstream target, the akt/pkb serine-threonine kinase, results in phosphorylation of mdm2 on serine 166 and serine 186. Phosphorylation on these sites is necessary for translocation of mdm2 from the cytoplasm into the nucleus.Both akt expression and serum treatment induced phosphorylation of mdm2 at ser186.\tSIGNOR-244292\n",
      "SIGNOR-MM\tMalignant Melanoma\tERK1/2\t\tproteinfamily\tSIGNOR-PF1\tSIGNOR\tE2F1\tfactor\tprotein\tQ01094\tUNIPROT\tup-regulates activity\tphosphorylation\t\t\t9606\t\t\t\t\t\t\t\t\t23616010\tt\t\tlperfetto\tErk also undergoes rapid translocation into the nucleus, where it phosphorylates and activates a variety of transcription factor targets, including sp1, e2f, elk-1, and ap1.\tSIGNOR-233526\n",
      "SIGNOR-MM\tMalignant Melanoma\tPtsIns(3,4,5)P3\treceptor\tsmallmolecule\tCID:24755492\tPUBCHEM\tPDPK1\t\tprotein\tO15530\tUNIPROT\tup-regulates activity\trelocalization\t\t\t9606\t\t\t\t\t\t\t\t\t21798082\tt\t\tlperfetto\tPip3 acts in turn as a docking site for two kinases, phosphoinositide-dependent kinase 1 (pdk1) and akt, and the subsequent phosphorylation of akt at serine 308 by pdk1, leading to akt activation.\tSIGNOR-175253\n",
      "SIGNOR-MM\tMalignant Melanoma\tPtsIns(3,4,5)P3\treceptor\tsmallmolecule\tCID:24755492\tPUBCHEM\tPDPK1\t\tprotein\tO15530\tUNIPROT\tup-regulates activity\trelocalization\t\t\t9606\t\t\t\t\t\t\t\t\t9637919\tt\t\tlperfetto\tIn response to pdgf, binding of ptdlns (3,4,5)p3 and/or ptdlns(3,4)p2 to the ph domain of pdk-1 causes its translocation to the plasma membrane where it co-localises with pkb, significantly contributing to the scale of pkb activation.\tSIGNOR-58313\n",
      "SIGNOR-MM\tMalignant Melanoma\tPDPK1\t\tprotein\tO15530\tUNIPROT\tPDPK1\t\tprotein\tO15530\tUNIPROT\tup-regulates activity\tphosphorylation\tSer241\tSKQARANsFVGTAQY\t9606\tBTO:0000007\t\t\t\t\t\t\t\t10455013\tt\t\tlperfetto\tPdk1 is itself phosphorylated in vivo and whether phosphorylation plays a role in regulating its activity/ phosphorylation of ser-241 is essential for the activity of 3-phosphoinositide-dependent protein kinase-1\tSIGNOR-236789\n",
      "SIGNOR-MM\tMalignant Melanoma\tCREB1\tfactor\tprotein\tP16220\tUNIPROT\tSurvival\tphenotypesList\tphenotype\tSIGNOR-PH13\tSIGNOR\tup-regulates\t\t\t\t9606\t\t\t\t\t\t\t\t\t20660310\tf\t\tamattioni\tbeta-catenin/CBP-driven transcription is critical for maintenance of an undifferentiated/proliferative state\tSIGNOR-229777\n",
      "SIGNOR-MM\tMalignant Melanoma\tKIT\treceptor\tprotein\tP10721\tUNIPROT\tKIT\treceptor\tprotein\tP10721\tUNIPROT\tup-regulates activity\tphosphorylation\tTyr568\tEEINGNNyVYIDPTQ\t9606\tBTO:0001271\t\t\t\t\t\t\t\t12824176\tt\t\tlperfetto\tUpon binding its ligand, stem cell factor (scf), c-kit forms an active dimer that autophosphorylates itself and activates a signaling cascade that induces cell growth./ Tyr-568 and tyr-570 are significantly phosphorylated\tSIGNOR-102633\n",
      "SIGNOR-MM\tMalignant Melanoma\tPIK3CA\t\tprotein\tP42336\tUNIPROT\tSurvival\tphenotypesList\tphenotype\tSIGNOR-PH13\tSIGNOR\tup-regulates\t\t\t\t9534\tBTO:0004055\t\t\t\t\t\t\t\t14665640\tf\t\tlperfetto\tSignal transduction pathways triggered by Tie2 have been extensively examined. Tyr-1101of Tie2 directly associates in a phosphotyrosine (pTyr)-dependent manner with the p85 regulatory subunit of phosphatidylinositol (PI) 3-kinase, which in turn activate PI 3-kinase, leading to cell motility and survival\tSIGNOR-242649\n",
      "SIGNOR-MM\tMalignant Melanoma\tKIT\treceptor\tprotein\tP10721\tUNIPROT\tKIT\treceptor\tprotein\tP10721\tUNIPROT\tup-regulates activity\tphosphorylation\tTyr570\tINGNNYVyIDPTQLP\t9606\tBTO:0001271\t\t\t\t\t\t\t\t12824176\tt\t\tlperfetto\tUpon binding its ligand, stem cell factor (scf), c-kit forms an active dimer that autophosphorylates itself and activates a signaling cascade that induces cell growth./ Tyr-568 and tyr-570 are significantly phosphorylated\tSIGNOR-102637\n",
      "SIGNOR-MM\tMalignant Melanoma\tKIT\treceptor\tprotein\tP10721\tUNIPROT\tKIT\treceptor\tprotein\tP10721\tUNIPROT\tup-regulates activity\tphosphorylation\tTyr823\tDIKNDSNyVVKGNAR\t9606\tBTO:0001271\t\t\t\t\t\t\t\t12824176\tt\t\tlperfetto\tUpon binding its ligand, stem cell factor (scf), c-kit forms an active dimer that autophosphorylates itself and activates a signaling cascade that induces cell growth. / tyr-823 is the last tyrosine residue to be autophosphorylated\tSIGNOR-102641\n",
      "SIGNOR-MM\tMalignant Melanoma\tBAD\t\tprotein\tQ92934\tUNIPROT\tBCL2L1\t\tprotein\tQ07817\tUNIPROT\tdown-regulates activity\tbinding\t\t\t9606\tBTO:0000007\t\t\t\t\t\t\t\t15694340\tt\t\tlperfetto\tBad, however, bound tightly to bcl-2, bcl2l1, and bcl2l2\tSIGNOR-133759\n",
      "SIGNOR-MM\tMalignant Melanoma\tPtsIns(3,4,5)P3\treceptor\tsmallmolecule\tCID:24755492\tPUBCHEM\tPDPK1\t\tprotein\tO15530\tUNIPROT\tup-regulates activity\tbinding\t\t\t-1\t\t\t\t\t\t\t\t\t9094314\tt\t\tgcesareni\tWe tested the kinase in the presence of several inositol phospholipids and found that only low micromolar concentrations of the D enantiomers of either phosphatidylinositol 3,4,5-triphosphate (PtdIns(3,4,5)P3) or PtdIns(3,4)P2 were effective in potently activating the kinase, which has been named PtdIns(3,4,5)P3-dependent protein kinase-1 (PDK1)\tSIGNOR-243274\n",
      "SIGNOR-MM\tMalignant Melanoma\tRPS6KA5\t\tprotein\tO75582\tUNIPROT\tRPS6KA5\t\tprotein\tO75582\tUNIPROT\tunknown\tphosphorylation\tSer750\tRRKMKKTsTSTETRS\t9606\t\t\t\t\t\t\t\t\t15568999\tt\t\tlperfetto\tMsk1 can autophosphorylate on at least six sites: ser-212, ser-376, ser-381, ser-750, ser-752 and ser-758.  ser-750, ser-752 and ser-758 are phosphorylated by the n-terminal kinase domain;however, their function is not known.\tSIGNOR-131399\n",
      "SIGNOR-MM\tMalignant Melanoma\tRPS6KA5\t\tprotein\tO75582\tUNIPROT\tRPS6KA5\t\tprotein\tO75582\tUNIPROT\tunknown\tphosphorylation\tSer752\tKMKKTSTsTETRSSS\t9606\t\t\t\t\t\t\t\t\t15568999\tt\t\tlperfetto\tMsk1 can autophosphorylate on at least six sites: ser-212, ser-376, ser-381, ser-750, ser-752 and ser-758.  ser-750, ser-752 and ser-758 are phosphorylated by the n-terminal kinase domain;however, their function is not known.\tSIGNOR-131403\n",
      "SIGNOR-MM\tMalignant Melanoma\tRPS6KA5\t\tprotein\tO75582\tUNIPROT\tRPS6KA5\t\tprotein\tO75582\tUNIPROT\tunknown\tphosphorylation\tSer758\tTSTETRSsSSESSHS\t9606\t\t\t\t\t\t\t\t\t15568999\tt\t\tlperfetto\tMsk1 can autophosphorylate on at least six sites: ser-212, ser-376, ser-381, ser-750, ser-752 and ser-758.  ser-750, ser-752 and ser-758 are phosphorylated by the n-terminal kinase domain;however, their function is not known.\tSIGNOR-131407\n",
      "SIGNOR-MM\tMalignant Melanoma\tAKT\t\tproteinfamily\tSIGNOR-PF24\tSIGNOR\tBRAF\t\tprotein\tP15056\tUNIPROT\tdown-regulates\tphosphorylation\tSer428\tGPQRERKsSSSSEDR\t9606\t\t\t\t\t\t\t\t\t10869359\tt\t\tlperfetto\tWe show that phosphorylation of b-raf by akt occurs at multiple residues within its amino terminal regulatory domain, at both the conserved and unique phosphorylation sites. Akt phosphorylated b-raf on s364 and s428 to inactivate its kinase activity b-raf contains three akt consensus sites, table i. One site, ser364 is conserved with c-raf;however, two sites, ser428 and thr439, are unique to b-raf\tSIGNOR-244160\n",
      "SIGNOR-MM\tMalignant Melanoma\tAKT\t\tproteinfamily\tSIGNOR-PF24\tSIGNOR\tBRAF\t\tprotein\tP15056\tUNIPROT\tdown-regulates\tphosphorylation\tSer364\tFGQRDRSsSAPNVHI\t9606\t\t\t\t\t\t\t\t\t10869359\tt\t\tlperfetto\tWe show that phosphorylation of b-raf by akt occurs at multiple residues within its amino terminal regulatory domain, at both the conserved and unique phosphorylation sites. Akt phosphorylated b-raf on s364 and s428 to inactivate its kinase activity b-raf contains three akt consensus sites, table i. One site, ser364 is conserved with c-raf;however, two sites, ser428 and thr439, are unique to b-raf\tSIGNOR-244152\n",
      "SIGNOR-MM\tMalignant Melanoma\tAKT\t\tproteinfamily\tSIGNOR-PF24\tSIGNOR\tBRAF\t\tprotein\tP15056\tUNIPROT\tdown-regulates\tphosphorylation\tThr440\tEDRNRMKtLGRRDSS\t9606\t\t\t\t\t\t\t\t\t10869359\tt\t\tlperfetto\tWe show that phosphorylation of b-raf by akt occurs at multiple residues within its amino terminal regulatory domain, at both the conserved and unique phosphorylation sites. Akt phosphorylated b-raf on s364 and s428 to inactivate its kinase activity b-raf contains three akt consensus sites, table i. One site, ser364 is conserved with c-raf;however, two sites, ser428 and thr439, are unique to b-raf\tSIGNOR-244156\n",
      "SIGNOR-MM\tMalignant Melanoma\tERK1/2\t\tproteinfamily\tSIGNOR-PF1\tSIGNOR\tBAD\t\tprotein\tQ92934\tUNIPROT\tdown-regulates activity\tphosphorylation\t\t\t-1\t\t\t\t\t\t\t\t\t8929531\tt\t\tlperfetto\tThe rapid phosphorylation of bad following il-3 connects a proximal survival signal with the bcl-2 family, modulating this checkpoint for apoptosis.phosphorylatedBAD is bound to 14-3-3 within the cytosol, while only nonphosphorylated BAD is heterodimerized with membrane-bound BCL-XL.\tSIGNOR-244497\n",
      "SIGNOR-MM\tMalignant Melanoma\tPDPK1\t\tprotein\tO15530\tUNIPROT\tAKT\t\tproteinfamily\tSIGNOR-PF24\tSIGNOR\tup-regulates\tphosphorylation\t\t\t9606\t\tBTO:0000887;BTO:0001103;BTO:0001760\t\t\t\t\t\t\t9512493\tt\t\tlperfetto\tThe activation of pkbbeta and pkbgamma by pdk1 was accompanied by the phosphorylation of the residues equivalent to thr308 in pkbalpha, namely thr309 (pkbbeta) and thr305 (pkbgamma)\tSIGNOR-244480\n",
      "SIGNOR-MM\tMalignant Melanoma\tBRAF\t\tprotein\tP15056\tUNIPROT\tMEK1/2\t\tproteinfamily\tSIGNOR-PF25\tSIGNOR\tup-regulates activity\tphosphorylation\t\t\t10090\tBTO:0000944\t\t\t\t\t\t\t\t8131746\tt\t\tlperfetto\tActivation of mek family kinases requires phosphorylation of two conserved ser/thr residueserine residues 218 and 222 of human mek1 are the primary sites for phosphorylation by c-raf.\tSIGNOR-244827\n",
      "SIGNOR-MM\tMalignant Melanoma\tBRAF\t\tprotein\tP15056\tUNIPROT\tMEK1/2\t\tproteinfamily\tSIGNOR-PF25\tSIGNOR\tup-regulates\tphosphorylation\t\t\t9606\t\tBTO:0000142\t\t\t\t\t\t\t8668348\tt\t\tlperfetto\tWe show that, consequently, b-raf interacts with mek-1 and mek-2 with a better affinity than does c-raf-1, thus strengthening the notion that b-raf is a stronger mek activator than c-raf-l.\tSIGNOR-244843\n",
      "SIGNOR-MM\tMalignant Melanoma\tERK1/2\t\tproteinfamily\tSIGNOR-PF1\tSIGNOR\tMEK1/2\t\tproteinfamily\tSIGNOR-PF25\tSIGNOR\tdown-regulates activity\tphosphorylation\t\t\t9606\tBTO:0000007\t\t\t\t\t\t\t\t10567369\tt\t\tlperfetto\tAn ERK2-binding site at the N terminus of MEK1 was reported to mediate their stable association. We examined the importance of this binding site in the feedback phosphorylation of mek1 on thr(292) and thr(386) by erk2\tSIGNOR-244858\n",
      "SIGNOR-MM\tMalignant Melanoma\tERK1/2\t\tproteinfamily\tSIGNOR-PF1\tSIGNOR\tMEK1/2\t\tproteinfamily\tSIGNOR-PF25\tSIGNOR\tdown-regulates activity\tphosphorylation\t\t\t9534\tBTO:0004055\t\t\t\t\t\t\t\t14993270\tt\t\tlperfetto\tWe propose that activation of erk during adhesion creates a feedback system in which erk phosphorylates mek1 on t292, and this in turn blocks additional s298 phosphorylation in response to integrin signaling.\tSIGNOR-244862\n",
      "SIGNOR-MM\tMalignant Melanoma\tPDPK1\t\tprotein\tO15530\tUNIPROT\tMEK1/2\t\tproteinfamily\tSIGNOR-PF25\tSIGNOR\tup-regulates activity\tphosphorylation\t\t\t9606\tBTO:0000007\t\t\t\t\t\t\t\t15175348\tt\t\tlperfetto\tIn vitro kinase assay revealed that the direct targets of pdk1 in the mapk pathway were the upstream mapk kinases mek1 and mek2. The identified pdk1 phosphorylation sites in mek1 and mek2 are ser222 and ser226, respectively, and are known to be essential for full activation\tSIGNOR-244934\n",
      "SIGNOR-MM\tMalignant Melanoma\tPDPK1\t\tprotein\tO15530\tUNIPROT\tMEK1/2\t\tproteinfamily\tSIGNOR-PF25\tSIGNOR\tup-regulates\tphosphorylation\t\t\t9606\t\t\t\t\t\t\t\t\t15175348\tt\t\tlperfetto\tThe identified pdk1 phosphorylation sites in mek1 and mek2 are ser222 and ser226, respectively, and are known to be essential for full activation.\tSIGNOR-244938\n",
      "SIGNOR-MM\tMalignant Melanoma\tERK1/2\t\tproteinfamily\tSIGNOR-PF1\tSIGNOR\tSOS1\t\tprotein\tQ07889\tUNIPROT\tdown-regulates activity\tphosphorylation\tSer1167\tESAPAESsPSKIMSK\t9534\tBTO:0004055\t\t\t\t\t\t\t\t8816480\tt\t\tlperfetto\tIn this report, we describe the identification of five map kinase sites (s-1137, s-1167, s-1178, s-1193, and s-1197) on hsos1Replacing the MAP kinase phosphorylation sites with alanine residues results in an increase in the binding affinity of Grb2 to hSos1\tSIGNOR-244584\n",
      "SIGNOR-MM\tMalignant Melanoma\tERK1/2\t\tproteinfamily\tSIGNOR-PF1\tSIGNOR\tSOS1\t\tprotein\tQ07889\tUNIPROT\tdown-regulates activity\tphosphorylation\tSer1132\tTLPHGPRsASVSSIS\t9534\tBTO:0004055\t\t\t\t\t\t\t\t8816480\tt\t\tlperfetto\tIn this report, we describe the identification of five map kinase sites (s-1137, s-1167, s-1178, s-1193, and s-1197) on hsos1Replacing the MAP kinase phosphorylation sites with alanine residues results in an increase in the binding affinity of Grb2 to hSos1\tSIGNOR-244580\n",
      "SIGNOR-MM\tMalignant Melanoma\tERK1/2\t\tproteinfamily\tSIGNOR-PF1\tSIGNOR\tSOS1\t\tprotein\tQ07889\tUNIPROT\tdown-regulates activity\tphosphorylation\tSer1197\tKAYSPRYsISDRTSI\t9534\tBTO:0004055\t\t\t\t\t\t\t\t8816480\tt\t\tlperfetto\tIn this report, we describe the identification of five map kinase sites (s-1137, s-1167, s-1178, s-1193, and s-1197) on hsos1Replacing the MAP kinase phosphorylation sites with alanine residues results in an increase in the binding affinity of Grb2 to hSos1\tSIGNOR-244588\n",
      "SIGNOR-MM\tMalignant Melanoma\tPDPK1\t\tprotein\tO15530\tUNIPROT\tPDPK1\t\tprotein\tO15530\tUNIPROT\tup-regulates activity\tphosphorylation\tSer241\tSKQARANsFVGTAQY\t9606\tBTO:0000007\t\t\t\t\t\t\t\t11481331\tt\t\tmiannu\tIn terms of the modulation of PDK1 activity by reversible phosphorylation, five pS sites have been identified on PDK1 in vivo, but only one of these sites, Ser-241 in the activation loop of PDK1, is essential for activity. It seems likely that PDK1 autophosphorylates itself on this residue.\tSIGNOR-250268\n",
      "SIGNOR-MM\tMalignant Melanoma\tCREB1\tfactor\tprotein\tP16220\tUNIPROT\tBCL2\t\tprotein\tP10415\tUNIPROT\tup-regulates quantity by expression\ttranscriptional regulation\t\t\t9606\tBTO:0000776;BTO:0003076\t\t\t\t\t\t\t\t8816467\tf\t\tlperfetto\tInduction of bcl-2 expression by phosphorylated CREB proteins during B-cell activation and rescue from apoptosis\tSIGNOR-43927\n",
      "\n",
      "0\n"
     ]
    },
    {
     "data": {
      "text/plain": [
       "<ndex2.niceCXNetwork.NiceCXNetwork at 0x1117b0310>"
      ]
     },
     "execution_count": 18,
     "metadata": {},
     "output_type": "execute_result"
    }
   ],
   "source": [
    "# human_tax_id = \"9606\"\n",
    "\n",
    "def create_hitpredict_network(hitpredict_path, load_plan):\n",
    "\n",
    "    df = pd.read_csv(hitpredict_path, \n",
    "                dtype=str, \n",
    "                na_filter=False, \n",
    "                delimiter='\\t', \n",
    "                engine='python', \n",
    "                names=header)\n",
    "\n",
    "    network = d2c.convert_pandas_to_nice_cx_with_load_plan(df, load_plan)\n",
    "    return network\n",
    "    \n",
    "hitpredict_network = create_hitpredict_network(hitpredict_path)"
   ]
  },
  {
   "cell_type": "markdown",
   "metadata": {},
   "source": [
    "## Function to Get the Description and Other Info About the Pathway"
   ]
  },
  {
   "cell_type": "code",
   "execution_count": 21,
   "metadata": {},
   "outputs": [
    {
     "name": "stdout",
     "output_type": "stream",
     "text": [
      "http://signor.uniroma2.it/getPathwayData.php?pathway=SIGNOR-MM\n",
      "Melanoma is a skin cancer. It might exist as distinct subtypes associated with the activation of the MAPK and the PI3K pathways even if there is an association between distinct melanoma subtypes and molecular somatic events. Mucosal, acral, and to a lesser extent, lentigo malignant melanomas, can have increased copies of CDK4, and CCND1 (cyclinD), as well as mutations in KIT receptor. NRAS is mutated in about 18% of melanomas, and seems to be more frequently activated in nodular melanomas and melanomas due to chronic sun damage. BRAF has a recurrent V600E mutation (Gain of function) in about 50–70% of melanomas, however, this mutational event is frequently reported in benign pigmented naevi, and is not fully sufficient to induce a malignant transformation. MEK1 and MEK2 are downstream from RAS and RAF, on the same MAPK pathway. Activating mutations of MEK1 and MEK2 are found in 8% of melanomas. The PI3K pathway is activated through a PTEN loss-of-function mutation (most often deletion) in 20–40% of melanomas. Activating mutations or amplifications of PI3K or of AKT1 can also be found in some melanomas. \n",
      "['SIGNOR-MM']\n"
     ]
    }
   ],
   "source": [
    "def add_pathway_info(network):\n",
    "    url = \"http://signor.uniroma2.it/getPathwayData.php?pathway=\" + str(network.get_network_attribute(\"SIGNOR_ID\"))\n",
    "    print(url)\n",
    "    response = requests.get(url)\n",
    "    pathway_info = response.text\n",
    "    dataframe = pd.read_csv(io.StringIO(pathway_info), sep='\\t')\n",
    "    network.set_name(dataframe.iat[0,1])\n",
    "    network.set_network_attribute(\"Labels\", [dataframe.iat[0, 0]])\n",
    "    network.set_network_attribute(\"author\", dataframe.iat[0, 3])\n",
    "    network.set_network_attribute(\"description\", dataframe.iat[0, 2])\n",
    "    network.set_network_attribute(\"version\", \"0.0.1\")\n",
    "    network.set_network_attribute(\"networkType\", \"HitPredict\"\")\n",
    "\n",
    "add_pathway_info(hitpredict_network)\n",
    "print(network.get_network_attribute(\"Labels\"))\n"
   ]
  },
  {
   "cell_type": "markdown",
   "metadata": {},
   "source": [
    "## Set the Network Containing the Visual Style for HitPredict Networks "
   ]
  },
  {
   "cell_type": "code",
   "execution_count": 14,
   "metadata": {
    "collapsed": true
   },
   "outputs": [],
   "source": [
    "# Use the visual properties of network ... to style each output network\n",
    "# http://www.ndexbio.org/#/network/d3c5ca09-bb42-11e7-94d3-0ac135e8bacf\n",
    "cytoscape_visual_properties_template_id = \"f54eaef9-013c-11e8-81c8-06832d634f41\""
   ]
  },
  {
   "cell_type": "markdown",
   "metadata": {},
   "source": [
    "## Function to Apply a Layout to the Network"
   ]
  },
  {
   "cell_type": "code",
   "execution_count": 8,
   "metadata": {
    "collapsed": true
   },
   "outputs": [],
   "source": [
    "def cartesian(G):\n",
    "    return [{'cartesianLayout': [\n",
    "        {'node': n, 'x': float(G.pos[n][0]), 'y': float(G.pos[n][1])}\n",
    "        for n in G.pos\n",
    "        ]}]\n",
    "\n",
    "def apply_spring_layout(network):\n",
    "    my_networkx = network.to_networkx()\n",
    "    my_networkx.pos = nx.drawing.spring_layout(my_networkx)\n",
    "    #my_networkx.pos = nx.drawing.circular_layout(my_networkx)\n",
    "    cartesian_aspect = cartesian(my_networkx)\n",
    "    network.set_opaque_aspect(\"cartesianCoordinates\", cartesian_aspect)"
   ]
  },
  {
   "cell_type": "markdown",
   "metadata": {},
   "source": [
    "## Function to Print a Sample of Nodes in the Network\n",
    "#### (For a Spot-Check when Debugging)"
   ]
  },
  {
   "cell_type": "code",
   "execution_count": 9,
   "metadata": {
    "collapsed": true
   },
   "outputs": [],
   "source": [
    "def spot_check_nodes(network, attribute_name):\n",
    "    for id, node in itertools.islice(network.get_nodes(), 5):\n",
    "        attribute_value = my_network.get_node_attribute(node, attribute_name)\n",
    "        print(\"%s: %s = %s\" % (node.get_name(), attribute_name, attribute_value))"
   ]
  },
  {
   "cell_type": "markdown",
   "metadata": {},
   "source": [
    "## Function to Upload the Network"
   ]
  },
  {
   "cell_type": "code",
   "execution_count": 10,
   "metadata": {
    "collapsed": true
   },
   "outputs": [],
   "source": [
    "def upload_network(network, server, username, password, update_uuid=False):\n",
    "    if update_uuid:\n",
    "        message = network.update_to(update_uuid, server, username, password)      \n",
    "    else:\n",
    "        message = network.upload_to(server, username, password)\n",
    "    return(message)"
   ]
  },
  {
   "cell_type": "markdown",
   "metadata": {},
   "source": [
    "## Function to Process One HitPredict Network"
   ]
  },
  {
   "cell_type": "code",
   "execution_count": 15,
   "metadata": {},
   "outputs": [
    {
     "name": "stdout",
     "output_type": "stream",
     "text": [
      "0\n",
      "http://signor.uniroma2.it/getPathwayData.php?pathway=SIGNOR-MM\n"
     ]
    },
    {
     "data": {
      "text/plain": [
       "u'http://dev.ndexbio.org/v2/network/0c9564ac-013d-11e8-81c8-06832d634f41'"
      ]
     },
     "execution_count": 15,
     "metadata": {},
     "output_type": "execute_result"
    }
   ],
   "source": [
    "def process_hitpredict_network(hitpredict_path, \n",
    "                      cytoscape_visual_properties_template_id, \n",
    "                      load_plan, \n",
    "                      server, \n",
    "                      username, \n",
    "                      password):\n",
    "    network = create_hitpredict_network(hitpredict_path, load_plan)\n",
    "    add_pathway_info(network)\n",
    "    network.apply_template(\n",
    "        username=username, \n",
    "        password=password, \n",
    "        server=server, \n",
    "        uuid=cytoscape_visual_properties_template_id)\n",
    "    apply_spring_layout(network)\n",
    "    return upload_signor_network(network, server, username, password)\n",
    "\n",
    "process_hitpredict_path(hitpredict_path, \n",
    "                        cytoscape_visual_properties_template_id, \n",
    "                        load_plan, \n",
    "                        my_server, \n",
    "                        my_username, \n",
    "                        my_password)"
   ]
  },
  {
   "cell_type": "markdown",
   "metadata": {},
   "source": [
    "## Create a Network Set to Collect the Output Networks"
   ]
  },
  {
   "cell_type": "code",
   "execution_count": 16,
   "metadata": {},
   "outputs": [
    {
     "name": "stdout",
     "output_type": "stream",
     "text": [
      "Network set uuid: 110df47f-013d-11e8-81c8-06832d634f41\n"
     ]
    }
   ],
   "source": [
    "net_set_url = my_ndex.create_networkset('HitPredict Networks' + str(datetime.now()), \n",
    "                                              'Networks from HitPredict using TSV files')\n",
    "net_set_uuid = net_set_url.split('/')[-1]\n",
    "print('Network set uuid: ' + net_set_uuid)"
   ]
  },
  {
   "cell_type": "markdown",
   "metadata": {},
   "source": [
    "## Process the HitPredict Files"
   ]
  },
  {
   "cell_type": "code",
   "execution_count": null,
   "metadata": {},
   "outputs": [],
   "source": [
    "count = 0\n",
    "limit = 3\n",
    "signor_uuids = []\n",
    "for pathway_id in network_id_dataframe['pathway_id']:\n",
    "    upload_message = process_signor_id(\n",
    "        pathway_id, \n",
    "        cytoscape_visual_properties_template_id, \n",
    "        load_plan, \n",
    "        my_server, \n",
    "        my_username, \n",
    "        my_password)\n",
    "    print(upload_message)\n",
    "    network_uuid = upload_message.split('/')[-1]\n",
    "    signor_uuids.append(network_uuid)\n",
    "    if limit:\n",
    "        count += 1\n",
    "        if count >= limit:\n",
    "            break\n",
    "\n",
    "#spot_check_nodes(signor_uuids[0], \"TYPE\")\n",
    "print('Adding networks to network set')\n",
    "my_ndex.add_networks_to_networkset(net_set_uuid, signor_uuids)        \n",
    "print('Done')"
   ]
  },
  {
   "cell_type": "code",
   "execution_count": null,
   "metadata": {
    "collapsed": true
   },
   "outputs": [],
   "source": []
  }
 ],
 "metadata": {
  "anaconda-cloud": {},
  "kernelspec": {
   "display_name": "Python [conda env:py36]",
   "language": "python",
   "name": "conda-env-py36-py"
  },
  "language_info": {
   "codemirror_mode": {
    "name": "ipython",
    "version": 3
   },
   "file_extension": ".py",
   "mimetype": "text/x-python",
   "name": "python",
   "nbconvert_exporter": "python",
   "pygments_lexer": "ipython3",
   "version": "3.6.4"
  }
 },
 "nbformat": 4,
 "nbformat_minor": 1
}
