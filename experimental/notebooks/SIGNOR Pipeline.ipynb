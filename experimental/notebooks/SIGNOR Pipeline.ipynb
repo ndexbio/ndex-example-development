{
 "cells": [
  {
   "cell_type": "markdown",
   "metadata": {},
   "source": [
    "# SIGNOR Pipeline"
   ]
  },
  {
   "cell_type": "markdown",
   "metadata": {},
   "source": [
    "This notebook creates a Network Set of SIGNOR pathway networks using the latest data downloaded via the SIGNOR REST service. SIGNOR is updated regularly and so it also demonstrates how to update the networks in the set."
   ]
  },
  {
   "cell_type": "markdown",
   "metadata": {},
   "source": [
    "## Imports Python Packages Needed in the Pipeline"
   ]
  },
  {
   "cell_type": "code",
   "execution_count": null,
   "metadata": {
    "collapsed": false
   },
   "outputs": [],
   "source": [
    "#!pip uninstall ndexutil -y\n",
    "#!pip install ndexutil --no-cache-dir"
   ]
  },
  {
   "cell_type": "code",
   "execution_count": 40,
   "metadata": {
    "collapsed": false
   },
   "outputs": [],
   "source": [
    "import ndex2 # The ndex2 Python client\n",
    "import itertools # convenient iteration utilities \n",
    "import requests\n",
    "import json\n",
    "import pandas as pd\n",
    "import io\n",
    "import sys\n",
    "import jsonschema\n",
    "import os\n",
    "import nicecxModel\n",
    "#from nicecxModel.cx.aspects import ATTRIBUTE_DATA_TYPE\n",
    "from datetime import datetime\n",
    "import networkx as nx\n",
    "sys.path.append('../../resources')\n",
    "from tutorial_utils import load_tutorial_config\n"
   ]
  },
  {
   "cell_type": "code",
   "execution_count": 2,
   "metadata": {
    "collapsed": false
   },
   "outputs": [],
   "source": [
    "import ndexutil.tsv.tsv2nicecx as t2n"
   ]
  },
  {
   "cell_type": "markdown",
   "metadata": {},
   "source": [
    "## NDEx Access\n",
    "\n",
    "Configure your NDEx connection based on server, account and password. \n",
    "\n",
    "See [\"Using NDEx Tutorial Config Files.ipynb\"] for more information."
   ]
  },
  {
   "cell_type": "code",
   "execution_count": 65,
   "metadata": {
    "collapsed": true
   },
   "outputs": [],
   "source": [
    "# get the connection parameters from the ndex_tutorial_config.json file in your home directory.\n",
    "# edit the line below to specify a different connection in the config file\n",
    "my_server, my_username, my_password = load_tutorial_config(\"main\")\n",
    "\n",
    "# alternatively, edit and uncomment these lines to set the connection parameters manually \n",
    "# my_server = \"public.ndexbio.org\"\n",
    "# my_username = None\n",
    "# my_password = None\n",
    "\n",
    "my_ndex=ndex2.client.Ndex2(my_server, my_username, my_password)"
   ]
  },
  {
   "cell_type": "markdown",
   "metadata": {},
   "source": [
    "## Get the Pathway Ids from the Mapping File:"
   ]
  },
  {
   "cell_type": "code",
   "execution_count": 66,
   "metadata": {
    "collapsed": true
   },
   "outputs": [],
   "source": [
    "def get_signor_network_ids():\n",
    "    path = \"signor-path_mapping_file.txt\"\n",
    "    return pd.read_csv(path, sep=\"\\t\")\n",
    "\n",
    "network_id_dataframe = get_signor_network_ids()\n",
    "# network_id_dataframe"
   ]
  },
  {
   "cell_type": "markdown",
   "metadata": {},
   "source": [
    "## Get the Load Plan:\n",
    "\n",
    "(TODO: validate load plan with jsonschema)"
   ]
  },
  {
   "cell_type": "code",
   "execution_count": 67,
   "metadata": {
    "collapsed": false
   },
   "outputs": [],
   "source": [
    "try:\n",
    "    path_to_load_plan = 'signor_load_plan.json'\n",
    "    load_plan = None\n",
    "    with open(path_to_load_plan, 'r') as lp:\n",
    "        load_plan = json.load(lp)\n",
    "        \n",
    "except jsonschema.ValidationError as e1:\n",
    "    print(\"Failed to parse the loading plan: \" + e1.message)\n",
    "    print('at path: ' + str(e1.absolute_path))\n",
    "    print(\"in block: \")\n",
    "    print(e1.instance)"
   ]
  },
  {
   "cell_type": "markdown",
   "metadata": {},
   "source": [
    "## Function to Create NiceCX from SIGNOR Pathway Data"
   ]
  },
  {
   "cell_type": "code",
   "execution_count": 68,
   "metadata": {
    "collapsed": false
   },
   "outputs": [
    {
     "name": "stdout",
     "output_type": "stream",
     "text": [
      "Name: Untitled\n",
      "Nodes: 30\n",
      "Edges: 109\n",
      "Node Attributes: 60\n",
      "Edge Attributes: 783\n",
      "\n"
     ]
    }
   ],
   "source": [
    "# human_tax_id = \"9606\"\n",
    "\n",
    "def get_signor_network(pathway_id, load_plan):\n",
    "    # TODO - add context (normalize?)\n",
    "    signor_context = [{\n",
    "        'ncbigene': 'http://identifiers.org/ncbigene/',\n",
    "        'hgnc.symbol': 'http://identifiers.org/hgnc.symbol/',\n",
    "        'uniprot': 'http://identifiers.org/uniprot/',\n",
    "        'cas': 'http://identifiers.org/cas/'}]\n",
    "    # ncx.set_context(context)\n",
    "\n",
    "    # parameters = human_tax_id + \"organism=\" + organism_id + \"&id=\" + pathway_id\n",
    "    # pathway_data = requests.get(\"http://signor.uniroma2.it/getData.php?\" + parameters)\n",
    "    url = \"http://signor.uniroma2.it/getPathwayData.php?pathway=\" + pathway_id + \"&relations=only\"\n",
    "    # print(url)\n",
    "    response = requests.get(url)\n",
    "    pathway_data = response.text\n",
    "    \n",
    "    #header = [h.strip() for h in pathway_data.readline().split('\\t')]\n",
    "    #print(pathway_data)\n",
    "    # converters={'CUSTOMER': str, 'ORDER NO': str}\n",
    "    #converters = {}\n",
    "    usecols = [\"entitya\", \"typea\", \"ida\", \"entityb\", \"typeb\", \"idb\", \"effect\", \"mechanism\", \"residue\", \"sequence\", \"tax_id\", \"cell_data\", \"tissue_data\", \"pmid\", \"direct\", \"notes\", \"annotator\", \"sentence\"]\n",
    "    #usecols = [\"ENTITYA\", \"TYPEA\", \"IDA\", \"ENTITYB\", \"TYPEB\", \"IDB\", \"EFFECT\", \"MECHANISM\", \"RESIDUR\", \n",
    "    #           \"SEQUENCE\", \"TAX_ID\", \"CELL_DATA\", \"TISSUE_DATA\", \"PMID\", \"DIRECT\", \"NOTES\", \"ANNOTATOR\", \"SETENCE\"]\n",
    "    #for col in usecols:\n",
    "    #    converters[col] = str\n",
    "    # dataframe = pd.read_csv(io.StringIO(pathway_data), sep='\\t',converters = converters,usecols = usecols)\n",
    "    dataframe = pd.read_csv(io.StringIO(pathway_data), \n",
    "                dtype=str, \n",
    "                na_filter=False, \n",
    "                delimiter='\\t', \n",
    "                engine='python')\n",
    "                #names=usecols)\n",
    "    \n",
    "    #print(dataframe)\n",
    "    # filter dataframe to remove rows that are not human\n",
    "    human_dataframe = dataframe.loc[dataframe[\"tax_id\"] == \"9606\"]\n",
    "\n",
    "    #print(human_dataframe)\n",
    "    # upcase column names\n",
    "    rename = {}\n",
    "    for column_name in human_dataframe.columns:\n",
    "        rename[column_name]= column_name.upper()\n",
    "    \n",
    "    human_dataframe = human_dataframe.rename(columns=rename)\n",
    "\n",
    "    \n",
    "    # df = df.rename(columns={'oldName1': 'newName1', 'oldName2': 'newName2'})\n",
    "    #return human_dataframe\n",
    "    \n",
    "    network = t2n.convert_pandas_to_nice_cx_with_load_plan(human_dataframe, load_plan)\n",
    "\n",
    "    #network.set_network_attribute(\"SIGNOR_ID\", values=pathway_id)\n",
    "\n",
    "    # Fix values for \"DIRECT\"\n",
    "    for edge_id, edge in network.get_edges():\n",
    "        direct = network.get_edge_attribute(edge_id, \"DIRECT\")\n",
    "        # print(direct)\n",
    "        if direct:\n",
    "            if direct == \"t\":\n",
    "                network.set_edge_attribute(edge, \"DIRECT\", \"YES\")\n",
    "            else:\n",
    "                network.set_edge_attribute(edge, \"DIRECT\", \"NO\")\n",
    "                \n",
    "    # Set prefixes for represents based on the \"DATABASE\" attribute\n",
    "    #\n",
    "    #   Note that this is a good example of a situation that calls\n",
    "    #   for custom code and does not justify an extension to the load_plan\n",
    "    #   Cases of this type are too variable. Custom code is easier.\n",
    "    #\n",
    "    for node_id, node in network.get_nodes():\n",
    "        database = network.get_node_attribute(node_id, \"DATABASE\")\n",
    "        represents = node.get_node_represents()\n",
    "        if database == \"UNIPROT\":\n",
    "            represents = \"uniprot:\" + represents\n",
    "            node.set_node_represents(represents)\n",
    "        if database == \"SIGNOR\":\n",
    "            represents = \"signor\" + represents\n",
    "            node.set_node_represents(represents)\n",
    "        # in all other cases, the identifier is already prefixed\n",
    "        \n",
    "    print(network.get_summary())\n",
    "    return network\n",
    "    \n",
    "signor_network = get_signor_network(\"SIGNOR-MM\", load_plan)"
   ]
  },
  {
   "cell_type": "markdown",
   "metadata": {},
   "source": [
    "## Function to Get the Description and Other Info About the Pathway"
   ]
  },
  {
   "cell_type": "code",
   "execution_count": 70,
   "metadata": {
    "collapsed": false
   },
   "outputs": [
    {
     "name": "stdout",
     "output_type": "stream",
     "text": [
      "http://signor.uniroma2.it/getPathwayData.php?pathway=SIGNOR-AMPK\n",
      "['SIGNOR-AMPK']\n"
     ]
    }
   ],
   "source": [
    "def add_pathway_info(network):\n",
    "    url = \"http://signor.uniroma2.it/getPathwayData.php?pathway=\" + str(pathway_id)#network.get_network_attribute(\"SIGNOR_ID\"))\n",
    "    print(url)\n",
    "    response = requests.get(url)\n",
    "    pathway_info = response.text\n",
    "    dataframe = pd.read_csv(io.StringIO(pathway_info), sep='\\t')\n",
    "    network.set_name(dataframe.iat[0,1])\n",
    "    network.set_network_attribute(\"labels\", [dataframe.iat[0, 0]], type='list_of_string')\n",
    "    network.set_network_attribute(\"author\", dataframe.iat[0, 3])\n",
    "    network.set_network_attribute(\"description\", dataframe.iat[0, 2])\n",
    "    network.set_network_attribute(\"version\", \"0.0.1\")\n",
    "    network.set_network_attribute(\"networkType\", \"Signalling Pathway\")\n",
    "    # TODO: set “networkType” property depending on network\n",
    "    #    a. Signalling Pathway\n",
    "    #    b. Disease Pathway\n",
    "    #    c. Cancer Pathway\n",
    "    \n",
    "add_pathway_info(signor_network)\n",
    "#print(network.get_network_attribute(\"description\"))\n",
    "print(signor_network.get_network_attribute(\"Labels\"))\n"
   ]
  },
  {
   "cell_type": "markdown",
   "metadata": {},
   "source": [
    "## Create the Merge Plan for SIGNOR Networks\n",
    "\n",
    "The SIGNOR table has two columns that specify node type - one for the source and one for the target of the edge. These type attributes are therefore redundant and should be merged into one attribute. We define a plan for the attributes to merge."
   ]
  },
  {
   "cell_type": "code",
   "execution_count": 71,
   "metadata": {
    "collapsed": true
   },
   "outputs": [],
   "source": [
    "# merge \"TYPEA\" and \"TYPEB\" to \"TYPE\"\n",
    "merge_plan = [\n",
    "    {\n",
    "        \"attribute1\": \"TYPEA\",\n",
    "        \"attribute2\": \"TYPEB\",\n",
    "        \"new_attribute\": \"TYPE\"\n",
    "    },\n",
    "    {\n",
    "        \"attribute1\": \"IDA\",\n",
    "        \"attribute2\": \"IDB\",\n",
    "        \"new_attribute\": \"SIGNOR_NODE_ID\"\n",
    "    }\n",
    "]"
   ]
  },
  {
   "cell_type": "markdown",
   "metadata": {},
   "source": [
    "## Specify the Network Containing the Visual Style to Apply to the SIGNOR Networks "
   ]
  },
  {
   "cell_type": "code",
   "execution_count": 72,
   "metadata": {
    "collapsed": true
   },
   "outputs": [],
   "source": [
    "# Use the visual properties of network ... to style each output network\n",
    "# http://www.ndexbio.org/#/network/d3c5ca09-bb42-11e7-94d3-0ac135e8bacf\n",
    "cytoscape_visual_properties_template_id = \"f54eaef9-013c-11e8-81c8-06832d634f41\""
   ]
  },
  {
   "cell_type": "markdown",
   "metadata": {},
   "source": [
    "## Function to Apply a Layout to the Network"
   ]
  },
  {
   "cell_type": "code",
   "execution_count": 73,
   "metadata": {
    "collapsed": true
   },
   "outputs": [],
   "source": [
    "def cartesian(G):\n",
    "    return [{'cartesianLayout': [\n",
    "        {'node': n, 'x': float(G.pos[n][0]), 'y': float(G.pos[n][1])}\n",
    "        for n in G.pos\n",
    "        ]}]\n",
    "\n",
    "def apply_spring_layout(network):\n",
    "    my_networkx = network.to_networkx()\n",
    "    my_networkx.pos = nx.drawing.spring_layout(my_networkx)\n",
    "    #my_networkx.pos = nx.drawing.circular_layout(my_networkx)\n",
    "    cartesian_aspect = cartesian(my_networkx)\n",
    "    network.set_opaque_aspect(\"cartesianCoordinates\", cartesian_aspect)"
   ]
  },
  {
   "cell_type": "markdown",
   "metadata": {},
   "source": [
    "## Function to Print a Sample of Nodes in the Network\n",
    "#### (For a Spot-Check when Debugging)"
   ]
  },
  {
   "cell_type": "code",
   "execution_count": 74,
   "metadata": {
    "collapsed": true
   },
   "outputs": [],
   "source": [
    "def spot_check_nodes(network, attribute_name):\n",
    "    for id, node in itertools.islice(network.get_nodes(), 5):\n",
    "        attribute_value = my_network.get_node_attribute(node, attribute_name)\n",
    "        print(\"%s: %s = %s\" % (node.get_name(), attribute_name, attribute_value))"
   ]
  },
  {
   "cell_type": "markdown",
   "metadata": {},
   "source": [
    "## Function to Upload the Network"
   ]
  },
  {
   "cell_type": "code",
   "execution_count": 75,
   "metadata": {
    "collapsed": true
   },
   "outputs": [],
   "source": [
    "def upload_signor_network(network, server, username, password, update_uuid=False):\n",
    "    if update_uuid:\n",
    "        message = network.update_to(update_uuid, server, username, password)      \n",
    "    else:\n",
    "        message = network.upload_to(server, username, password)\n",
    "    return(message)"
   ]
  },
  {
   "cell_type": "markdown",
   "metadata": {},
   "source": [
    "## Function to Process One Signor Pathway ID"
   ]
  },
  {
   "cell_type": "code",
   "execution_count": 76,
   "metadata": {
    "collapsed": false
   },
   "outputs": [
    {
     "name": "stdout",
     "output_type": "stream",
     "text": [
      "Name: Untitled\n",
      "Nodes: 30\n",
      "Edges: 109\n",
      "Node Attributes: 60\n",
      "Edge Attributes: 783\n",
      "\n",
      "http://signor.uniroma2.it/getPathwayData.php?pathway=SIGNOR-AMPK\n"
     ]
    },
    {
     "data": {
      "text/plain": [
       "'http://dev.ndexbio.org/v2/network/b2906661-06e7-11e8-81c8-06832d634f41'"
      ]
     },
     "execution_count": 76,
     "metadata": {},
     "output_type": "execute_result"
    }
   ],
   "source": [
    "def process_signor_id(signor_id, \n",
    "                      cytoscape_visual_properties_template_id, \n",
    "                      load_plan, \n",
    "                      server, \n",
    "                      username, \n",
    "                      password):\n",
    "    network = get_signor_network(signor_id, load_plan)\n",
    "    add_pathway_info(network)\n",
    "    # add context:\n",
    "    # network.set_context(signor_context)\n",
    "    # for merge_spec in merge_plan:\n",
    "    #    network.merge_node_attributes(\n",
    "    #        merge_spec.get(\"attribute1\"), \n",
    "    #        merge_spec.get(\"attribute2\"), \n",
    "    #        merge_spec.get(\"new_attribute\"))\n",
    "    network.apply_template(\n",
    "        username=username, \n",
    "        password=password, \n",
    "        server=server, \n",
    "        uuid=cytoscape_visual_properties_template_id)\n",
    "    apply_spring_layout(network)\n",
    "    return upload_signor_network(network, server, username, password)\n",
    "\n",
    "process_signor_id(\"SIGNOR-MM\", cytoscape_visual_properties_template_id, load_plan, my_server, my_username, my_password)"
   ]
  },
  {
   "cell_type": "markdown",
   "metadata": {},
   "source": [
    "## Create a Network Set to Collect the Output Networks"
   ]
  },
  {
   "cell_type": "code",
   "execution_count": 77,
   "metadata": {
    "collapsed": false
   },
   "outputs": [
    {
     "name": "stdout",
     "output_type": "stream",
     "text": [
      "Network set uuid: b54dd8b4-06e7-11e8-81c8-06832d634f41\n"
     ]
    }
   ],
   "source": [
    "net_set_url = my_ndex.create_networkset('Signor Networks' + str(datetime.now()), \n",
    "                                              'Networks from Signor using data obtained by SIGNOR REST API')\n",
    "net_set_uuid = net_set_url.split('/')[-1]\n",
    "print('Network set uuid: ' + net_set_uuid)"
   ]
  },
  {
   "cell_type": "markdown",
   "metadata": {},
   "source": [
    "## Process the SIGNOR Pathway IDs"
   ]
  },
  {
   "cell_type": "code",
   "execution_count": 78,
   "metadata": {
    "collapsed": false
   },
   "outputs": [
    {
     "name": "stdout",
     "output_type": "stream",
     "text": [
      "Name: Untitled\n",
      "Nodes: 27\n",
      "Edges: 73\n",
      "Node Attributes: 54\n",
      "Edge Attributes: 556\n",
      "\n",
      "http://signor.uniroma2.it/getPathwayData.php?pathway=SIGNOR-AC\n",
      "http://dev.ndexbio.org/v2/network/b6f7b825-06e7-11e8-81c8-06832d634f41\n",
      "Name: Untitled\n",
      "Nodes: 4\n",
      "Edges: 4\n",
      "Node Attributes: 8\n",
      "Edge Attributes: 25\n",
      "\n",
      "http://signor.uniroma2.it/getPathwayData.php?pathway=SIGNOR-Adipogenesis: BMP\n",
      "http://dev.ndexbio.org/v2/network/b7aab478-06e7-11e8-81c8-06832d634f41\n",
      "Name: Untitled\n",
      "Nodes: 26\n",
      "Edges: 59\n",
      "Node Attributes: 52\n",
      "Edge Attributes: 416\n",
      "\n",
      "http://signor.uniroma2.it/getPathwayData.php?pathway=SIGNOR-AMPK\n",
      "http://dev.ndexbio.org/v2/network/b87c354b-06e7-11e8-81c8-06832d634f41\n",
      "Adding networks to network set\n",
      "Done\n"
     ]
    }
   ],
   "source": [
    "count = 0\n",
    "limit = 3\n",
    "signor_uuids = []\n",
    "for pathway_id in network_id_dataframe['pathway_id']:\n",
    "    upload_message = process_signor_id(\n",
    "        pathway_id, \n",
    "        cytoscape_visual_properties_template_id, \n",
    "        load_plan, \n",
    "        my_server, \n",
    "        my_username, \n",
    "        my_password)\n",
    "    print(upload_message)\n",
    "    network_uuid = upload_message.split('/')[-1]\n",
    "    signor_uuids.append(network_uuid)\n",
    "    if limit:\n",
    "        count += 1\n",
    "        if count >= limit:\n",
    "            break\n",
    "\n",
    "#spot_check_nodes(signor_uuids[0], \"TYPE\")\n",
    "print('Adding networks to network set')\n",
    "my_ndex.add_networks_to_networkset(net_set_uuid, signor_uuids)        \n",
    "print('Done')"
   ]
  },
  {
   "cell_type": "code",
   "execution_count": null,
   "metadata": {
    "collapsed": true
   },
   "outputs": [],
   "source": []
  }
 ],
 "metadata": {
  "anaconda-cloud": {},
  "kernelspec": {
   "display_name": "vpy36",
   "language": "python",
   "name": "vpy36"
  },
  "language_info": {
   "codemirror_mode": {
    "name": "ipython",
    "version": 3
   },
   "file_extension": ".py",
   "mimetype": "text/x-python",
   "name": "python",
   "nbconvert_exporter": "python",
   "pygments_lexer": "ipython3",
   "version": "3.6.4"
  }
 },
 "nbformat": 4,
 "nbformat_minor": 1
}
