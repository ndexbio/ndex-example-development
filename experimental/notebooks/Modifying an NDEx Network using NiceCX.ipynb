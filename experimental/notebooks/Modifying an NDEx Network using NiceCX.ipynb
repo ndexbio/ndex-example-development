{
 "cells": [
  {
   "cell_type": "markdown",
   "metadata": {},
   "source": [
    "# Modify an NDEx Network using NiceCX"
   ]
  },
  {
   "cell_type": "markdown",
   "metadata": {},
   "source": [
    "In this notebook, you will retrieve a public example network from NDEx, modify it, and then write it as a new, private network in your account. Optionally, you can modify and update a network that you own. "
   ]
  },
  {
   "cell_type": "markdown",
   "metadata": {},
   "source": [
    "import the ndex2 Python client"
   ]
  },
  {
   "cell_type": "code",
   "execution_count": 1,
   "metadata": {
    "collapsed": false
   },
   "outputs": [],
   "source": [
    "import ndex2\n",
    "import itertools"
   ]
  },
  {
   "cell_type": "markdown",
   "metadata": {},
   "source": [
    "Next, set a variable to hold the UUID of the network we want to modify"
   ]
  },
  {
   "cell_type": "code",
   "execution_count": 17,
   "metadata": {
    "collapsed": true
   },
   "outputs": [],
   "source": [
    "# fails\n",
    "my_network_uuid = '601902a1-d632-11e7-adc1-0ac135e8bacf'\n",
    "\n",
    "# works\n",
    "#my_network_uuid = '9ed0cd55-9ac0-11e4-9499-000c29202374'"
   ]
  },
  {
   "cell_type": "markdown",
   "metadata": {},
   "source": [
    "Set variables to hold your account and password "
   ]
  },
  {
   "cell_type": "code",
   "execution_count": 21,
   "metadata": {
    "collapsed": false
   },
   "outputs": [
    {
     "name": "stdout",
     "output_type": "stream",
     "text": [
      "my_ndex client: 17231 networks, 896 users, 90 groups\n",
      "Received 11062103 characters of CX\n"
     ]
    }
   ],
   "source": [
    "my_server = \"public.ndexbio.org\"\n",
    "my_account = \"my_account\"\n",
    "my_password = \"my_password\"\n",
    "\n",
    "\n",
    "try:\n",
    "    my_ndex=ndex2.client.Ndex2(\"http://public.ndexbio.org\", my_account, my_password)\n",
    "    my_ndex.update_status()\n",
    "    networks = my_ndex.status.get(\"networkCount\")\n",
    "    users = my_ndex.status.get(\"userCount\")\n",
    "    groups = my_ndex.status.get(\"groupCount\")\n",
    "    print(\"my_ndex client: %s networks, %s users, %s groups\" % (networks, users, groups))\n",
    "    response=my_ndex.get_network_as_cx_stream(my_network_uuid)\n",
    "    print(\"Received %s characters of CX\" % len(response.content))\n",
    "except Exception as inst:\n",
    "    print(\"Could not access account %s with password %s\" % (my_account, my_password))\n",
    "    print(inst.args)\n",
    "    \n"
   ]
  },
  {
   "cell_type": "markdown",
   "metadata": {},
   "source": [
    "Create a NiceCX network from the example network in the NDEx Tutorials account. If you would rather use a network in your own directory - perhaps made by cloning the example network - then provide your account and password as shown in the commented line."
   ]
  },
  {
   "cell_type": "code",
   "execution_count": 22,
   "metadata": {
    "collapsed": false
   },
   "outputs": [
    {
     "name": "stdout",
     "output_type": "stream",
     "text": [
      "downloading network and buiding NiceCX...\n"
     ]
    },
    {
     "ename": "TypeError",
     "evalue": "'NoneType' object is not iterable",
     "output_type": "error",
     "traceback": [
      "\u001b[0;31m---------------------------------------------------------------------------\u001b[0m",
      "\u001b[0;31mTypeError\u001b[0m                                 Traceback (most recent call last)",
      "\u001b[0;32m<ipython-input-22-38da13badc01>\u001b[0m in \u001b[0;36m<module>\u001b[0;34m()\u001b[0m\n\u001b[1;32m      2\u001b[0m \u001b[0;34m\u001b[0m\u001b[0m\n\u001b[1;32m      3\u001b[0m \u001b[0;34m\u001b[0m\u001b[0m\n\u001b[0;32m----> 4\u001b[0;31m \u001b[0mmy_network\u001b[0m \u001b[0;34m=\u001b[0m \u001b[0mndex2\u001b[0m\u001b[0;34m.\u001b[0m\u001b[0mcreate_nice_cx_from_server\u001b[0m\u001b[0;34m(\u001b[0m\u001b[0mserver\u001b[0m\u001b[0;34m=\u001b[0m\u001b[0;34m'public.ndexbio.org'\u001b[0m\u001b[0;34m,\u001b[0m \u001b[0muuid\u001b[0m\u001b[0;34m=\u001b[0m\u001b[0mmy_network_uuid\u001b[0m\u001b[0;34m)\u001b[0m\u001b[0;34m\u001b[0m\u001b[0m\n\u001b[0m\u001b[1;32m      5\u001b[0m \u001b[0;31m#my_network = ndex2.create_nice_cx_from_server(server='public.ndexbio.org', uuid=my_network_uuid, account=my_account, password = my_password)\u001b[0m\u001b[0;34m\u001b[0m\u001b[0;34m\u001b[0m\u001b[0m\n\u001b[1;32m      6\u001b[0m \u001b[0mprint\u001b[0m\u001b[0;34m(\u001b[0m\u001b[0;34m\"done\"\u001b[0m\u001b[0;34m)\u001b[0m\u001b[0;34m\u001b[0m\u001b[0m\n",
      "\u001b[0;32m~/anaconda/envs/py36/lib/python3.6/site-packages/ndex2/__init__.py\u001b[0m in \u001b[0;36mcreate_nice_cx_from_server\u001b[0;34m(server, username, password, uuid)\u001b[0m\n\u001b[1;32m    367\u001b[0m         \u001b[0;31m#===================\u001b[0m\u001b[0;34m\u001b[0m\u001b[0;34m\u001b[0m\u001b[0m\n\u001b[1;32m    368\u001b[0m         \u001b[0mavailable_aspects\u001b[0m \u001b[0;34m=\u001b[0m \u001b[0;34m[\u001b[0m\u001b[0;34m]\u001b[0m\u001b[0;34m\u001b[0m\u001b[0m\n\u001b[0;32m--> 369\u001b[0;31m         \u001b[0;32mfor\u001b[0m \u001b[0mae\u001b[0m \u001b[0;32min\u001b[0m \u001b[0;34m(\u001b[0m\u001b[0mo\u001b[0m \u001b[0;32mfor\u001b[0m \u001b[0mo\u001b[0m \u001b[0;32min\u001b[0m \u001b[0mmy_nicecx\u001b[0m\u001b[0;34m.\u001b[0m\u001b[0mget_aspect\u001b[0m\u001b[0;34m(\u001b[0m\u001b[0muuid\u001b[0m\u001b[0;34m,\u001b[0m \u001b[0;34m'metaData'\u001b[0m\u001b[0;34m,\u001b[0m \u001b[0mserver\u001b[0m\u001b[0;34m,\u001b[0m \u001b[0musername\u001b[0m\u001b[0;34m,\u001b[0m \u001b[0mpassword\u001b[0m\u001b[0;34m)\u001b[0m\u001b[0;34m)\u001b[0m\u001b[0;34m:\u001b[0m\u001b[0;34m\u001b[0m\u001b[0m\n\u001b[0m\u001b[1;32m    370\u001b[0m             \u001b[0mavailable_aspects\u001b[0m\u001b[0;34m.\u001b[0m\u001b[0mappend\u001b[0m\u001b[0;34m(\u001b[0m\u001b[0mae\u001b[0m\u001b[0;34m.\u001b[0m\u001b[0mget\u001b[0m\u001b[0;34m(\u001b[0m\u001b[0mCX_CONSTANTS\u001b[0m\u001b[0;34m.\u001b[0m\u001b[0mMETADATA_NAME\u001b[0m\u001b[0;34m)\u001b[0m\u001b[0;34m)\u001b[0m\u001b[0;34m\u001b[0m\u001b[0m\n\u001b[1;32m    371\u001b[0m             \u001b[0mmde\u001b[0m \u001b[0;34m=\u001b[0m \u001b[0mMetaDataElement\u001b[0m\u001b[0;34m(\u001b[0m\u001b[0mcx_fragment\u001b[0m\u001b[0;34m=\u001b[0m\u001b[0mae\u001b[0m\u001b[0;34m)\u001b[0m\u001b[0;34m\u001b[0m\u001b[0m\n",
      "\u001b[0;31mTypeError\u001b[0m: 'NoneType' object is not iterable"
     ]
    }
   ],
   "source": [
    "print(\"downloading network and buiding NiceCX...\")\n",
    "\n",
    "    \n",
    "my_network = ndex2.create_nice_cx_from_server(server='public.ndexbio.org', uuid=my_network_uuid)\n",
    "#my_network = ndex2.create_nice_cx_from_server(server='public.ndexbio.org', uuid=my_network_uuid, account=my_account, password = my_password)\n",
    "print(\"done\")\n",
    "print(my_network.get_summary())"
   ]
  },
  {
   "cell_type": "markdown",
   "metadata": {},
   "source": [
    "The plan is to modify the network by merging two node attributes into one, where the two attributes were created by loading a table of edges with source and target node colums.\n",
    "\n",
    "Steps:\n",
    "\n",
    "* Iterate over all the nodes in the network and for each one we check the values of the two \"source\" attributes. \n",
    "* Add the new attribute based on the OR of the source attributes. \n",
    "* Finally, delete the two original source attributes\n"
   ]
  },
  {
   "cell_type": "code",
   "execution_count": 5,
   "metadata": {
    "collapsed": false
   },
   "outputs": [],
   "source": [
    "# (for clarity, this example code is rather verbose)\n",
    "\n",
    "source_attribute1 = \"TYPEA\"\n",
    "source_attribute2 = \"TYPEB\"\n",
    "target_attribute = \"TYPE\"\n",
    "\n",
    "for node_id, node in my_network.nodes.items():\n",
    "    value1 = my_network.get_node_attribute(node, source_attribute1)\n",
    "    value2 = my_network.get_node_attribute(node, source_attribute2)\n",
    "    merged_value = value1 or value2\n",
    "    if merged_value:\n",
    "        my_network.set_node_attribute(node, target_attribute, merged_value)\n",
    "        my_network.remove_node_attribute(node, source_attribute1)\n",
    "        my_network.remove_node_attribute(node, source_attribute2)\n"
   ]
  },
  {
   "cell_type": "markdown",
   "metadata": {},
   "source": [
    "Spot-check the network by printing out a sample of the nodes in the modified network"
   ]
  },
  {
   "cell_type": "code",
   "execution_count": 6,
   "metadata": {
    "collapsed": false
   },
   "outputs": [
    {
     "name": "stdout",
     "output_type": "stream",
     "text": [
      "PtdIns3P: TYPE = smallmolecule\n",
      "prostaglandin D2: TYPE = smallmolecule\n",
      "Prostacycline: TYPE = smallmolecule\n",
      "INPP4B: TYPE = protein\n",
      "Leukotriene A4: TYPE = smallmolecule\n"
     ]
    }
   ],
   "source": [
    "for id, node in itertools.islice(my_network.get_nodes(), 5):\n",
    "    attribute_value = my_network.get_node_attribute(node, target_attribute)\n",
    "    print(\"%s: %s = %s\" % (node.get_name(), target_attribute, attribute_value))\n"
   ]
  },
  {
   "cell_type": "markdown",
   "metadata": {},
   "source": [
    "Upload the network to your NDEx account as a new network.\n",
    "\n",
    "If you started by loading an one of your networks (such as a clone of the example network), then you can *update* it instead, overwriting its content. \n",
    "\n",
    "In the commented line of below, the optional parameter *update_uuid* specifies the update behavior."
   ]
  },
  {
   "cell_type": "code",
   "execution_count": 7,
   "metadata": {
    "collapsed": false
   },
   "outputs": [
    {
     "name": "stdout",
     "output_type": "stream",
     "text": [
      "http://public.ndexbio.org/v2/network/c895c6c5-d45f-11e7-adc1-0ac135e8bacf\n"
     ]
    }
   ],
   "source": [
    "upload_message = my_network.upload_to(my_server, my_account, my_password)\n",
    "# update_message = my_network.update(my_server, my_account, my_password, update_uuid=my_network_uuid)\n",
    "print(upload_message)"
   ]
  },
  {
   "cell_type": "code",
   "execution_count": null,
   "metadata": {
    "collapsed": true
   },
   "outputs": [],
   "source": []
  }
 ],
 "metadata": {
  "anaconda-cloud": {},
  "kernelspec": {
   "display_name": "Python [py36]",
   "language": "python",
   "name": "Python [py36]"
  },
  "language_info": {
   "codemirror_mode": {
    "name": "ipython",
    "version": 3
   },
   "file_extension": ".py",
   "mimetype": "text/x-python",
   "name": "python",
   "nbconvert_exporter": "python",
   "pygments_lexer": "ipython3",
   "version": "3.6.1"
  }
 },
 "nbformat": 4,
 "nbformat_minor": 0
}
