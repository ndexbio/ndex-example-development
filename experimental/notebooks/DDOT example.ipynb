{
 "cells": [
  {
   "cell_type": "code",
   "execution_count": 3,
   "metadata": {
    "collapsed": false
   },
   "outputs": [],
   "source": [
    "import requests"
   ]
  },
  {
   "cell_type": "code",
   "execution_count": 10,
   "metadata": {
    "collapsed": false
   },
   "outputs": [],
   "source": [
    "files = {'file': open('3col_interactions260.csv', 'rb')}\n",
    "\n",
    "ddot_host = 'http://ec2-34-219-133-74.us-west-2.compute.amazonaws.com:8383'\n",
    "ddot_route = '/api/ontology'\n",
    "ddot_query = '?alpha=0.01&beta=0.5'\n",
    "url = '{}{}{}'.format(ddot_host, ddot_route, ddot_query)"
   ]
  },
  {
   "cell_type": "code",
   "execution_count": 11,
   "metadata": {
    "collapsed": false
   },
   "outputs": [
    {
     "name": "stdout",
     "output_type": "stream",
     "text": [
      "http://dev.ndexbio.org/#/network/aeed153c-bc62-11e8-98cc-525400c25d22 \n",
      "\n"
     ]
    }
   ],
   "source": [
    "ndex_url = 'http://dev.ndexbio.org/#/network/'\n",
    "r = requests.post(url, files=files)\n",
    "if r is not None and r.text is not None:\n",
    "    uuid = r.text\n",
    "    print('{}{}'.format(ndex_url, uuid))"
   ]
  },
  {
   "cell_type": "code",
   "execution_count": null,
   "metadata": {
    "collapsed": true
   },
   "outputs": [],
   "source": []
  }
 ],
 "metadata": {
  "kernelspec": {
   "display_name": "Python 2",
   "language": "python",
   "name": "python2"
  },
  "language_info": {
   "codemirror_mode": {
    "name": "ipython",
    "version": 2
   },
   "file_extension": ".py",
   "mimetype": "text/x-python",
   "name": "python",
   "nbconvert_exporter": "python",
   "pygments_lexer": "ipython2",
   "version": "2.7.13"
  }
 },
 "nbformat": 4,
 "nbformat_minor": 0
}
