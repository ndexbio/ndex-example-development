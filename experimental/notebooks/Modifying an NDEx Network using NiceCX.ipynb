{
 "cells": [
  {
   "cell_type": "markdown",
   "metadata": {},
   "source": [
    "# Modify an NDEx Network using NiceCX"
   ]
  },
  {
   "cell_type": "markdown",
   "metadata": {},
   "source": [
    "In this notebook, you will retrieve a public example network from NDEx, modify it, and then write it as a new, private network in your account. Optionally, you can modify and update a network that you own. "
   ]
  },
  {
   "cell_type": "markdown",
   "metadata": {},
   "source": [
    "import the ndex2 Python client"
   ]
  },
  {
   "cell_type": "code",
   "execution_count": 18,
   "metadata": {
    "collapsed": false
   },
   "outputs": [],
   "source": [
    "import ndex2\n",
    "import itertools"
   ]
  },
  {
   "cell_type": "markdown",
   "metadata": {},
   "source": [
    "Next, set a variable to hold the UUID of the network we want to modify"
   ]
  },
  {
   "cell_type": "code",
   "execution_count": 2,
   "metadata": {
    "collapsed": true
   },
   "outputs": [],
   "source": [
    "my_network_uuid = 'd3c5ca09-bb42-11e7-94d3-0ac135e8bacf'"
   ]
  },
  {
   "cell_type": "markdown",
   "metadata": {},
   "source": [
    "Set variables to hold your account and password "
   ]
  },
  {
   "cell_type": "code",
   "execution_count": 27,
   "metadata": {
    "collapsed": true
   },
   "outputs": [],
   "source": [
    "my_server = \"public.ndexbio.org\"\n",
    "my_account = \"drh\"\n",
    "my_password = \"drh\""
   ]
  },
  {
   "cell_type": "markdown",
   "metadata": {},
   "source": [
    "Create a NiceCX network from the example network in the NDEx Tutorials account. If you would rather use a network in your own directory - perhaps made by cloning the example network - then provide your account and password as shown in the commented line."
   ]
  },
  {
   "cell_type": "code",
   "execution_count": 28,
   "metadata": {
    "collapsed": false
   },
   "outputs": [
    {
     "name": "stdout",
     "output_type": "stream",
     "text": [
      "downloading network and buiding NiceCX...\n",
      "done\n",
      "Name: SIGNOR - Complete Data\n",
      "Nodes: 4172\n",
      "Edges: 17099\n",
      "Node Attributes: 4172\n",
      "Edge Attributes: 108938\n",
      "\n"
     ]
    }
   ],
   "source": [
    "print(\"downloading network and buiding NiceCX...\")\n",
    "my_network = ndex2.create_nice_cx_from_server(server='public.ndexbio.org', uuid=my_network_uuid)\n",
    "#my_network = ndex2.create_nice_cx_from_server(server='public.ndexbio.org', uuid=my_network_uuid, account=my_account, password = my_password)\n",
    "print(\"done\")\n",
    "print(my_network.get_summary())"
   ]
  },
  {
   "cell_type": "markdown",
   "metadata": {},
   "source": [
    "The plan is to modify the network by merging two node attributes into one, where the two attributes were created by loading a table of edges with source and target node colums.\n",
    "\n",
    "Steps:\n",
    "\n",
    "* Iterate over all the nodes in the network and for each one we check the values of the two \"source\" attributes. \n",
    "* Add the new attribute based on the OR of the source attributes. \n",
    "* Finally, delete the two original source attributes\n"
   ]
  },
  {
   "cell_type": "code",
   "execution_count": 29,
   "metadata": {
    "collapsed": false
   },
   "outputs": [],
   "source": [
    "# (for clarity, this example code is rather verbose)\n",
    "\n",
    "source_attribute1 = \"TYPEA\"\n",
    "source_attribute2 = \"TYPEB\"\n",
    "target_attribute = \"TYPE\"\n",
    "\n",
    "for node_id, node in my_network.nodes.items():\n",
    "    value1 = my_network.get_node_attribute(node, source_attribute1)\n",
    "    value2 = my_network.get_node_attribute(node, source_attribute2)\n",
    "    merged_value = value1 or value2\n",
    "    if merged_value:\n",
    "        my_network.set_node_attribute(node, target_attribute, merged_value)\n",
    "        my_network.remove_node_attribute(node, source_attribute1)\n",
    "        my_network.remove_node_attribute(node, source_attribute2)\n"
   ]
  },
  {
   "cell_type": "markdown",
   "metadata": {},
   "source": [
    "Spot-check the network by printing out a sample of the nodes in the modified network"
   ]
  },
  {
   "cell_type": "code",
   "execution_count": 30,
   "metadata": {
    "collapsed": false
   },
   "outputs": [
    {
     "name": "stdout",
     "output_type": "stream",
     "text": [
      "PtdIns3P: TYPE = smallmolecule\n",
      "prostaglandin D2: TYPE = smallmolecule\n",
      "Prostacycline: TYPE = smallmolecule\n",
      "INPP4B: TYPE = protein\n",
      "Leukotriene A4: TYPE = smallmolecule\n"
     ]
    }
   ],
   "source": [
    "for id, node in itertools.islice(my_network.get_nodes(), 5):\n",
    "    attribute_value = my_network.get_node_attribute(node, target_attribute)\n",
    "    print(\"%s: %s = %s\" % (node.get_name(), target_attribute, attribute_value))\n"
   ]
  },
  {
   "cell_type": "markdown",
   "metadata": {},
   "source": [
    "Upload the network to your NDEx account as a new network.\n",
    "\n",
    "If you started by loading an one of your networks (such as a clone of the example network), then you can *update* it instead, overwriting its content. \n",
    "\n",
    "In the commented line of below, the optional parameter *update_uuid* specifies the update behavior."
   ]
  },
  {
   "cell_type": "code",
   "execution_count": 31,
   "metadata": {
    "collapsed": false
   },
   "outputs": [
    {
     "name": "stdout",
     "output_type": "stream",
     "text": [
      "http://public.ndexbio.org/v2/network/ab1304da-bf87-11e7-ad58-0ac135e8bacf\n"
     ]
    }
   ],
   "source": [
    "upload_message = my_network.upload_to(my_server, my_account, my_password)\n",
    "# upload_message = my_network.upload(my_server, my_account, my_password, update_uuid=my_network_uuid)\n",
    "print(upload_message)"
   ]
  },
  {
   "cell_type": "code",
   "execution_count": null,
   "metadata": {
    "collapsed": true
   },
   "outputs": [],
   "source": []
  }
 ],
 "metadata": {
  "anaconda-cloud": {},
  "kernelspec": {
   "display_name": "Python [py36]",
   "language": "python",
   "name": "Python [py36]"
  },
  "language_info": {
   "codemirror_mode": {
    "name": "ipython",
    "version": 3
   },
   "file_extension": ".py",
   "mimetype": "text/x-python",
   "name": "python",
   "nbconvert_exporter": "python",
   "pygments_lexer": "ipython3",
   "version": "3.6.1"
  }
 },
 "nbformat": 4,
 "nbformat_minor": 0
}
