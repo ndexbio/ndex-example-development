{
 "cells": [
  {
   "cell_type": "markdown",
   "metadata": {},
   "source": [
    "Sign in to NDEx\n",
    "Load an OBO file\n",
    "Buid a derived NdexGraph\n",
    "Save to NDEx"
   ]
  },
  {
   "cell_type": "markdown",
   "metadata": {},
   "source": [
    "This example uses pronto for OBO file parsing"
   ]
  },
  {
   "cell_type": "code",
   "execution_count": 1,
   "metadata": {},
   "outputs": [],
   "source": [
    "import ndex.client as nc\n",
    "import pronto\n",
    "from IPython.display import clear_output\n",
    "from IPython.display import display\n",
    "from IPython.display import Image\n",
    "from IPython.display import HTML\n",
    "\n",
    "import ipywidgets as widgets"
   ]
  },
  {
   "cell_type": "code",
   "execution_count": 5,
   "metadata": {},
   "outputs": [
    {
     "name": "stdout",
     "output_type": "stream",
     "text": [
      "username = drh\n",
      "password = drh\n",
      "connected as drh\n",
      "ndex has 3223 networks\n"
     ]
    }
   ],
   "source": [
    "username = False\n",
    "password = False\n",
    "my_ndex = False\n",
    "\n",
    "username_widget = widgets.Text(description=\"username\")\n",
    "display(username_widget)\n",
    "password_widget = widgets.Text(description=\"password\")\n",
    "display(password_widget)\n",
    "\n",
    "def handle_submit(sender):\n",
    "    if sender.description == \"username\":\n",
    "        print(\"username = %s\" % sender.value)\n",
    "        \n",
    "    if sender.description == \"password\":\n",
    "        password = sender.value\n",
    "        print(\"password = %s\" % password)\n",
    "        \n",
    "    if username_widget.value and password_widget.value:\n",
    "        my_ndex=nc.Ndex(\"http://public.ndexbio.org\", username_widget.value, password_widget.value)\n",
    "        print(\"connected as %s\" % username_widget.value)\n",
    "        my_ndex.update_status()\n",
    "        network_count = my_ndex.status.get(\"networkCount\")\n",
    "        print(\"ndex has %s networks\" % network_count)\n",
    "        \n",
    "username_widget.on_submit(handle_submit)\n",
    "password_widget.on_submit(handle_submit)"
   ]
  },
  {
   "cell_type": "markdown",
   "metadata": {},
   "source": [
    "Load the Protein Modification Ontology from an OBO file"
   ]
  },
  {
   "cell_type": "code",
   "execution_count": 6,
   "metadata": {},
   "outputs": [
    {
     "name": "stdout",
     "output_type": "stream",
     "text": [
      "DONE!\n"
     ]
    }
   ],
   "source": [
    "print(\"LOADING PSI-MOD...\")\n",
    "ontology = pronto.Ontology(\"../files/PSI-MOD.obo\")\n",
    "#ontology = pronto.Ontology(\"http://purl.obolibrary.org/obo/go/go-basic.obo\")\n",
    "clear_output()\n",
    "print(\"DONE!\")"
   ]
  },
  {
   "cell_type": "code",
   "execution_count": null,
   "metadata": {},
   "outputs": [],
   "source": [
    ""
   ]
  }
 ],
 "metadata": {
  "anaconda-cloud": {},
  "kernelspec": {
   "display_name": "Python [Root]",
   "language": "python",
   "name": "Python [Root]"
  },
  "language_info": {
   "codemirror_mode": {
    "name": "ipython",
    "version": 2.0
   },
   "file_extension": ".py",
   "mimetype": "text/x-python",
   "name": "python",
   "nbconvert_exporter": "python",
   "pygments_lexer": "ipython2",
   "version": "2.7.12"
  }
 },
 "nbformat": 4,
 "nbformat_minor": 0
}