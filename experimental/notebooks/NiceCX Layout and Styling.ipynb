{
 "cells": [
  {
   "cell_type": "markdown",
   "metadata": {
    "collapsed": true
   },
   "source": [
    "# NiceCX Layout and Styling"
   ]
  },
  {
   "cell_type": "markdown",
   "metadata": {},
   "source": [
    "### Import Packages"
   ]
  },
  {
   "cell_type": "code",
   "execution_count": 1,
   "metadata": {
    "collapsed": false
   },
   "outputs": [],
   "source": [
    "import ndex2\n",
    "import networkx as nx"
   ]
  },
  {
   "cell_type": "markdown",
   "metadata": {},
   "source": [
    "In this tutorial, we will show you to use the NetworkN toolbox. The toolbox allows you to load information from a text file and convert it to a network, add information to a network, and change its layout based off of a Cytoscape Styling. NetworkN's toolbox requires Python 2.7.9 and the latest version of the PIP Python package manager for installation. For further details on installing and using the NDEx module, see the NDEx Client Tutorial."
   ]
  },
  {
   "cell_type": "code",
   "execution_count": 2,
   "metadata": {
    "collapsed": true
   },
   "outputs": [],
   "source": [
    "my_server = 'public.ndexbio.org'\n",
    "my_username = \"drh\"\n",
    "my_password = \"drh\""
   ]
  },
  {
   "cell_type": "markdown",
   "metadata": {},
   "source": [
    "### Load a Network"
   ]
  },
  {
   "cell_type": "code",
   "execution_count": 3,
   "metadata": {
    "collapsed": false
   },
   "outputs": [
    {
     "name": "stdout",
     "output_type": "stream",
     "text": [
      "downloading network and buiding NiceCX...\n",
      "done\n",
      "Name: ITCR Connectivity Map\n",
      "Nodes: 36\n",
      "Edges: 81\n",
      "Node Attributes: 0\n",
      "Edge Attributes: 241\n",
      "\n"
     ]
    }
   ],
   "source": [
    "my_network_uuid = '04c0a7e8-af92-11e7-94d3-0ac135e8bacf'\n",
    "print(\"downloading network and buiding NiceCX...\")\n",
    "my_network = ndex2.create_nice_cx_from_server(server='public.ndexbio.org', uuid=my_network_uuid)\n",
    "#my_network = ndex2.create_nice_cx_from_server(server='public.ndexbio.org', uuid=my_network_uuid, account=my_account, password = my_password)\n",
    "print(\"done\")\n",
    "print(my_network.get_summary())"
   ]
  },
  {
   "cell_type": "markdown",
   "metadata": {
    "collapsed": true
   },
   "source": [
    "### Apply Cytoscape Visual Properties from a Template Network"
   ]
  },
  {
   "cell_type": "markdown",
   "metadata": {},
   "source": [
    "Cytoscape has options for styling your graph such as coloration, directional arrow design, etc. NiceCX provides a method to style a network with the Cytoscape Visual Properties of another network. \n",
    "\n",
    "For this exercise, we use the \"tutorial_template\" network from the NDEx Tutorials account that was designed as a template. "
   ]
  },
  {
   "cell_type": "markdown",
   "metadata": {},
   "source": [
    "tutorial_template uses the attribute 'st_layout' to determine the coloration of your nodes. Also, the edges are directed (there are arrows pointing in a direction) depending on how you created each edge. The first node that you list points to the second node. This is what the template looks like:"
   ]
  },
  {
   "cell_type": "code",
   "execution_count": 4,
   "metadata": {
    "collapsed": false
   },
   "outputs": [],
   "source": [
    "template_id = '4f53171c-600f-11e6-b0a6-06603eb7f303'\n",
    "my_network.apply_template(username=my_username, password=my_password, server=my_server, uuid=template_id)"
   ]
  },
  {
   "cell_type": "markdown",
   "metadata": {},
   "source": [
    "### Use NetworkX to Apply a Graph Layout"
   ]
  },
  {
   "cell_type": "markdown",
   "metadata": {},
   "source": [
    "Create a NetworkX graph based on my_network"
   ]
  },
  {
   "cell_type": "code",
   "execution_count": 5,
   "metadata": {
    "collapsed": false,
    "scrolled": true
   },
   "outputs": [],
   "source": [
    "my_networkx = my_network.to_networkx()"
   ]
  },
  {
   "cell_type": "markdown",
   "metadata": {},
   "source": [
    "Perform a spring-force layout with NetworkX"
   ]
  },
  {
   "cell_type": "code",
   "execution_count": 6,
   "metadata": {
    "collapsed": false
   },
   "outputs": [],
   "source": [
    "#nx.drawing.spring_layout(my_networkx)\n",
    "pos = nx.drawing.circular_layout(my_networkx)"
   ]
  },
  {
   "cell_type": "markdown",
   "metadata": {},
   "source": [
    "Get the my_networkx node coordinates and transform to the cartesianCoordinates aspect of my_network"
   ]
  },
  {
   "cell_type": "markdown",
   "metadata": {},
   "source": [
    "### Upload The Formatted Network"
   ]
  },
  {
   "cell_type": "markdown",
   "metadata": {},
   "source": [
    "Upload my_network to your NDEx account as a new network.\n",
    "\n",
    "If you started by loading an one of your networks (such as a clone of the example network), then you can *update* it instead, overwriting its content. \n",
    "\n",
    "In the commented line below, the optional parameter *update_uuid* specifies the update behavior."
   ]
  },
  {
   "cell_type": "code",
   "execution_count": 7,
   "metadata": {
    "collapsed": false
   },
   "outputs": [
    {
     "name": "stdout",
     "output_type": "stream",
     "text": [
      "http://public.ndexbio.org/v2/network/9a59433f-ce31-11e7-adc1-0ac135e8bacf\n"
     ]
    }
   ],
   "source": [
    "upload_message = my_network.upload_to(my_server, my_username, my_password)\n",
    "# upload_message = my_network.upload_to(my_server, my_account, my_password, update_uuid=my_network_uuid)\n",
    "print(upload_message)"
   ]
  },
  {
   "cell_type": "code",
   "execution_count": null,
   "metadata": {
    "collapsed": true
   },
   "outputs": [],
   "source": []
  }
 ],
 "metadata": {
  "kernelspec": {
   "display_name": "Python 2",
   "language": "python",
   "name": "python2"
  },
  "language_info": {
   "codemirror_mode": {
    "name": "ipython",
    "version": 2
   },
   "file_extension": ".py",
   "mimetype": "text/x-python",
   "name": "python",
   "nbconvert_exporter": "python",
   "pygments_lexer": "ipython2",
   "version": "2.7.13"
  }
 },
 "nbformat": 4,
 "nbformat_minor": 0
}
